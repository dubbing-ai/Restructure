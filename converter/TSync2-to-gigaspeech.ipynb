{
 "cells": [
  {
   "cell_type": "markdown",
   "metadata": {},
   "source": [
    "# Import libraries"
   ]
  },
  {
   "cell_type": "code",
   "execution_count": 1,
   "metadata": {},
   "outputs": [],
   "source": [
    "from dotenv import load_dotenv\n",
    "import os\n",
    "import random\n",
    "from tqdm import tqdm\n",
    "import io\n",
    "import soundfile as sf\n",
    "\n",
    "from huggingface_hub import login\n",
    "\n",
    "from datasets import Dataset, DatasetDict, Audio, load_dataset\n",
    "\n",
    "import sys\n",
    "sys.path.append('..')\n",
    "from utils.audio_util import resample_audios, trim_silence_with_vad\n",
    "from utils.file_util import recursive_copy"
   ]
  },
  {
   "cell_type": "markdown",
   "metadata": {},
   "source": [
    "# Huggingface Login"
   ]
  },
  {
   "cell_type": "code",
   "execution_count": 2,
   "metadata": {},
   "outputs": [],
   "source": [
    "load_dotenv()\n",
    "HF_TOKEN = os.getenv(\"HUGGINGFACE_TOKEN\")\n",
    "\n",
    "login(token=HF_TOKEN)"
   ]
  },
  {
   "cell_type": "markdown",
   "metadata": {},
   "source": [
    "# Load Gigaspeech"
   ]
  },
  {
   "cell_type": "code",
   "execution_count": 3,
   "metadata": {},
   "outputs": [
    {
     "data": {
      "application/vnd.jupyter.widget-view+json": {
       "model_id": "6f92dd29dfca41e29f24a6b3c70aa604",
       "version_major": 2,
       "version_minor": 0
      },
      "text/plain": [
       "README.md:   0%|          | 0.00/14.0k [00:00<?, ?B/s]"
      ]
     },
     "metadata": {},
     "output_type": "display_data"
    },
    {
     "name": "stderr",
     "output_type": "stream",
     "text": [
      "c:\\Users\\Ming\\anaconda3\\envs\\voicecraft\\lib\\site-packages\\huggingface_hub\\file_download.py:140: UserWarning: `huggingface_hub` cache-system uses symlinks by default to efficiently store duplicated files but your machine does not support them in C:\\Users\\Ming\\.cache\\huggingface\\hub\\datasets--speechcolab--gigaspeech. Caching files will still work but in a degraded version that might require more space on your disk. This warning can be disabled by setting the `HF_HUB_DISABLE_SYMLINKS_WARNING` environment variable. For more details, see https://huggingface.co/docs/huggingface_hub/how-to-cache#limitations.\n",
      "To support symlinks on Windows, you either need to activate Developer Mode or to run Python as an administrator. In order to activate developer mode, see this article: https://docs.microsoft.com/en-us/windows/apps/get-started/enable-your-device-for-development\n",
      "  warnings.warn(message)\n"
     ]
    },
    {
     "data": {
      "application/vnd.jupyter.widget-view+json": {
       "model_id": "39e149ee0b5546b09d5c61431e7c464d",
       "version_major": 2,
       "version_minor": 0
      },
      "text/plain": [
       "gigaspeech.py:   0%|          | 0.00/16.6k [00:00<?, ?B/s]"
      ]
     },
     "metadata": {},
     "output_type": "display_data"
    },
    {
     "name": "stdout",
     "output_type": "stream",
     "text": [
      "DatasetDict({\n",
      "    train: Dataset({\n",
      "        features: ['segment_id', 'speaker', 'text', 'audio', 'begin_time', 'end_time', 'audio_id', 'title', 'url', 'source', 'category', 'original_full_path'],\n",
      "        num_rows: 9389\n",
      "    })\n",
      "    validation: Dataset({\n",
      "        features: ['segment_id', 'speaker', 'text', 'audio', 'begin_time', 'end_time', 'audio_id', 'title', 'url', 'source', 'category', 'original_full_path'],\n",
      "        num_rows: 6750\n",
      "    })\n",
      "    test: Dataset({\n",
      "        features: ['segment_id', 'speaker', 'text', 'audio', 'begin_time', 'end_time', 'audio_id', 'title', 'url', 'source', 'category', 'original_full_path'],\n",
      "        num_rows: 25619\n",
      "    })\n",
      "})\n"
     ]
    }
   ],
   "source": [
    "dataset_path = 'speechcolab/gigaspeech'\n",
    "cached_path = '../data/raw/gigaspeech'\n",
    "\n",
    "gigaspeech = load_dataset(path=dataset_path, name='xs', cache_dir=cached_path)\n",
    "print(gigaspeech)"
   ]
  },
  {
   "cell_type": "code",
   "execution_count": 5,
   "metadata": {},
   "outputs": [
    {
     "name": "stdout",
     "output_type": "stream",
     "text": [
      "{'segment_id': 'YOU0000000315_S0000660', 'speaker': 'N/A', 'text': \"AS THEY'RE LEAVING <COMMA> CAN KASH PULL ZAHRA ASIDE REALLY QUICKLY <QUESTIONMARK>\", 'audio': {'path': '../data/raw/gigaspeech/downloads\\\\extracted\\\\38fe4c94b1b1d9e64fdcb1171e0c934e20120f08c7da8e780122cf1a55df4cc7\\\\xs_chunks_0000/YOU0000000315_S0000660.wav', 'array': array([0.0005188 , 0.00085449, 0.00012207, ..., 0.00125122, 0.00076294,\n",
      "       0.00036621]), 'sampling_rate': 16000}, 'begin_time': 2941.889892578125, 'end_time': 2945.070068359375, 'audio_id': 'YOU0000000315', 'title': 'Return to Vasselheim | Critical Role: VOX MACHINA | Episode 43', 'url': 'https://www.youtube.com/watch?v=zr2n1fLVasU', 'source': 2, 'category': 24, 'original_full_path': 'audio/youtube/P0004/YOU0000000315.opus'}\n",
      "16000\n"
     ]
    }
   ],
   "source": [
    "# print samples\n",
    "print(gigaspeech['train'][0])\n",
    "print(gigaspeech['train'][0]['audio']['sampling_rate']) "
   ]
  },
  {
   "cell_type": "markdown",
   "metadata": {},
   "source": [
    "# Load TSync2"
   ]
  },
  {
   "cell_type": "code",
   "execution_count": 5,
   "metadata": {},
   "outputs": [
    {
     "name": "stdout",
     "output_type": "stream",
     "text": [
      "TSync2 has 2710 audio files\n"
     ]
    }
   ],
   "source": [
    "tsync2_path = '../data/raw/TSync2'\n",
    "\n",
    "wav_files = sorted(os.listdir(f'{tsync2_path}/wav'))\n",
    "wrd_ph_files = sorted(os.listdir(f'{tsync2_path}/wrd_ph'))\n",
    "\n",
    "assert len(wav_files) == len(wrd_ph_files)\n",
    "\n",
    "len_tsync2 = len(wav_files)\n",
    "print(f'TSync2 has {len_tsync2} audio files')"
   ]
  },
  {
   "cell_type": "code",
   "execution_count": 6,
   "metadata": {},
   "outputs": [],
   "source": [
    "# shuffle pairs\n",
    "random.seed(42)\n",
    "combined = list(zip(wav_files, wrd_ph_files))\n",
    "random.shuffle(combined)"
   ]
  },
  {
   "cell_type": "code",
   "execution_count": 7,
   "metadata": {},
   "outputs": [
    {
     "name": "stdout",
     "output_type": "stream",
     "text": [
      "Train: 2168 Val: 271 Test: 271\n"
     ]
    }
   ],
   "source": [
    "# split train test val\n",
    "train_val_test = [0.8, 0.1, 0.1] # adjust these values to change the split\n",
    "train_size = int(len_tsync2 * train_val_test[0])\n",
    "val_size = int(len_tsync2 * train_val_test[1])\n",
    "test_size = len_tsync2 - train_size - val_size\n",
    "\n",
    "train_files = combined[:train_size]\n",
    "val_files = combined[train_size:train_size + val_size]\n",
    "test_files = combined[train_size + val_size:]\n",
    "\n",
    "print(f'Train: {len(train_files)} Val: {len(val_files)} Test: {len(test_files)}')"
   ]
  },
  {
   "cell_type": "markdown",
   "metadata": {},
   "source": [
    "# Preprocess the audio files"
   ]
  },
  {
   "cell_type": "code",
   "execution_count": null,
   "metadata": {},
   "outputs": [],
   "source": [
    "!find \"../data/raw/TSync2/wav\" -type f -name \"*.wav\" -exec sh -c 'ffmpeg -i \"$1\" -c:a pcm_mulaw \"${1%.wav}.tmp.wav\" && mv \"${1%.wav}.tmp.wav\" \"$1\"' _ {} \\;"
   ]
  },
  {
   "cell_type": "code",
   "execution_count": 10,
   "metadata": {},
   "outputs": [],
   "source": [
    "# Create destination directory if it doesn't exist\n",
    "os.makedirs(\"../data/converted/TSync2-to-gigaspeech/wav16_silence_trimmed\", exist_ok=True)\n",
    "\n",
    "# Copy all files from wav32 to wav16_silence_trimmed\n",
    "src_dir = \"../data/raw/TSync2/wav\"\n",
    "dst_dir = \"../data/converted/TSync2-to-gigaspeech/wav16_silence_trimmed\"\n",
    "\n",
    "recursive_copy(src_dir, dst_dir)"
   ]
  },
  {
   "cell_type": "code",
   "execution_count": 11,
   "metadata": {},
   "outputs": [
    {
     "name": "stdout",
     "output_type": "stream",
     "text": [
      "Resampling the audio files...\n",
      "Found 2710 files...\n"
     ]
    },
    {
     "name": "stderr",
     "output_type": "stream",
     "text": [
      "100%|██████████| 2710/2710 [00:07<00:00, 382.73it/s]"
     ]
    },
    {
     "name": "stdout",
     "output_type": "stream",
     "text": [
      "Done !\n"
     ]
    },
    {
     "name": "stderr",
     "output_type": "stream",
     "text": [
      "\n"
     ]
    }
   ],
   "source": [
    "# Resample all files in wav16_silence_trimmed to 16kHz\n",
    "SAMPLE_RATE = 16000\n",
    "NUM_RESAMPLE_THREADS = 4\n",
    "\n",
    "resample_audios(\n",
    "  input_folders=dst_dir,\n",
    "  file_ext=\"wav\",\n",
    "  sample_rate=SAMPLE_RATE,\n",
    "  n_jobs=NUM_RESAMPLE_THREADS\n",
    ")"
   ]
  },
  {
   "cell_type": "code",
   "execution_count": 12,
   "metadata": {},
   "outputs": [
    {
     "name": "stderr",
     "output_type": "stream",
     "text": [
      "Downloading: \"https://github.com/snakers4/silero-vad/zipball/master\" to /Users/titor/.cache/torch/hub/master.zip\n"
     ]
    },
    {
     "name": "stdout",
     "output_type": "stream",
     "text": [
      "Found 2710 .wav files to process\n"
     ]
    },
    {
     "name": "stderr",
     "output_type": "stream",
     "text": [
      "Processing files:   1%|          | 22/2710 [00:00<01:35, 28.17it/s]"
     ]
    },
    {
     "name": "stdout",
     "output_type": "stream",
     "text": [
      "> The file ../data/converted/TSync2-to-gigaspeech/wav16_silence_trimmed/tsync2_noon_99_004.wav probably does not have speech please check it !!\n"
     ]
    },
    {
     "name": "stderr",
     "output_type": "stream",
     "text": [
      "Processing files:   2%|▏         | 49/2710 [00:01<01:27, 30.26it/s]"
     ]
    },
    {
     "name": "stdout",
     "output_type": "stream",
     "text": [
      "> The file ../data/converted/TSync2-to-gigaspeech/wav16_silence_trimmed/tsync2_noon_99_212.wav probably does not have speech please check it !!\n",
      "> The file ../data/converted/TSync2-to-gigaspeech/wav16_silence_trimmed/tsync2_noon_99_206.wav probably does not have speech please check it !!\n"
     ]
    },
    {
     "name": "stderr",
     "output_type": "stream",
     "text": [
      "Processing files:   2%|▏         | 65/2710 [00:02<01:39, 26.48it/s]"
     ]
    },
    {
     "name": "stdout",
     "output_type": "stream",
     "text": [
      "> The file ../data/converted/TSync2-to-gigaspeech/wav16_silence_trimmed/tsync2_noon_99_366.wav probably does not have speech please check it !!\n"
     ]
    },
    {
     "name": "stderr",
     "output_type": "stream",
     "text": [
      "Processing files:   4%|▍         | 116/2710 [00:04<01:26, 29.90it/s]"
     ]
    },
    {
     "name": "stdout",
     "output_type": "stream",
     "text": [
      "> The file ../data/converted/TSync2-to-gigaspeech/wav16_silence_trimmed/tsync2_noon_99_373.wav probably does not have speech please check it !!\n",
      "> The file ../data/converted/TSync2-to-gigaspeech/wav16_silence_trimmed/tsync2_noon_99_415.wav probably does not have speech please check it !!\n"
     ]
    },
    {
     "name": "stderr",
     "output_type": "stream",
     "text": [
      "Processing files:   5%|▌         | 147/2710 [00:05<01:33, 27.33it/s]"
     ]
    },
    {
     "name": "stdout",
     "output_type": "stream",
     "text": [
      "> The file ../data/converted/TSync2-to-gigaspeech/wav16_silence_trimmed/tsync2_noon_99_011.wav probably does not have speech please check it !!\n"
     ]
    },
    {
     "name": "stderr",
     "output_type": "stream",
     "text": [
      "Processing files:   8%|▊         | 222/2710 [00:09<01:47, 23.15it/s]"
     ]
    },
    {
     "name": "stdout",
     "output_type": "stream",
     "text": [
      "> The file ../data/converted/TSync2-to-gigaspeech/wav16_silence_trimmed/tsync2_noon_99_403.wav probably does not have speech please check it !!\n"
     ]
    },
    {
     "name": "stderr",
     "output_type": "stream",
     "text": [
      "Processing files:   9%|▉         | 244/2710 [00:10<01:21, 30.20it/s]"
     ]
    },
    {
     "name": "stdout",
     "output_type": "stream",
     "text": [
      "> The file ../data/converted/TSync2-to-gigaspeech/wav16_silence_trimmed/tsync2_noon_99_172.wav probably does not have speech please check it !!\n"
     ]
    },
    {
     "name": "stderr",
     "output_type": "stream",
     "text": [
      "Processing files:  10%|▉         | 268/2710 [00:11<01:29, 27.24it/s]"
     ]
    },
    {
     "name": "stdout",
     "output_type": "stream",
     "text": [
      "> The file ../data/converted/TSync2-to-gigaspeech/wav16_silence_trimmed/tsync2_noon_99_370.wav probably does not have speech please check it !!\n"
     ]
    },
    {
     "name": "stderr",
     "output_type": "stream",
     "text": [
      "Processing files:  13%|█▎        | 354/2710 [00:15<01:35, 24.71it/s]"
     ]
    },
    {
     "name": "stdout",
     "output_type": "stream",
     "text": [
      "> The file ../data/converted/TSync2-to-gigaspeech/wav16_silence_trimmed/tsync2_noon_99_200.wav probably does not have speech please check it !!\n"
     ]
    },
    {
     "name": "stderr",
     "output_type": "stream",
     "text": [
      "Processing files:  16%|█▌        | 425/2710 [00:17<01:15, 30.31it/s]"
     ]
    },
    {
     "name": "stdout",
     "output_type": "stream",
     "text": [
      "> The file ../data/converted/TSync2-to-gigaspeech/wav16_silence_trimmed/tsync2_noon_99_407.wav probably does not have speech please check it !!\n"
     ]
    },
    {
     "name": "stderr",
     "output_type": "stream",
     "text": [
      "Processing files:  17%|█▋        | 473/2710 [00:19<01:28, 25.17it/s]"
     ]
    },
    {
     "name": "stdout",
     "output_type": "stream",
     "text": [
      "> The file ../data/converted/TSync2-to-gigaspeech/wav16_silence_trimmed/tsync2_noon_99_003.wav probably does not have speech please check it !!\n"
     ]
    },
    {
     "name": "stderr",
     "output_type": "stream",
     "text": [
      "Processing files:  18%|█▊        | 497/2710 [00:20<01:17, 28.47it/s]"
     ]
    },
    {
     "name": "stdout",
     "output_type": "stream",
     "text": [
      "> The file ../data/converted/TSync2-to-gigaspeech/wav16_silence_trimmed/tsync2_noon_99_001.wav probably does not have speech please check it !!\n"
     ]
    },
    {
     "name": "stderr",
     "output_type": "stream",
     "text": [
      "Processing files:  27%|██▋       | 731/2710 [00:30<01:13, 26.80it/s]"
     ]
    },
    {
     "name": "stdout",
     "output_type": "stream",
     "text": [
      "> The file ../data/converted/TSync2-to-gigaspeech/wav16_silence_trimmed/tsync2_noon_99_462.wav probably does not have speech please check it !!\n"
     ]
    },
    {
     "name": "stderr",
     "output_type": "stream",
     "text": [
      "Processing files:  29%|██▉       | 781/2710 [00:32<01:10, 27.20it/s]"
     ]
    },
    {
     "name": "stdout",
     "output_type": "stream",
     "text": [
      "> The file ../data/converted/TSync2-to-gigaspeech/wav16_silence_trimmed/tsync2_noon_99_099.wav probably does not have speech please check it !!\n"
     ]
    },
    {
     "name": "stderr",
     "output_type": "stream",
     "text": [
      "Processing files:  30%|███       | 821/2710 [00:34<01:15, 24.90it/s]"
     ]
    },
    {
     "name": "stdout",
     "output_type": "stream",
     "text": [
      "> The file ../data/converted/TSync2-to-gigaspeech/wav16_silence_trimmed/tsync2_noon_99_500.wav probably does not have speech please check it !!\n",
      "> The file ../data/converted/TSync2-to-gigaspeech/wav16_silence_trimmed/tsync2_noon_99_514.wav probably does not have speech please check it !!\n"
     ]
    },
    {
     "name": "stderr",
     "output_type": "stream",
     "text": [
      "Processing files:  32%|███▏      | 872/2710 [00:36<01:24, 21.75it/s]"
     ]
    },
    {
     "name": "stdout",
     "output_type": "stream",
     "text": [
      "> The file ../data/converted/TSync2-to-gigaspeech/wav16_silence_trimmed/tsync2_noon_99_111.wav probably does not have speech please check it !!\n"
     ]
    },
    {
     "name": "stderr",
     "output_type": "stream",
     "text": [
      "Processing files:  33%|███▎      | 896/2710 [00:37<01:18, 23.01it/s]"
     ]
    },
    {
     "name": "stdout",
     "output_type": "stream",
     "text": [
      "> The file ../data/converted/TSync2-to-gigaspeech/wav16_silence_trimmed/tsync2_noon_99_475.wav probably does not have speech please check it !!\n"
     ]
    },
    {
     "name": "stderr",
     "output_type": "stream",
     "text": [
      "Processing files:  35%|███▍      | 940/2710 [00:39<01:28, 19.96it/s]"
     ]
    },
    {
     "name": "stdout",
     "output_type": "stream",
     "text": [
      "> The file ../data/converted/TSync2-to-gigaspeech/wav16_silence_trimmed/tsync2_noon_99_059.wav probably does not have speech please check it !!\n"
     ]
    },
    {
     "name": "stderr",
     "output_type": "stream",
     "text": [
      "Processing files:  36%|███▌      | 979/2710 [00:41<01:16, 22.71it/s]"
     ]
    },
    {
     "name": "stdout",
     "output_type": "stream",
     "text": [
      "> The file ../data/converted/TSync2-to-gigaspeech/wav16_silence_trimmed/tsync2_noon_99_263.wav probably does not have speech please check it !!\n"
     ]
    },
    {
     "name": "stderr",
     "output_type": "stream",
     "text": [
      "Processing files:  37%|███▋      | 1006/2710 [00:43<01:14, 22.98it/s]"
     ]
    },
    {
     "name": "stdout",
     "output_type": "stream",
     "text": [
      "> The file ../data/converted/TSync2-to-gigaspeech/wav16_silence_trimmed/tsync2_noon_99_317.wav probably does not have speech please check it !!\n"
     ]
    },
    {
     "name": "stderr",
     "output_type": "stream",
     "text": [
      "Processing files:  38%|███▊      | 1033/2710 [00:44<00:54, 30.63it/s]"
     ]
    },
    {
     "name": "stdout",
     "output_type": "stream",
     "text": [
      "> The file ../data/converted/TSync2-to-gigaspeech/wav16_silence_trimmed/tsync2_noon_99_129.wav probably does not have speech please check it !!\n"
     ]
    },
    {
     "name": "stderr",
     "output_type": "stream",
     "text": [
      "Processing files:  40%|███▉      | 1080/2710 [00:46<01:08, 23.92it/s]"
     ]
    },
    {
     "name": "stdout",
     "output_type": "stream",
     "text": [
      "> The file ../data/converted/TSync2-to-gigaspeech/wav16_silence_trimmed/tsync2_noon_99_262.wav probably does not have speech please check it !!\n"
     ]
    },
    {
     "name": "stderr",
     "output_type": "stream",
     "text": [
      "Processing files:  41%|████      | 1101/2710 [00:47<00:58, 27.44it/s]"
     ]
    },
    {
     "name": "stdout",
     "output_type": "stream",
     "text": [
      "> The file ../data/converted/TSync2-to-gigaspeech/wav16_silence_trimmed/tsync2_noon_99_074.wav probably does not have speech please check it !!\n",
      "> The file ../data/converted/TSync2-to-gigaspeech/wav16_silence_trimmed/tsync2_noon_99_060.wav probably does not have speech please check it !!\n"
     ]
    },
    {
     "name": "stderr",
     "output_type": "stream",
     "text": [
      "Processing files:  42%|████▏     | 1150/2710 [00:49<01:15, 20.79it/s]"
     ]
    },
    {
     "name": "stdout",
     "output_type": "stream",
     "text": [
      "> The file ../data/converted/TSync2-to-gigaspeech/wav16_silence_trimmed/tsync2_noon_99_260.wav probably does not have speech please check it !!\n"
     ]
    },
    {
     "name": "stderr",
     "output_type": "stream",
     "text": [
      "Processing files:  45%|████▌     | 1231/2710 [00:53<01:01, 23.97it/s]"
     ]
    },
    {
     "name": "stdout",
     "output_type": "stream",
     "text": [
      "> The file ../data/converted/TSync2-to-gigaspeech/wav16_silence_trimmed/tsync2_noon_99_473.wav probably does not have speech please check it !!\n"
     ]
    },
    {
     "name": "stderr",
     "output_type": "stream",
     "text": [
      "Processing files:  46%|████▌     | 1251/2710 [00:54<00:55, 26.35it/s]"
     ]
    },
    {
     "name": "stdout",
     "output_type": "stream",
     "text": [
      "> The file ../data/converted/TSync2-to-gigaspeech/wav16_silence_trimmed/tsync2_noon_99_261.wav probably does not have speech please check it !!\n"
     ]
    },
    {
     "name": "stderr",
     "output_type": "stream",
     "text": [
      "Processing files:  49%|████▊     | 1317/2710 [00:57<00:59, 23.47it/s]"
     ]
    },
    {
     "name": "stdout",
     "output_type": "stream",
     "text": [
      "> The file ../data/converted/TSync2-to-gigaspeech/wav16_silence_trimmed/tsync2_noon_99_287.wav probably does not have speech please check it !!\n"
     ]
    },
    {
     "name": "stderr",
     "output_type": "stream",
     "text": [
      "Processing files:  49%|████▉     | 1330/2710 [00:57<00:49, 27.67it/s]"
     ]
    },
    {
     "name": "stdout",
     "output_type": "stream",
     "text": [
      "> The file ../data/converted/TSync2-to-gigaspeech/wav16_silence_trimmed/tsync2_noon_99_278.wav probably does not have speech please check it !!\n",
      "> The file ../data/converted/TSync2-to-gigaspeech/wav16_silence_trimmed/tsync2_noon_99_250.wav probably does not have speech please check it !!\n"
     ]
    },
    {
     "name": "stderr",
     "output_type": "stream",
     "text": [
      "Processing files:  51%|█████     | 1373/2710 [00:59<00:48, 27.35it/s]"
     ]
    },
    {
     "name": "stdout",
     "output_type": "stream",
     "text": [
      "> The file ../data/converted/TSync2-to-gigaspeech/wav16_silence_trimmed/tsync2_noon_99_127.wav probably does not have speech please check it !!\n"
     ]
    },
    {
     "name": "stderr",
     "output_type": "stream",
     "text": [
      "Processing files:  51%|█████     | 1387/2710 [00:59<00:49, 26.71it/s]"
     ]
    },
    {
     "name": "stdout",
     "output_type": "stream",
     "text": [
      "> The file ../data/converted/TSync2-to-gigaspeech/wav16_silence_trimmed/tsync2_noon_99_457.wav probably does not have speech please check it !!\n"
     ]
    },
    {
     "name": "stderr",
     "output_type": "stream",
     "text": [
      "Processing files:  54%|█████▎    | 1456/2710 [01:02<00:42, 29.29it/s]"
     ]
    },
    {
     "name": "stdout",
     "output_type": "stream",
     "text": [
      "> The file ../data/converted/TSync2-to-gigaspeech/wav16_silence_trimmed/tsync2_noon_99_092.wav probably does not have speech please check it !!\n"
     ]
    },
    {
     "name": "stderr",
     "output_type": "stream",
     "text": [
      "Processing files:  55%|█████▌    | 1503/2710 [01:04<00:39, 30.67it/s]"
     ]
    },
    {
     "name": "stdout",
     "output_type": "stream",
     "text": [
      "> The file ../data/converted/TSync2-to-gigaspeech/wav16_silence_trimmed/tsync2_noon_99_333.wav probably does not have speech please check it !!\n"
     ]
    },
    {
     "name": "stderr",
     "output_type": "stream",
     "text": [
      "Processing files:  57%|█████▋    | 1537/2710 [01:05<00:39, 29.33it/s]"
     ]
    },
    {
     "name": "stdout",
     "output_type": "stream",
     "text": [
      "> The file ../data/converted/TSync2-to-gigaspeech/wav16_silence_trimmed/tsync2_noon_99_131.wav probably does not have speech please check it !!\n"
     ]
    },
    {
     "name": "stderr",
     "output_type": "stream",
     "text": [
      "Processing files:  58%|█████▊    | 1572/2710 [01:07<00:53, 21.15it/s]"
     ]
    },
    {
     "name": "stdout",
     "output_type": "stream",
     "text": [
      "> The file ../data/converted/TSync2-to-gigaspeech/wav16_silence_trimmed/tsync2_noon_99_483.wav probably does not have speech please check it !!\n"
     ]
    },
    {
     "name": "stderr",
     "output_type": "stream",
     "text": [
      "Processing files:  66%|██████▌   | 1789/2710 [01:16<00:46, 19.72it/s]"
     ]
    },
    {
     "name": "stdout",
     "output_type": "stream",
     "text": [
      "> The file ../data/converted/TSync2-to-gigaspeech/wav16_silence_trimmed/tsync2_noon_99_525.wav probably does not have speech please check it !!\n"
     ]
    },
    {
     "name": "stderr",
     "output_type": "stream",
     "text": [
      "Processing files:  72%|███████▏  | 1941/2710 [01:23<00:34, 22.33it/s]"
     ]
    },
    {
     "name": "stdout",
     "output_type": "stream",
     "text": [
      "> The file ../data/converted/TSync2-to-gigaspeech/wav16_silence_trimmed/tsync2_noon_99_308.wav probably does not have speech please check it !!\n",
      "> The file ../data/converted/TSync2-to-gigaspeech/wav16_silence_trimmed/tsync2_noon_99_334.wav probably does not have speech please check it !!\n"
     ]
    },
    {
     "name": "stderr",
     "output_type": "stream",
     "text": [
      "Processing files:  72%|███████▏  | 1953/2710 [01:23<00:26, 28.64it/s]"
     ]
    },
    {
     "name": "stdout",
     "output_type": "stream",
     "text": [
      "> The file ../data/converted/TSync2-to-gigaspeech/wav16_silence_trimmed/tsync2_noon_99_446.wav probably does not have speech please check it !!\n"
     ]
    },
    {
     "name": "stderr",
     "output_type": "stream",
     "text": [
      "Processing files:  76%|███████▌  | 2054/2710 [01:28<00:36, 17.76it/s]"
     ]
    },
    {
     "name": "stdout",
     "output_type": "stream",
     "text": [
      "> The file ../data/converted/TSync2-to-gigaspeech/wav16_silence_trimmed/tsync2_noon_99_409.wav probably does not have speech please check it !!\n"
     ]
    },
    {
     "name": "stderr",
     "output_type": "stream",
     "text": [
      "Processing files:  76%|███████▋  | 2072/2710 [01:28<00:25, 25.49it/s]"
     ]
    },
    {
     "name": "stdout",
     "output_type": "stream",
     "text": [
      "> The file ../data/converted/TSync2-to-gigaspeech/wav16_silence_trimmed/tsync2_noon_99_186.wav probably does not have speech please check it !!\n"
     ]
    },
    {
     "name": "stderr",
     "output_type": "stream",
     "text": [
      "Processing files:  77%|███████▋  | 2086/2710 [01:29<00:23, 27.04it/s]"
     ]
    },
    {
     "name": "stdout",
     "output_type": "stream",
     "text": [
      "> The file ../data/converted/TSync2-to-gigaspeech/wav16_silence_trimmed/tsync2_noon_99_145.wav probably does not have speech please check it !!\n"
     ]
    },
    {
     "name": "stderr",
     "output_type": "stream",
     "text": [
      "Processing files:  78%|███████▊  | 2117/2710 [01:30<00:22, 26.63it/s]"
     ]
    },
    {
     "name": "stdout",
     "output_type": "stream",
     "text": [
      "> The file ../data/converted/TSync2-to-gigaspeech/wav16_silence_trimmed/tsync2_noon_99_434.wav probably does not have speech please check it !!\n"
     ]
    },
    {
     "name": "stderr",
     "output_type": "stream",
     "text": [
      "Processing files:  85%|████████▍ | 2297/2710 [01:38<00:15, 27.21it/s]"
     ]
    },
    {
     "name": "stdout",
     "output_type": "stream",
     "text": [
      "> The file ../data/converted/TSync2-to-gigaspeech/wav16_silence_trimmed/tsync2_noon_99_190.wav probably does not have speech please check it !!\n"
     ]
    },
    {
     "name": "stderr",
     "output_type": "stream",
     "text": [
      "Processing files:  86%|████████▌ | 2331/2710 [01:39<00:11, 33.43it/s]"
     ]
    },
    {
     "name": "stdout",
     "output_type": "stream",
     "text": [
      "> The file ../data/converted/TSync2-to-gigaspeech/wav16_silence_trimmed/tsync2_noon_99_231.wav probably does not have speech please check it !!\n"
     ]
    },
    {
     "name": "stderr",
     "output_type": "stream",
     "text": [
      "Processing files:  86%|████████▋ | 2343/2710 [01:40<00:16, 22.45it/s]"
     ]
    },
    {
     "name": "stdout",
     "output_type": "stream",
     "text": [
      "> The file ../data/converted/TSync2-to-gigaspeech/wav16_silence_trimmed/tsync2_noon_99_219.wav probably does not have speech please check it !!\n"
     ]
    },
    {
     "name": "stderr",
     "output_type": "stream",
     "text": [
      "Processing files:  89%|████████▉ | 2421/2710 [01:43<00:11, 24.43it/s]"
     ]
    },
    {
     "name": "stdout",
     "output_type": "stream",
     "text": [
      "> The file ../data/converted/TSync2-to-gigaspeech/wav16_silence_trimmed/tsync2_noon_99_433.wav probably does not have speech please check it !!\n"
     ]
    },
    {
     "name": "stderr",
     "output_type": "stream",
     "text": [
      "Processing files:  92%|█████████▏| 2488/2710 [01:45<00:09, 24.29it/s]"
     ]
    },
    {
     "name": "stdout",
     "output_type": "stream",
     "text": [
      "> The file ../data/converted/TSync2-to-gigaspeech/wav16_silence_trimmed/tsync2_noon_99_383.wav probably does not have speech please check it !!\n"
     ]
    },
    {
     "name": "stderr",
     "output_type": "stream",
     "text": [
      "Processing files:  92%|█████████▏| 2503/2710 [01:46<00:06, 29.81it/s]"
     ]
    },
    {
     "name": "stdout",
     "output_type": "stream",
     "text": [
      "> The file ../data/converted/TSync2-to-gigaspeech/wav16_silence_trimmed/tsync2_noon_99_220.wav probably does not have speech please check it !!\n"
     ]
    },
    {
     "name": "stderr",
     "output_type": "stream",
     "text": [
      "Processing files:  93%|█████████▎| 2517/2710 [01:46<00:07, 27.22it/s]"
     ]
    },
    {
     "name": "stdout",
     "output_type": "stream",
     "text": [
      "> The file ../data/converted/TSync2-to-gigaspeech/wav16_silence_trimmed/tsync2_noon_99_036.wav probably does not have speech please check it !!\n"
     ]
    },
    {
     "name": "stderr",
     "output_type": "stream",
     "text": [
      "Processing files:  94%|█████████▍| 2544/2710 [01:48<00:06, 24.89it/s]"
     ]
    },
    {
     "name": "stdout",
     "output_type": "stream",
     "text": [
      "> The file ../data/converted/TSync2-to-gigaspeech/wav16_silence_trimmed/tsync2_noon_99_008.wav probably does not have speech please check it !!\n"
     ]
    },
    {
     "name": "stderr",
     "output_type": "stream",
     "text": [
      "Processing files:  95%|█████████▍| 2562/2710 [01:48<00:05, 25.60it/s]"
     ]
    },
    {
     "name": "stdout",
     "output_type": "stream",
     "text": [
      "> The file ../data/converted/TSync2-to-gigaspeech/wav16_silence_trimmed/tsync2_noon_99_222.wav probably does not have speech please check it !!\n"
     ]
    },
    {
     "name": "stderr",
     "output_type": "stream",
     "text": [
      "Processing files:  97%|█████████▋| 2621/2710 [01:50<00:02, 31.41it/s]"
     ]
    },
    {
     "name": "stdout",
     "output_type": "stream",
     "text": [
      "> The file ../data/converted/TSync2-to-gigaspeech/wav16_silence_trimmed/tsync2_noon_99_169.wav probably does not have speech please check it !!\n"
     ]
    },
    {
     "name": "stderr",
     "output_type": "stream",
     "text": [
      "Processing files:  99%|█████████▉| 2680/2710 [01:52<00:01, 29.59it/s]"
     ]
    },
    {
     "name": "stdout",
     "output_type": "stream",
     "text": [
      "> The file ../data/converted/TSync2-to-gigaspeech/wav16_silence_trimmed/tsync2_noon_99_237.wav probably does not have speech please check it !!\n"
     ]
    },
    {
     "name": "stderr",
     "output_type": "stream",
     "text": [
      "Processing files: 100%|██████████| 2710/2710 [01:53<00:00, 23.78it/s]"
     ]
    },
    {
     "name": "stdout",
     "output_type": "stream",
     "text": [
      "\n",
      "Processing complete\n",
      "\n",
      "Found 58 files with no speech. List saved to ../data/converted/TSync2-to-gigaspeech/no_speech_files.txt\n"
     ]
    },
    {
     "name": "stderr",
     "output_type": "stream",
     "text": [
      "\n"
     ]
    }
   ],
   "source": [
    "# Trim silence at the beginning and end of each audio file\n",
    "trim_silence_with_vad(\n",
    "  input_folder=dst_dir,\n",
    "  file_extension=\"wav\",\n",
    ")"
   ]
  },
  {
   "cell_type": "code",
   "execution_count": 13,
   "metadata": {},
   "outputs": [],
   "source": [
    "# Normalize the volume of all audio files to -27dB\n",
    "!find \"../data/converted/TSync2-to-gigaspeech/wav16_silence_trimmed\" -type f -name \"*.wav\" -exec sh -c 'ffmpeg-normalize \"$1\" -nt rms -t=-27 -o \"$1\" -ar 16000 -f' _ {} \\;"
   ]
  },
  {
   "cell_type": "markdown",
   "metadata": {},
   "source": [
    "# Format Dataset"
   ]
  },
  {
   "cell_type": "code",
   "execution_count": 14,
   "metadata": {},
   "outputs": [],
   "source": [
    "def load_data(filepairs):\n",
    "    features = ['segment_id', 'speaker', 'text', 'audio', 'begin_time', 'end_time', 'audio_id', 'title', 'url', 'source', 'category', 'original_full_path']\n",
    "    data = {f: [] for f in features}\n",
    "\n",
    "    for wav_file, wrd_ph_file in tqdm(filepairs):\n",
    "\n",
    "        file_name = wav_file.split('.')[0]\n",
    "        \n",
    "        segment_id = file_name\n",
    "        speaker = 'Noon'\n",
    "\n",
    "        with open(f'{tsync2_path}/wrd_ph/{wrd_ph_file}') as f:\n",
    "            line = f.readline().strip()\n",
    "            text = ''.join(line.split('|'))\n",
    "        with open(f'{dst_dir}/{wav_file}', 'rb') as f:\n",
    "            audio_bytes = f.read()\n",
    "            \n",
    "        file_like_object = io.BytesIO(audio_bytes)\n",
    "        audio_array, sr = sf.read(file_like_object)\n",
    "\n",
    "        begin_time = 0.0\n",
    "        end_time = audio_array.shape[0] / sr\n",
    "        audio_id = file_name\n",
    "        title = file_name\n",
    "        url = 'N/A'\n",
    "        source = 'TSync2'\n",
    "        category = 10\n",
    "        original_full_path = ''\n",
    "\n",
    "        data['segment_id'].append(segment_id)\n",
    "        data['speaker'].append(speaker)\n",
    "        data['text'].append(text)\n",
    "        data['audio'].append(f'{tsync2_path}/wav/{wav_file}')\n",
    "        data['begin_time'].append(begin_time)\n",
    "        data['end_time'].append(end_time)\n",
    "        data['audio_id'].append(audio_id)\n",
    "        data['title'].append(title)\n",
    "        data['url'].append(url)\n",
    "        data['source'].append(source)\n",
    "        data['category'].append(category)\n",
    "        data['original_full_path'].append(original_full_path)\n",
    "\n",
    "    return Dataset.from_dict(data).cast_column(\"audio\", Audio(sampling_rate=16000))\n"
   ]
  },
  {
   "cell_type": "code",
   "execution_count": 15,
   "metadata": {},
   "outputs": [
    {
     "name": "stderr",
     "output_type": "stream",
     "text": [
      "100%|██████████| 2168/2168 [00:01<00:00, 1089.08it/s]\n",
      "100%|██████████| 271/271 [00:00<00:00, 1030.28it/s]\n",
      "100%|██████████| 271/271 [00:00<00:00, 1109.82it/s]\n"
     ]
    }
   ],
   "source": [
    "train_data = load_data(train_files)\n",
    "val_data = load_data(val_files)\n",
    "test_data = load_data(test_files)"
   ]
  },
  {
   "cell_type": "code",
   "execution_count": 16,
   "metadata": {},
   "outputs": [
    {
     "name": "stdout",
     "output_type": "stream",
     "text": [
      "{'segment_id': 'tsync2_noon_1_2757', 'speaker': 'Noon', 'text': 'ได้ออกเดินทางจากฐานทัพฟอร์ตดรัมในนิวยอร์กแล้ว', 'audio': {'path': '../data/raw/TSync2/wav/tsync2_noon_1_2757.wav', 'array': array([ 5.01572737e-04,  8.84395908e-04,  7.93166109e-04, ...,\n",
      "       -1.11445050e-04,  7.06672836e-06,  0.00000000e+00]), 'sampling_rate': 16000}, 'begin_time': 0.0, 'end_time': 3.868, 'audio_id': 'tsync2_noon_1_2757', 'title': 'tsync2_noon_1_2757', 'url': 'N/A', 'source': 'TSync2', 'category': 10, 'original_full_path': ''}\n"
     ]
    }
   ],
   "source": [
    "# print sample data\n",
    "print(train_data[0])"
   ]
  },
  {
   "cell_type": "code",
   "execution_count": 17,
   "metadata": {},
   "outputs": [
    {
     "name": "stdout",
     "output_type": "stream",
     "text": [
      "DatasetDict({\n",
      "    train: Dataset({\n",
      "        features: ['segment_id', 'speaker', 'text', 'audio', 'begin_time', 'end_time', 'audio_id', 'title', 'url', 'source', 'category', 'original_full_path'],\n",
      "        num_rows: 2168\n",
      "    })\n",
      "    validation: Dataset({\n",
      "        features: ['segment_id', 'speaker', 'text', 'audio', 'begin_time', 'end_time', 'audio_id', 'title', 'url', 'source', 'category', 'original_full_path'],\n",
      "        num_rows: 271\n",
      "    })\n",
      "    test: Dataset({\n",
      "        features: ['segment_id', 'speaker', 'text', 'audio', 'begin_time', 'end_time', 'audio_id', 'title', 'url', 'source', 'category', 'original_full_path'],\n",
      "        num_rows: 271\n",
      "    })\n",
      "})\n"
     ]
    }
   ],
   "source": [
    "dataset_dict = DatasetDict({'train': train_data, 'validation': val_data, 'test': test_data})\n",
    "print(dataset_dict)"
   ]
  },
  {
   "cell_type": "markdown",
   "metadata": {},
   "source": [
    "# Push to Huggingface Hub"
   ]
  },
  {
   "cell_type": "code",
   "execution_count": 19,
   "metadata": {},
   "outputs": [
    {
     "data": {
      "application/vnd.jupyter.widget-view+json": {
       "model_id": "7b459fdef3bf4739b2fa78a2b9a9434b",
       "version_major": 2,
       "version_minor": 0
      },
      "text/plain": [
       "Uploading the dataset shards:   0%|          | 0/2 [00:00<?, ?it/s]"
      ]
     },
     "metadata": {},
     "output_type": "display_data"
    },
    {
     "data": {
      "application/vnd.jupyter.widget-view+json": {
       "model_id": "cf5636a9312243df85319047c412a94d",
       "version_major": 2,
       "version_minor": 0
      },
      "text/plain": [
       "Map:   0%|          | 0/1084 [00:00<?, ? examples/s]"
      ]
     },
     "metadata": {},
     "output_type": "display_data"
    },
    {
     "data": {
      "application/vnd.jupyter.widget-view+json": {
       "model_id": "6f81b92c3ab04ea0b58903d7f69f81d3",
       "version_major": 2,
       "version_minor": 0
      },
      "text/plain": [
       "Creating parquet from Arrow format:   0%|          | 0/11 [00:00<?, ?ba/s]"
      ]
     },
     "metadata": {},
     "output_type": "display_data"
    },
    {
     "data": {
      "application/vnd.jupyter.widget-view+json": {
       "model_id": "993d850703ff4d94b3986f46af76a46a",
       "version_major": 2,
       "version_minor": 0
      },
      "text/plain": [
       "Map:   0%|          | 0/1084 [00:00<?, ? examples/s]"
      ]
     },
     "metadata": {},
     "output_type": "display_data"
    },
    {
     "data": {
      "application/vnd.jupyter.widget-view+json": {
       "model_id": "df5278a18fe14ae88da1d4299c410a3b",
       "version_major": 2,
       "version_minor": 0
      },
      "text/plain": [
       "Creating parquet from Arrow format:   0%|          | 0/11 [00:00<?, ?ba/s]"
      ]
     },
     "metadata": {},
     "output_type": "display_data"
    },
    {
     "data": {
      "application/vnd.jupyter.widget-view+json": {
       "model_id": "124531c40c2a4eeca565cda8ddeb4f78",
       "version_major": 2,
       "version_minor": 0
      },
      "text/plain": [
       "Uploading the dataset shards:   0%|          | 0/1 [00:00<?, ?it/s]"
      ]
     },
     "metadata": {},
     "output_type": "display_data"
    },
    {
     "data": {
      "application/vnd.jupyter.widget-view+json": {
       "model_id": "a1b979db8e5844e1aef6939b596782df",
       "version_major": 2,
       "version_minor": 0
      },
      "text/plain": [
       "Map:   0%|          | 0/271 [00:00<?, ? examples/s]"
      ]
     },
     "metadata": {},
     "output_type": "display_data"
    },
    {
     "data": {
      "application/vnd.jupyter.widget-view+json": {
       "model_id": "fdb6148b50b14a37b4ff0fdf28c10c17",
       "version_major": 2,
       "version_minor": 0
      },
      "text/plain": [
       "Creating parquet from Arrow format:   0%|          | 0/3 [00:00<?, ?ba/s]"
      ]
     },
     "metadata": {},
     "output_type": "display_data"
    },
    {
     "data": {
      "application/vnd.jupyter.widget-view+json": {
       "model_id": "5a72d98fa11e43de824a9291441c7d29",
       "version_major": 2,
       "version_minor": 0
      },
      "text/plain": [
       "Uploading the dataset shards:   0%|          | 0/1 [00:00<?, ?it/s]"
      ]
     },
     "metadata": {},
     "output_type": "display_data"
    },
    {
     "data": {
      "application/vnd.jupyter.widget-view+json": {
       "model_id": "357ac7d86a8145ffb2aa7fe7cc02f143",
       "version_major": 2,
       "version_minor": 0
      },
      "text/plain": [
       "Map:   0%|          | 0/271 [00:00<?, ? examples/s]"
      ]
     },
     "metadata": {},
     "output_type": "display_data"
    },
    {
     "data": {
      "application/vnd.jupyter.widget-view+json": {
       "model_id": "f93d8cf4afd54a54a65e1fa75a7443a0",
       "version_major": 2,
       "version_minor": 0
      },
      "text/plain": [
       "Creating parquet from Arrow format:   0%|          | 0/3 [00:00<?, ?ba/s]"
      ]
     },
     "metadata": {},
     "output_type": "display_data"
    },
    {
     "data": {
      "application/vnd.jupyter.widget-view+json": {
       "model_id": "9566f08feb114997b55975ffdd85668a",
       "version_major": 2,
       "version_minor": 0
      },
      "text/plain": [
       "README.md:   0%|          | 0.00/1.03k [00:00<?, ?B/s]"
      ]
     },
     "metadata": {},
     "output_type": "display_data"
    },
    {
     "data": {
      "text/plain": [
       "CommitInfo(commit_url='https://huggingface.co/datasets/dubbing-ai/tsync2-to-gigaspeech/commit/6057218339dd68cda81873adb4c0facc613eb75c', commit_message='Upload dataset', commit_description='', oid='6057218339dd68cda81873adb4c0facc613eb75c', pr_url=None, repo_url=RepoUrl('https://huggingface.co/datasets/dubbing-ai/tsync2-to-gigaspeech', endpoint='https://huggingface.co', repo_type='dataset', repo_id='dubbing-ai/tsync2-to-gigaspeech'), pr_revision=None, pr_num=None)"
      ]
     },
     "execution_count": 19,
     "metadata": {},
     "output_type": "execute_result"
    }
   ],
   "source": [
    "dataset_dict.push_to_hub('dubbing-ai/tsync2-to-gigaspeech')"
   ]
  }
 ],
 "metadata": {
  "kernelspec": {
   "display_name": "voicecraft",
   "language": "python",
   "name": "python3"
  },
  "language_info": {
   "codemirror_mode": {
    "name": "ipython",
    "version": 3
   },
   "file_extension": ".py",
   "mimetype": "text/x-python",
   "name": "python",
   "nbconvert_exporter": "python",
   "pygments_lexer": "ipython3",
   "version": "3.9.20"
  }
 },
 "nbformat": 4,
 "nbformat_minor": 2
}
