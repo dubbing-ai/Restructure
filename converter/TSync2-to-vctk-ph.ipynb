{
 "cells": [
  {
   "cell_type": "markdown",
   "metadata": {},
   "source": [
    "# Import libraries"
   ]
  },
  {
   "cell_type": "code",
   "execution_count": 1,
   "metadata": {},
   "outputs": [],
   "source": [
    "# !pip install git+https://github.com/dubbing-ai/Transliterate.git"
   ]
  },
  {
   "cell_type": "code",
   "execution_count": 2,
   "metadata": {},
   "outputs": [],
   "source": [
    "import os\n",
    "from pathlib import Path\n",
    "import shutil\n",
    "from tqdm import tqdm\n",
    "from typing import Tuple\n",
    "from concurrent.futures import ThreadPoolExecutor\n",
    "import threading\n",
    "\n",
    "import sys\n",
    "sys.path.append('..')\n",
    "from utils.audio_util import convert_wav_to_flac, resample_audios, trim_silence_with_vad\n",
    "from utils.file_util import recursive_copy\n",
    "\n",
    "from transliterate.phonemizer import ThaiPhonemizer"
   ]
  },
  {
   "cell_type": "markdown",
   "metadata": {},
   "source": [
    "# Moving files to the new directory"
   ]
  },
  {
   "cell_type": "code",
   "execution_count": 3,
   "metadata": {},
   "outputs": [],
   "source": [
    "thai_phonemizer = ThaiPhonemizer()"
   ]
  },
  {
   "cell_type": "code",
   "execution_count": 4,
   "metadata": {},
   "outputs": [
    {
     "name": "stderr",
     "output_type": "stream",
     "text": [
      "File not found - \"*.wav\"\n"
     ]
    }
   ],
   "source": [
    "!find \"../data/raw/TSync2/wav\" -type f -name \"*.wav\" -exec sh -c 'ffmpeg -i \"$1\" -c:a pcm_mulaw \"${1%.wav}.tmp.wav\" && mv \"${1%.wav}.tmp.wav\" \"$1\"' _ {} \\;"
   ]
  },
  {
   "cell_type": "code",
   "execution_count": 5,
   "metadata": {},
   "outputs": [
    {
     "name": "stdout",
     "output_type": "stream",
     "text": [
      "Clearing destination folder\n"
     ]
    },
    {
     "name": "stderr",
     "output_type": "stream",
     "text": [
      "Processing files (using 16 workers): 100%|██████████| 2710/2710 [14:20<00:00,  3.15it/s]"
     ]
    },
    {
     "name": "stdout",
     "output_type": "stream",
     "text": [
      "Processed 2710 file pairs\n",
      "Skipped 0 pairs\n",
      "Unique characters found:  2345_abcdefhijklmnoprstuwŋɛɤɯʔʰːᴐ\n"
     ]
    },
    {
     "name": "stderr",
     "output_type": "stream",
     "text": [
      "\n"
     ]
    }
   ],
   "source": [
    "# Define paths\n",
    "DEST_DIR = \"../data/converted/TSync2-to-vctk-ph\"\n",
    "DEST_TEXT_PATH = os.path.join(DEST_DIR, \"txt/TSync2\")\n",
    "DEST_AUDIO_PATH = os.path.join(DEST_DIR, \"wav44/TSync2\")\n",
    "SRC_AUDIO_PATH = \"../data/raw/TSync2/wav\"\n",
    "SRC_TEXT_PATH = \"../data/raw/TSync2/wrd_ph\"\n",
    "\n",
    "# Clean and create directories\n",
    "if os.path.exists(DEST_DIR):\n",
    "    print(\"Clearing destination folder\")\n",
    "    shutil.rmtree(DEST_DIR)\n",
    "os.makedirs(DEST_TEXT_PATH, exist_ok=True)\n",
    "os.makedirs(DEST_AUDIO_PATH, exist_ok=True)\n",
    "\n",
    "# Thread-safe set for character collection\n",
    "all_chars = set()\n",
    "chars_lock = threading.Lock()\n",
    "\n",
    "# Thread-safe list for tracking skipped files\n",
    "skip_files = []\n",
    "skip_lock = threading.Lock()\n",
    "\n",
    "# Thread-safe for phonemizer\n",
    "phonemizer_lock = threading.Lock()\n",
    "\n",
    "def process_file_pair(args: Tuple[int, Path, Path]) -> None:\n",
    "    \"\"\"Process a single pair of audio and text files\"\"\"\n",
    "    i, audio_file, text_file = args\n",
    "    try:\n",
    "        # Process audio\n",
    "        src_audio = str(audio_file)\n",
    "        dest_audio = os.path.join(DEST_AUDIO_PATH, f\"TSync2_{i:03d}_mic1.flac\")\n",
    "        \n",
    "        if not convert_wav_to_flac(src_audio, dest_audio):\n",
    "            raise Exception(\"Failed to convert audio\")\n",
    "        \n",
    "        # Process text\n",
    "        with text_file.open('r', encoding='utf-8') as f:\n",
    "            with phonemizer_lock:\n",
    "                clean_text = \" \".join(thai_phonemizer.phonemize(\"\".join(f.readline().strip().split(\"|\"))))\n",
    "            # Thread-safe update of all_chars\n",
    "            with chars_lock:\n",
    "                all_chars.update(clean_text)\n",
    "        \n",
    "        dest_text = os.path.join(DEST_TEXT_PATH, f\"TSync2_{i:03d}.txt\")\n",
    "        with open(dest_text, 'w', encoding='utf-8') as f:\n",
    "            f.write(clean_text)\n",
    "            \n",
    "    except Exception as e:\n",
    "        print(f\"Error processing pair {i}: {e}\")\n",
    "        with skip_lock:\n",
    "            skip_files.append(i)\n",
    "\n",
    "# Get sorted lists of files\n",
    "audio_files = sorted(Path(SRC_AUDIO_PATH).glob(\"*.wav\"))\n",
    "text_files = sorted(Path(SRC_TEXT_PATH).glob(\"*.txt\"))\n",
    "\n",
    "# Create processing arguments\n",
    "process_args = [\n",
    "    (i, audio_file, text_file) \n",
    "    for i, (audio_file, text_file) \n",
    "    in enumerate(zip(audio_files, text_files), 1)\n",
    "]\n",
    "\n",
    "max_workers = os.cpu_count()\n",
    "\n",
    "# Process files in parallel with progress bar\n",
    "with ThreadPoolExecutor(max_workers=max_workers) as executor:\n",
    "    list(tqdm(\n",
    "        executor.map(process_file_pair, process_args),\n",
    "        total=len(process_args),\n",
    "        desc=f\"Processing files (using {max_workers} workers)\"\n",
    "    ))\n",
    "\n",
    "# Print results\n",
    "print(f\"Processed {len(audio_files) - len(skip_files)} file pairs\")\n",
    "print(f\"Skipped {len(skip_files)} pairs\")\n",
    "print(f\"Unique characters found: {''.join(sorted(all_chars))}\")"
   ]
  },
  {
   "cell_type": "markdown",
   "metadata": {},
   "source": [
    "# Resample, trim, and normalize audio"
   ]
  },
  {
   "cell_type": "code",
   "execution_count": 6,
   "metadata": {},
   "outputs": [],
   "source": [
    "# Create destination directory if it doesn't exist\n",
    "os.makedirs(\"../data/converted/TSync2-to-vctk-ph/wav16_silence_trimmed\", exist_ok=True)\n",
    "\n",
    "# Copy all files from wav32 to wav16_silence_trimmed\n",
    "src_dir = \"../data/converted/TSync2-to-vctk-ph/wav44\"\n",
    "dst_dir = \"../data/converted/TSync2-to-vctk-ph/wav16_silence_trimmed\"\n",
    "\n",
    "recursive_copy(src_dir, dst_dir)"
   ]
  },
  {
   "cell_type": "code",
   "execution_count": null,
   "metadata": {},
   "outputs": [
    {
     "name": "stdout",
     "output_type": "stream",
     "text": [
      "Resampling the audio files...\n",
      "Found 2710 files...\n"
     ]
    },
    {
     "name": "stderr",
     "output_type": "stream",
     "text": [
      "100%|██████████| 2710/2710 [00:17<00:00, 154.76it/s]"
     ]
    },
    {
     "name": "stdout",
     "output_type": "stream",
     "text": [
      "Done !\n"
     ]
    },
    {
     "name": "stderr",
     "output_type": "stream",
     "text": [
      "\n"
     ]
    }
   ],
   "source": [
    "# Resample all files in wav16_silence_trimmed to 16kHz\n",
    "SAMPLE_RATE = 16000\n",
    "NUM_RESAMPLE_THREADS = 4\n",
    "\n",
    "resample_audios(\n",
    "  input_folders=\"../data/converted/TSync2-to-vctk-ph/wav16_silence_trimmed\",\n",
    "  file_ext=\"flac\",\n",
    "  sample_rate=SAMPLE_RATE,\n",
    "  n_jobs=NUM_RESAMPLE_THREADS\n",
    ")"
   ]
  },
  {
   "cell_type": "code",
   "execution_count": 8,
   "metadata": {},
   "outputs": [
    {
     "name": "stderr",
     "output_type": "stream",
     "text": [
      "Downloading: \"https://github.com/snakers4/silero-vad/zipball/master\" to C:\\Users\\Ming/.cache\\torch\\hub\\master.zip\n"
     ]
    },
    {
     "name": "stdout",
     "output_type": "stream",
     "text": [
      "Found 2710 .flac files to process\n"
     ]
    },
    {
     "name": "stderr",
     "output_type": "stream",
     "text": [
      "Processing files:  51%|█████     | 1376/2710 [06:19<06:18,  3.53it/s]"
     ]
    },
    {
     "name": "stdout",
     "output_type": "stream",
     "text": [
      "> The file ..\\data\\converted\\TSync2-to-vctk\\wav16_silence_trimmed\\TSync2\\TSync2_2161_mic1.flac probably does not have speech please check it !!\n"
     ]
    },
    {
     "name": "stderr",
     "output_type": "stream",
     "text": [
      "Processing files:  51%|█████     | 1379/2710 [06:19<04:49,  4.60it/s]"
     ]
    },
    {
     "name": "stdout",
     "output_type": "stream",
     "text": [
      "> The file ..\\data\\converted\\TSync2-to-vctk\\wav16_silence_trimmed\\TSync2\\TSync2_2163_mic1.flac probably does not have speech please check it !!\n",
      "> The file ..\\data\\converted\\TSync2-to-vctk\\wav16_silence_trimmed\\TSync2\\TSync2_2164_mic1.flac probably does not have speech please check it !!\n"
     ]
    },
    {
     "name": "stderr",
     "output_type": "stream",
     "text": [
      "Processing files:  51%|█████     | 1385/2710 [06:21<04:09,  5.30it/s]"
     ]
    },
    {
     "name": "stdout",
     "output_type": "stream",
     "text": [
      "> The file ..\\data\\converted\\TSync2-to-vctk\\wav16_silence_trimmed\\TSync2\\TSync2_2168_mic1.flac probably does not have speech please check it !!\n"
     ]
    },
    {
     "name": "stderr",
     "output_type": "stream",
     "text": [
      "Processing files:  51%|█████▏    | 1389/2710 [06:21<04:18,  5.12it/s]"
     ]
    },
    {
     "name": "stdout",
     "output_type": "stream",
     "text": [
      "> The file ..\\data\\converted\\TSync2-to-vctk\\wav16_silence_trimmed\\TSync2\\TSync2_2171_mic1.flac probably does not have speech please check it !!\n"
     ]
    },
    {
     "name": "stderr",
     "output_type": "stream",
     "text": [
      "Processing files:  52%|█████▏    | 1415/2710 [06:28<05:19,  4.06it/s]"
     ]
    },
    {
     "name": "stdout",
     "output_type": "stream",
     "text": [
      "> The file ..\\data\\converted\\TSync2-to-vctk\\wav16_silence_trimmed\\TSync2\\TSync2_2196_mic1.flac probably does not have speech please check it !!\n"
     ]
    },
    {
     "name": "stderr",
     "output_type": "stream",
     "text": [
      "Processing files:  53%|█████▎    | 1439/2710 [06:35<05:55,  3.57it/s]"
     ]
    },
    {
     "name": "stdout",
     "output_type": "stream",
     "text": [
      "> The file ..\\data\\converted\\TSync2-to-vctk\\wav16_silence_trimmed\\TSync2\\TSync2_2219_mic1.flac probably does not have speech please check it !!\n"
     ]
    },
    {
     "name": "stderr",
     "output_type": "stream",
     "text": [
      "Processing files:  53%|█████▎    | 1441/2710 [06:35<05:27,  3.88it/s]"
     ]
    },
    {
     "name": "stdout",
     "output_type": "stream",
     "text": [
      "> The file ..\\data\\converted\\TSync2-to-vctk\\wav16_silence_trimmed\\TSync2\\TSync2_2220_mic1.flac probably does not have speech please check it !!\n"
     ]
    },
    {
     "name": "stderr",
     "output_type": "stream",
     "text": [
      "Processing files:  54%|█████▎    | 1456/2710 [06:39<05:19,  3.93it/s]"
     ]
    },
    {
     "name": "stdout",
     "output_type": "stream",
     "text": [
      "> The file ..\\data\\converted\\TSync2-to-vctk\\wav16_silence_trimmed\\TSync2\\TSync2_2234_mic1.flac probably does not have speech please check it !!\n"
     ]
    },
    {
     "name": "stderr",
     "output_type": "stream",
     "text": [
      "Processing files:  54%|█████▍    | 1476/2710 [06:43<04:21,  4.72it/s]"
     ]
    },
    {
     "name": "stdout",
     "output_type": "stream",
     "text": [
      "> The file ..\\data\\converted\\TSync2-to-vctk\\wav16_silence_trimmed\\TSync2\\TSync2_2252_mic1.flac probably does not have speech please check it !!\n"
     ]
    },
    {
     "name": "stderr",
     "output_type": "stream",
     "text": [
      "Processing files:  55%|█████▍    | 1483/2710 [06:44<04:15,  4.81it/s]"
     ]
    },
    {
     "name": "stdout",
     "output_type": "stream",
     "text": [
      "> The file ..\\data\\converted\\TSync2-to-vctk\\wav16_silence_trimmed\\TSync2\\TSync2_2259_mic1.flac probably does not have speech please check it !!\n"
     ]
    },
    {
     "name": "stderr",
     "output_type": "stream",
     "text": [
      "Processing files:  55%|█████▌    | 1499/2710 [06:49<03:53,  5.18it/s]"
     ]
    },
    {
     "name": "stdout",
     "output_type": "stream",
     "text": [
      "> The file ..\\data\\converted\\TSync2-to-vctk\\wav16_silence_trimmed\\TSync2\\TSync2_2271_mic1.flac probably does not have speech please check it !!\n"
     ]
    },
    {
     "name": "stderr",
     "output_type": "stream",
     "text": [
      "Processing files:  56%|█████▌    | 1516/2710 [06:52<03:39,  5.44it/s]"
     ]
    },
    {
     "name": "stdout",
     "output_type": "stream",
     "text": [
      "> The file ..\\data\\converted\\TSync2-to-vctk\\wav16_silence_trimmed\\TSync2\\TSync2_2287_mic1.flac probably does not have speech please check it !!\n",
      "> The file ..\\data\\converted\\TSync2-to-vctk\\wav16_silence_trimmed\\TSync2\\TSync2_2289_mic1.flac probably does not have speech please check it !!\n"
     ]
    },
    {
     "name": "stderr",
     "output_type": "stream",
     "text": [
      "Processing files:  56%|█████▌    | 1519/2710 [06:53<03:48,  5.20it/s]"
     ]
    },
    {
     "name": "stdout",
     "output_type": "stream",
     "text": [
      "> The file ..\\data\\converted\\TSync2-to-vctk\\wav16_silence_trimmed\\TSync2\\TSync2_2291_mic1.flac probably does not have speech please check it !!\n"
     ]
    },
    {
     "name": "stderr",
     "output_type": "stream",
     "text": [
      "Processing files:  57%|█████▋    | 1534/2710 [06:56<03:59,  4.91it/s]"
     ]
    },
    {
     "name": "stdout",
     "output_type": "stream",
     "text": [
      "> The file ..\\data\\converted\\TSync2-to-vctk\\wav16_silence_trimmed\\TSync2\\TSync2_2305_mic1.flac probably does not have speech please check it !!\n"
     ]
    },
    {
     "name": "stderr",
     "output_type": "stream",
     "text": [
      "Processing files:  58%|█████▊    | 1560/2710 [07:02<05:47,  3.30it/s]"
     ]
    },
    {
     "name": "stdout",
     "output_type": "stream",
     "text": [
      "> The file ..\\data\\converted\\TSync2-to-vctk\\wav16_silence_trimmed\\TSync2\\TSync2_2329_mic1.flac probably does not have speech please check it !!\n"
     ]
    },
    {
     "name": "stderr",
     "output_type": "stream",
     "text": [
      "Processing files:  58%|█████▊    | 1564/2710 [07:03<05:16,  3.62it/s]"
     ]
    },
    {
     "name": "stdout",
     "output_type": "stream",
     "text": [
      "> The file ..\\data\\converted\\TSync2-to-vctk\\wav16_silence_trimmed\\TSync2\\TSync2_2332_mic1.flac probably does not have speech please check it !!\n"
     ]
    },
    {
     "name": "stderr",
     "output_type": "stream",
     "text": [
      "Processing files:  58%|█████▊    | 1581/2710 [07:08<03:18,  5.68it/s]"
     ]
    },
    {
     "name": "stdout",
     "output_type": "stream",
     "text": [
      "> The file ..\\data\\converted\\TSync2-to-vctk\\wav16_silence_trimmed\\TSync2\\TSync2_2346_mic1.flac probably does not have speech please check it !!\n"
     ]
    },
    {
     "name": "stderr",
     "output_type": "stream",
     "text": [
      "Processing files:  58%|█████▊    | 1585/2710 [07:08<03:34,  5.24it/s]"
     ]
    },
    {
     "name": "stdout",
     "output_type": "stream",
     "text": [
      "> The file ..\\data\\converted\\TSync2-to-vctk\\wav16_silence_trimmed\\TSync2\\TSync2_2350_mic1.flac probably does not have speech please check it !!\n"
     ]
    },
    {
     "name": "stderr",
     "output_type": "stream",
     "text": [
      "Processing files:  59%|█████▉    | 1595/2710 [07:11<04:14,  4.38it/s]"
     ]
    },
    {
     "name": "stdout",
     "output_type": "stream",
     "text": [
      "> The file ..\\data\\converted\\TSync2-to-vctk\\wav16_silence_trimmed\\TSync2\\TSync2_2360_mic1.flac probably does not have speech please check it !!\n"
     ]
    },
    {
     "name": "stderr",
     "output_type": "stream",
     "text": [
      "Processing files:  59%|█████▉    | 1602/2710 [07:12<03:54,  4.73it/s]"
     ]
    },
    {
     "name": "stdout",
     "output_type": "stream",
     "text": [
      "> The file ..\\data\\converted\\TSync2-to-vctk\\wav16_silence_trimmed\\TSync2\\TSync2_2366_mic1.flac probably does not have speech please check it !!\n"
     ]
    },
    {
     "name": "stderr",
     "output_type": "stream",
     "text": [
      "Processing files:  59%|█████▉    | 1609/2710 [07:14<04:12,  4.36it/s]"
     ]
    },
    {
     "name": "stdout",
     "output_type": "stream",
     "text": [
      "> The file ..\\data\\converted\\TSync2-to-vctk\\wav16_silence_trimmed\\TSync2\\TSync2_2372_mic1.flac probably does not have speech please check it !!\n"
     ]
    },
    {
     "name": "stderr",
     "output_type": "stream",
     "text": [
      "Processing files:  60%|█████▉    | 1615/2710 [07:16<04:47,  3.81it/s]"
     ]
    },
    {
     "name": "stdout",
     "output_type": "stream",
     "text": [
      "> The file ..\\data\\converted\\TSync2-to-vctk\\wav16_silence_trimmed\\TSync2\\TSync2_2379_mic1.flac probably does not have speech please check it !!\n"
     ]
    },
    {
     "name": "stderr",
     "output_type": "stream",
     "text": [
      "Processing files:  60%|█████▉    | 1618/2710 [07:17<04:27,  4.08it/s]"
     ]
    },
    {
     "name": "stdout",
     "output_type": "stream",
     "text": [
      "> The file ..\\data\\converted\\TSync2-to-vctk\\wav16_silence_trimmed\\TSync2\\TSync2_2380_mic1.flac probably does not have speech please check it !!\n"
     ]
    },
    {
     "name": "stderr",
     "output_type": "stream",
     "text": [
      "Processing files:  60%|█████▉    | 1619/2710 [07:17<04:45,  3.82it/s]"
     ]
    },
    {
     "name": "stdout",
     "output_type": "stream",
     "text": [
      "> The file ..\\data\\converted\\TSync2-to-vctk\\wav16_silence_trimmed\\TSync2\\TSync2_2382_mic1.flac probably does not have speech please check it !!\n"
     ]
    },
    {
     "name": "stderr",
     "output_type": "stream",
     "text": [
      "Processing files:  60%|██████    | 1630/2710 [07:20<03:47,  4.75it/s]"
     ]
    },
    {
     "name": "stdout",
     "output_type": "stream",
     "text": [
      "> The file ..\\data\\converted\\TSync2-to-vctk\\wav16_silence_trimmed\\TSync2\\TSync2_2391_mic1.flac probably does not have speech please check it !!\n"
     ]
    },
    {
     "name": "stderr",
     "output_type": "stream",
     "text": [
      "Processing files:  60%|██████    | 1635/2710 [07:21<05:36,  3.19it/s]"
     ]
    },
    {
     "name": "stdout",
     "output_type": "stream",
     "text": [
      "> The file ..\\data\\converted\\TSync2-to-vctk\\wav16_silence_trimmed\\TSync2\\TSync2_2397_mic1.flac probably does not have speech please check it !!\n"
     ]
    },
    {
     "name": "stderr",
     "output_type": "stream",
     "text": [
      "Processing files:  61%|██████    | 1652/2710 [07:26<04:09,  4.23it/s]"
     ]
    },
    {
     "name": "stdout",
     "output_type": "stream",
     "text": [
      "> The file ..\\data\\converted\\TSync2-to-vctk\\wav16_silence_trimmed\\TSync2\\TSync2_2410_mic1.flac probably does not have speech please check it !!\n"
     ]
    },
    {
     "name": "stderr",
     "output_type": "stream",
     "text": [
      "Processing files:  61%|██████▏   | 1663/2710 [07:29<04:07,  4.22it/s]"
     ]
    },
    {
     "name": "stdout",
     "output_type": "stream",
     "text": [
      "> The file ..\\data\\converted\\TSync2-to-vctk\\wav16_silence_trimmed\\TSync2\\TSync2_2420_mic1.flac probably does not have speech please check it !!\n",
      "> The file ..\\data\\converted\\TSync2-to-vctk\\wav16_silence_trimmed\\TSync2\\TSync2_2421_mic1.flac probably does not have speech please check it !!\n",
      "> The file ..\\data\\converted\\TSync2-to-vctk\\wav16_silence_trimmed\\TSync2\\TSync2_2422_mic1.flac probably does not have speech please check it !!\n"
     ]
    },
    {
     "name": "stderr",
     "output_type": "stream",
     "text": [
      "Processing files:  61%|██████▏   | 1665/2710 [07:29<03:05,  5.62it/s]"
     ]
    },
    {
     "name": "stdout",
     "output_type": "stream",
     "text": [
      "> The file ..\\data\\converted\\TSync2-to-vctk\\wav16_silence_trimmed\\TSync2\\TSync2_2423_mic1.flac probably does not have speech please check it !!\n"
     ]
    },
    {
     "name": "stderr",
     "output_type": "stream",
     "text": [
      "Processing files:  62%|██████▏   | 1680/2710 [07:34<05:03,  3.39it/s]"
     ]
    },
    {
     "name": "stdout",
     "output_type": "stream",
     "text": [
      "> The file ..\\data\\converted\\TSync2-to-vctk\\wav16_silence_trimmed\\TSync2\\TSync2_2438_mic1.flac probably does not have speech please check it !!\n"
     ]
    },
    {
     "name": "stderr",
     "output_type": "stream",
     "text": [
      "Processing files:  62%|██████▏   | 1690/2710 [07:37<04:51,  3.49it/s]"
     ]
    },
    {
     "name": "stdout",
     "output_type": "stream",
     "text": [
      "> The file ..\\data\\converted\\TSync2-to-vctk\\wav16_silence_trimmed\\TSync2\\TSync2_2447_mic1.flac probably does not have speech please check it !!\n"
     ]
    },
    {
     "name": "stderr",
     "output_type": "stream",
     "text": [
      "Processing files:  63%|██████▎   | 1714/2710 [07:44<03:50,  4.32it/s]"
     ]
    },
    {
     "name": "stdout",
     "output_type": "stream",
     "text": [
      "> The file ..\\data\\converted\\TSync2-to-vctk\\wav16_silence_trimmed\\TSync2\\TSync2_2468_mic1.flac probably does not have speech please check it !!\n"
     ]
    },
    {
     "name": "stderr",
     "output_type": "stream",
     "text": [
      "Processing files:  64%|██████▎   | 1723/2710 [07:47<05:03,  3.26it/s]"
     ]
    },
    {
     "name": "stdout",
     "output_type": "stream",
     "text": [
      "> The file ..\\data\\converted\\TSync2-to-vctk\\wav16_silence_trimmed\\TSync2\\TSync2_2477_mic1.flac probably does not have speech please check it !!\n"
     ]
    },
    {
     "name": "stderr",
     "output_type": "stream",
     "text": [
      "Processing files:  64%|██████▍   | 1743/2710 [07:52<03:56,  4.08it/s]"
     ]
    },
    {
     "name": "stdout",
     "output_type": "stream",
     "text": [
      "> The file ..\\data\\converted\\TSync2-to-vctk\\wav16_silence_trimmed\\TSync2\\TSync2_2493_mic1.flac probably does not have speech please check it !!\n",
      "> The file ..\\data\\converted\\TSync2-to-vctk\\wav16_silence_trimmed\\TSync2\\TSync2_2494_mic1.flac probably does not have speech please check it !!\n"
     ]
    },
    {
     "name": "stderr",
     "output_type": "stream",
     "text": [
      "Processing files:  66%|██████▌   | 1777/2710 [08:01<03:53,  3.99it/s]"
     ]
    },
    {
     "name": "stdout",
     "output_type": "stream",
     "text": [
      "> The file ..\\data\\converted\\TSync2-to-vctk\\wav16_silence_trimmed\\TSync2\\TSync2_2526_mic1.flac probably does not have speech please check it !!\n"
     ]
    },
    {
     "name": "stderr",
     "output_type": "stream",
     "text": [
      "Processing files:  66%|██████▌   | 1782/2710 [08:02<03:22,  4.58it/s]"
     ]
    },
    {
     "name": "stdout",
     "output_type": "stream",
     "text": [
      "> The file ..\\data\\converted\\TSync2-to-vctk\\wav16_silence_trimmed\\TSync2\\TSync2_2530_mic1.flac probably does not have speech please check it !!\n"
     ]
    },
    {
     "name": "stderr",
     "output_type": "stream",
     "text": [
      "Processing files:  66%|██████▌   | 1785/2710 [08:03<03:23,  4.54it/s]"
     ]
    },
    {
     "name": "stdout",
     "output_type": "stream",
     "text": [
      "> The file ..\\data\\converted\\TSync2-to-vctk\\wav16_silence_trimmed\\TSync2\\TSync2_2533_mic1.flac probably does not have speech please check it !!\n"
     ]
    },
    {
     "name": "stderr",
     "output_type": "stream",
     "text": [
      "Processing files:  66%|██████▋   | 1796/2710 [08:05<03:46,  4.04it/s]"
     ]
    },
    {
     "name": "stdout",
     "output_type": "stream",
     "text": [
      "> The file ..\\data\\converted\\TSync2-to-vctk\\wav16_silence_trimmed\\TSync2\\TSync2_2543_mic1.flac probably does not have speech please check it !!\n"
     ]
    },
    {
     "name": "stderr",
     "output_type": "stream",
     "text": [
      "Processing files:  67%|██████▋   | 1818/2710 [08:11<03:48,  3.91it/s]"
     ]
    },
    {
     "name": "stdout",
     "output_type": "stream",
     "text": [
      "> The file ..\\data\\converted\\TSync2-to-vctk\\wav16_silence_trimmed\\TSync2\\TSync2_2563_mic1.flac probably does not have speech please check it !!\n"
     ]
    },
    {
     "name": "stderr",
     "output_type": "stream",
     "text": [
      "Processing files:  67%|██████▋   | 1822/2710 [08:12<04:16,  3.46it/s]"
     ]
    },
    {
     "name": "stdout",
     "output_type": "stream",
     "text": [
      "> The file ..\\data\\converted\\TSync2-to-vctk\\wav16_silence_trimmed\\TSync2\\TSync2_2567_mic1.flac probably does not have speech please check it !!\n"
     ]
    },
    {
     "name": "stderr",
     "output_type": "stream",
     "text": [
      "Processing files:  67%|██████▋   | 1826/2710 [08:13<03:09,  4.67it/s]"
     ]
    },
    {
     "name": "stdout",
     "output_type": "stream",
     "text": [
      "> The file ..\\data\\converted\\TSync2-to-vctk\\wav16_silence_trimmed\\TSync2\\TSync2_2569_mic1.flac probably does not have speech please check it !!\n"
     ]
    },
    {
     "name": "stderr",
     "output_type": "stream",
     "text": [
      "Processing files:  68%|██████▊   | 1831/2710 [08:14<03:51,  3.80it/s]"
     ]
    },
    {
     "name": "stdout",
     "output_type": "stream",
     "text": [
      "> The file ..\\data\\converted\\TSync2-to-vctk\\wav16_silence_trimmed\\TSync2\\TSync2_2575_mic1.flac probably does not have speech please check it !!\n"
     ]
    },
    {
     "name": "stderr",
     "output_type": "stream",
     "text": [
      "Processing files:  68%|██████▊   | 1853/2710 [08:20<01:58,  7.26it/s]"
     ]
    },
    {
     "name": "stdout",
     "output_type": "stream",
     "text": [
      "> The file ..\\data\\converted\\TSync2-to-vctk\\wav16_silence_trimmed\\TSync2\\TSync2_2593_mic1.flac probably does not have speech please check it !!\n",
      "> The file ..\\data\\converted\\TSync2-to-vctk\\wav16_silence_trimmed\\TSync2\\TSync2_2594_mic1.flac probably does not have speech please check it !!\n"
     ]
    },
    {
     "name": "stderr",
     "output_type": "stream",
     "text": [
      "Processing files:  69%|██████▉   | 1866/2710 [08:24<03:41,  3.80it/s]"
     ]
    },
    {
     "name": "stdout",
     "output_type": "stream",
     "text": [
      "> The file ..\\data\\converted\\TSync2-to-vctk\\wav16_silence_trimmed\\TSync2\\TSync2_2606_mic1.flac probably does not have speech please check it !!\n"
     ]
    },
    {
     "name": "stderr",
     "output_type": "stream",
     "text": [
      "Processing files:  69%|██████▉   | 1877/2710 [08:27<03:17,  4.21it/s]"
     ]
    },
    {
     "name": "stdout",
     "output_type": "stream",
     "text": [
      "> The file ..\\data\\converted\\TSync2-to-vctk\\wav16_silence_trimmed\\TSync2\\TSync2_2617_mic1.flac probably does not have speech please check it !!\n"
     ]
    },
    {
     "name": "stderr",
     "output_type": "stream",
     "text": [
      "Processing files:  69%|██████▉   | 1883/2710 [08:29<04:06,  3.36it/s]"
     ]
    },
    {
     "name": "stdout",
     "output_type": "stream",
     "text": [
      "> The file ..\\data\\converted\\TSync2-to-vctk\\wav16_silence_trimmed\\TSync2\\TSync2_2622_mic1.flac probably does not have speech please check it !!\n"
     ]
    },
    {
     "name": "stderr",
     "output_type": "stream",
     "text": [
      "Processing files:  70%|██████▉   | 1895/2710 [08:31<02:46,  4.88it/s]"
     ]
    },
    {
     "name": "stdout",
     "output_type": "stream",
     "text": [
      "> The file ..\\data\\converted\\TSync2-to-vctk\\wav16_silence_trimmed\\TSync2\\TSync2_2633_mic1.flac probably does not have speech please check it !!\n"
     ]
    },
    {
     "name": "stderr",
     "output_type": "stream",
     "text": [
      "Processing files:  70%|███████   | 1897/2710 [08:31<02:29,  5.44it/s]"
     ]
    },
    {
     "name": "stdout",
     "output_type": "stream",
     "text": [
      "> The file ..\\data\\converted\\TSync2-to-vctk\\wav16_silence_trimmed\\TSync2\\TSync2_2635_mic1.flac probably does not have speech please check it !!\n"
     ]
    },
    {
     "name": "stderr",
     "output_type": "stream",
     "text": [
      "Processing files:  70%|███████   | 1906/2710 [08:34<03:10,  4.22it/s]"
     ]
    },
    {
     "name": "stdout",
     "output_type": "stream",
     "text": [
      "> The file ..\\data\\converted\\TSync2-to-vctk\\wav16_silence_trimmed\\TSync2\\TSync2_2643_mic1.flac probably does not have speech please check it !!\n"
     ]
    },
    {
     "name": "stderr",
     "output_type": "stream",
     "text": [
      "Processing files:  71%|███████   | 1927/2710 [08:39<02:48,  4.65it/s]"
     ]
    },
    {
     "name": "stdout",
     "output_type": "stream",
     "text": [
      "> The file ..\\data\\converted\\TSync2-to-vctk\\wav16_silence_trimmed\\TSync2\\TSync2_2660_mic1.flac probably does not have speech please check it !!\n"
     ]
    },
    {
     "name": "stderr",
     "output_type": "stream",
     "text": [
      "Processing files:  72%|███████▏  | 1940/2710 [08:43<03:42,  3.46it/s]"
     ]
    },
    {
     "name": "stdout",
     "output_type": "stream",
     "text": [
      "> The file ..\\data\\converted\\TSync2-to-vctk\\wav16_silence_trimmed\\TSync2\\TSync2_2674_mic1.flac probably does not have speech please check it !!\n"
     ]
    },
    {
     "name": "stderr",
     "output_type": "stream",
     "text": [
      "Processing files:  72%|███████▏  | 1954/2710 [08:46<01:58,  6.37it/s]"
     ]
    },
    {
     "name": "stdout",
     "output_type": "stream",
     "text": [
      "> The file ..\\data\\converted\\TSync2-to-vctk\\wav16_silence_trimmed\\TSync2\\TSync2_2685_mic1.flac probably does not have speech please check it !!\n"
     ]
    },
    {
     "name": "stderr",
     "output_type": "stream",
     "text": [
      "Processing files: 100%|██████████| 2710/2710 [12:48<00:00,  3.52it/s]"
     ]
    },
    {
     "name": "stdout",
     "output_type": "stream",
     "text": [
      "\n",
      "Processing complete\n",
      "\n",
      "Found 58 files with no speech. List saved to ..\\data\\converted\\TSync2-to-vctk\\no_speech_files.txt\n"
     ]
    },
    {
     "name": "stderr",
     "output_type": "stream",
     "text": [
      "\n"
     ]
    }
   ],
   "source": [
    "# Trim silence at the beginning and end of each audio file\n",
    "trim_silence_with_vad(\n",
    "  input_folder=\"../data/converted/TSync2-to-vctk-ph/wav16_silence_trimmed\",\n",
    "  file_extension=\"flac\",\n",
    ")"
   ]
  },
  {
   "cell_type": "code",
   "execution_count": 9,
   "metadata": {},
   "outputs": [
    {
     "name": "stderr",
     "output_type": "stream",
     "text": [
      "File not found - \"*.flac\"\n"
     ]
    }
   ],
   "source": [
    "# Normalize the volume of all audio files to -27dB\n",
    "!find \"../data/converted/TSync2-to-vctk-ph/wav16_silence_trimmed\" -type f -name \"*.flac\" -exec sh -c 'ffmpeg-normalize \"$1\" -nt rms -t=-27 -o \"$1\" -ar 16000 -f -ext flac -c:a flac' _ {} \\;"
   ]
  },
  {
   "cell_type": "markdown",
   "metadata": {},
   "source": [
    "# Create metadata"
   ]
  },
  {
   "cell_type": "code",
   "execution_count": 10,
   "metadata": {},
   "outputs": [],
   "source": [
    "DEST_DIR = Path(DEST_DIR)\n",
    "\n",
    "# Write character files\n",
    "sorted_chars = sorted(all_chars)\n",
    "with open(DEST_DIR / 'all_chars_unicode.txt', 'w') as f:\n",
    "   f.write(''.join(c.encode('unicode_escape').decode('ascii') for c in sorted_chars))\n",
    "   \n",
    "with open(DEST_DIR / 'all_chars.txt', 'w') as f:\n",
    "   f.write(''.join(sorted_chars))"
   ]
  }
 ],
 "metadata": {
  "kernelspec": {
   "display_name": "voicecraft",
   "language": "python",
   "name": "python3"
  },
  "language_info": {
   "codemirror_mode": {
    "name": "ipython",
    "version": 3
   },
   "file_extension": ".py",
   "mimetype": "text/x-python",
   "name": "python",
   "nbconvert_exporter": "python",
   "pygments_lexer": "ipython3",
   "version": "3.9.20"
  }
 },
 "nbformat": 4,
 "nbformat_minor": 2
}
