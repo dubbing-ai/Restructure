{
 "cells": [
  {
   "cell_type": "markdown",
   "metadata": {},
   "source": [
    "# Import libraries"
   ]
  },
  {
   "cell_type": "code",
   "execution_count": 1,
   "metadata": {},
   "outputs": [],
   "source": [
    "import os\n",
    "from pathlib import Path\n",
    "import shutil\n",
    "from tqdm import tqdm\n",
    "from typing import Tuple\n",
    "from concurrent.futures import ThreadPoolExecutor\n",
    "import threading\n",
    "\n",
    "import sys\n",
    "sys.path.append('..')\n",
    "from utils.audio_util import convert_wav_to_flac, resample_audios, trim_silence_with_vad\n",
    "from utils.file_util import recursive_copy"
   ]
  },
  {
   "cell_type": "markdown",
   "metadata": {},
   "source": [
    "# Moving files to the new directory"
   ]
  },
  {
   "cell_type": "code",
   "execution_count": null,
   "metadata": {},
   "outputs": [],
   "source": [
    "!find \"../data/raw/TSync2/wav\" -type f -name \"*.wav\" -exec sh -c 'ffmpeg -i \"$1\" -c:a pcm_mulaw \"${1%.wav}.tmp.wav\" && mv \"${1%.wav}.tmp.wav\" \"$1\"' _ {} \\;"
   ]
  },
  {
   "cell_type": "code",
   "execution_count": 3,
   "metadata": {},
   "outputs": [
    {
     "name": "stdout",
     "output_type": "stream",
     "text": [
      "Clearing destination folder\n"
     ]
    },
    {
     "name": "stderr",
     "output_type": "stream",
     "text": [
      "Processing files (using 8 workers): 100%|██████████| 2710/2710 [01:37<00:00, 27.93it/s]"
     ]
    },
    {
     "name": "stdout",
     "output_type": "stream",
     "text": [
      "Processed 2710 file pairs\n",
      "Skipped 0 pairs\n",
      "Unique characters found: .กขคฆงจฉชซฌญฎฏฐฑฒณดตถทธนบปผฝพฟภมยรฤลวศษสหฬอฮะัาำิีึืุูเแโใไๆ็่้๊๋์ํ\n"
     ]
    },
    {
     "name": "stderr",
     "output_type": "stream",
     "text": [
      "\n"
     ]
    }
   ],
   "source": [
    "# Define paths\n",
    "DEST_DIR = \"../data/converted/TSync2-to-vctk\"\n",
    "DEST_TEXT_PATH = os.path.join(DEST_DIR, \"txt/TSync2\")\n",
    "DEST_AUDIO_PATH = os.path.join(DEST_DIR, \"wav44/TSync2\")\n",
    "SRC_AUDIO_PATH = \"../data/raw/TSync2/wav\"\n",
    "SRC_TEXT_PATH = \"../data/raw/TSync2/wrd_ph\"\n",
    "\n",
    "# Clean and create directories\n",
    "if os.path.exists(DEST_DIR):\n",
    "    print(\"Clearing destination folder\")\n",
    "    shutil.rmtree(DEST_DIR)\n",
    "os.makedirs(DEST_TEXT_PATH, exist_ok=True)\n",
    "os.makedirs(DEST_AUDIO_PATH, exist_ok=True)\n",
    "\n",
    "# Thread-safe set for character collection\n",
    "all_chars = set()\n",
    "chars_lock = threading.Lock()\n",
    "\n",
    "# Thread-safe list for tracking skipped files\n",
    "skip_files = []\n",
    "skip_lock = threading.Lock()\n",
    "\n",
    "def process_file_pair(args: Tuple[int, Path, Path]) -> None:\n",
    "    \"\"\"Process a single pair of audio and text files\"\"\"\n",
    "    i, audio_file, text_file = args\n",
    "    try:\n",
    "        # Process audio\n",
    "        src_audio = str(audio_file)\n",
    "        dest_audio = os.path.join(DEST_AUDIO_PATH, f\"TSync2_{i:03d}_mic1.flac\")\n",
    "        \n",
    "        if not convert_wav_to_flac(src_audio, dest_audio):\n",
    "            raise Exception(\"Failed to convert audio\")\n",
    "        \n",
    "        # Process text\n",
    "        with text_file.open('r', encoding='utf-8') as f:\n",
    "            clean_text = \"\".join(f.readline().strip().split(\"|\"))\n",
    "            # Thread-safe update of all_chars\n",
    "            with chars_lock:\n",
    "                all_chars.update(clean_text)\n",
    "        \n",
    "        dest_text = os.path.join(DEST_TEXT_PATH, f\"TSync2_{i:03d}.txt\")\n",
    "        with open(dest_text, 'w', encoding='utf-8') as f:\n",
    "            f.write(clean_text)\n",
    "            \n",
    "    except Exception as e:\n",
    "        print(f\"Error processing pair {i}: {e}\")\n",
    "        with skip_lock:\n",
    "            skip_files.append(i)\n",
    "\n",
    "# Get sorted lists of files\n",
    "audio_files = sorted(Path(SRC_AUDIO_PATH).glob(\"*.wav\"))\n",
    "text_files = sorted(Path(SRC_TEXT_PATH).glob(\"*.txt\"))\n",
    "\n",
    "# Create processing arguments\n",
    "process_args = [\n",
    "    (i, audio_file, text_file) \n",
    "    for i, (audio_file, text_file) \n",
    "    in enumerate(zip(audio_files, text_files), 1)\n",
    "]\n",
    "\n",
    "max_workers = os.cpu_count()\n",
    "\n",
    "# Process files in parallel with progress bar\n",
    "with ThreadPoolExecutor(max_workers=max_workers) as executor:\n",
    "    list(tqdm(\n",
    "        executor.map(process_file_pair, process_args),\n",
    "        total=len(process_args),\n",
    "        desc=f\"Processing files (using {max_workers} workers)\"\n",
    "    ))\n",
    "\n",
    "# Print results\n",
    "print(f\"Processed {len(audio_files) - len(skip_files)} file pairs\")\n",
    "print(f\"Skipped {len(skip_files)} pairs\")\n",
    "print(f\"Unique characters found: {''.join(sorted(all_chars))}\")"
   ]
  },
  {
   "cell_type": "markdown",
   "metadata": {},
   "source": [
    "# Resample, trim, and normalize audio"
   ]
  },
  {
   "cell_type": "code",
   "execution_count": 4,
   "metadata": {},
   "outputs": [],
   "source": [
    "# Create destination directory if it doesn't exist\n",
    "os.makedirs(\"../data/converted/TSync2-to-vctk/wav16_silence_trimmed\", exist_ok=True)\n",
    "\n",
    "# Copy all files from wav32 to wav16_silence_trimmed\n",
    "src_dir = \"../data/converted/TSync2-to-vctk/wav44\"\n",
    "dst_dir = \"../data/converted/TSync2-to-vctk/wav16_silence_trimmed\"\n",
    "\n",
    "recursive_copy(src_dir, dst_dir)"
   ]
  },
  {
   "cell_type": "code",
   "execution_count": 5,
   "metadata": {},
   "outputs": [
    {
     "name": "stdout",
     "output_type": "stream",
     "text": [
      "Resampling the audio files...\n",
      "Found 2710 files...\n"
     ]
    },
    {
     "name": "stderr",
     "output_type": "stream",
     "text": [
      "100%|██████████| 2710/2710 [00:08<00:00, 315.22it/s]"
     ]
    },
    {
     "name": "stdout",
     "output_type": "stream",
     "text": [
      "Done !\n"
     ]
    },
    {
     "name": "stderr",
     "output_type": "stream",
     "text": [
      "\n"
     ]
    }
   ],
   "source": [
    "# Resample all files in wav16_silence_trimmed to 16kHz\n",
    "SAMPLE_RATE = 16000\n",
    "NUM_RESAMPLE_THREADS = 4\n",
    "\n",
    "resample_audios(\n",
    "  input_folders=\"../data/converted/TSync2-to-vctk/wav16_silence_trimmed\",\n",
    "  file_ext=\"flac\",\n",
    "  sample_rate=SAMPLE_RATE,\n",
    "  n_jobs=NUM_RESAMPLE_THREADS\n",
    ")"
   ]
  },
  {
   "cell_type": "code",
   "execution_count": 6,
   "metadata": {},
   "outputs": [
    {
     "name": "stderr",
     "output_type": "stream",
     "text": [
      "Downloading: \"https://github.com/snakers4/silero-vad/zipball/master\" to /Users/titor/.cache/torch/hub/master.zip\n"
     ]
    },
    {
     "name": "stdout",
     "output_type": "stream",
     "text": [
      "Found 2710 .flac files to process\n"
     ]
    },
    {
     "name": "stderr",
     "output_type": "stream",
     "text": [
      "Processing files:   4%|▎         | 100/2710 [00:04<01:21, 32.14it/s]"
     ]
    },
    {
     "name": "stdout",
     "output_type": "stream",
     "text": [
      "> The file ../data/converted/TSync2-to-vctk/wav16_silence_trimmed/TSync2/TSync2_2271_mic1.flac probably does not have speech please check it !!\n"
     ]
    },
    {
     "name": "stderr",
     "output_type": "stream",
     "text": [
      "Processing files:  13%|█▎        | 352/2710 [00:13<01:08, 34.54it/s]"
     ]
    },
    {
     "name": "stdout",
     "output_type": "stream",
     "text": [
      "> The file ../data/converted/TSync2-to-vctk/wav16_silence_trimmed/TSync2/TSync2_2382_mic1.flac probably does not have speech please check it !!\n"
     ]
    },
    {
     "name": "stderr",
     "output_type": "stream",
     "text": [
      "Processing files:  15%|█▌        | 412/2710 [00:15<01:16, 30.00it/s]"
     ]
    },
    {
     "name": "stdout",
     "output_type": "stream",
     "text": [
      "> The file ../data/converted/TSync2-to-vctk/wav16_silence_trimmed/TSync2/TSync2_2219_mic1.flac probably does not have speech please check it !!\n"
     ]
    },
    {
     "name": "stderr",
     "output_type": "stream",
     "text": [
      "Processing files:  18%|█▊        | 481/2710 [00:18<01:03, 34.85it/s]"
     ]
    },
    {
     "name": "stdout",
     "output_type": "stream",
     "text": [
      "> The file ../data/converted/TSync2-to-vctk/wav16_silence_trimmed/TSync2/TSync2_2530_mic1.flac probably does not have speech please check it !!\n"
     ]
    },
    {
     "name": "stderr",
     "output_type": "stream",
     "text": [
      "Processing files:  19%|█▉        | 528/2710 [00:20<01:26, 25.20it/s]"
     ]
    },
    {
     "name": "stdout",
     "output_type": "stream",
     "text": [
      "> The file ../data/converted/TSync2-to-vctk/wav16_silence_trimmed/TSync2/TSync2_2346_mic1.flac probably does not have speech please check it !!\n",
      "> The file ../data/converted/TSync2-to-vctk/wav16_silence_trimmed/TSync2/TSync2_2493_mic1.flac probably does not have speech please check it !!\n"
     ]
    },
    {
     "name": "stderr",
     "output_type": "stream",
     "text": [
      "Processing files:  20%|██        | 549/2710 [00:20<01:01, 35.14it/s]"
     ]
    },
    {
     "name": "stdout",
     "output_type": "stream",
     "text": [
      "> The file ../data/converted/TSync2-to-vctk/wav16_silence_trimmed/TSync2/TSync2_2420_mic1.flac probably does not have speech please check it !!\n"
     ]
    },
    {
     "name": "stderr",
     "output_type": "stream",
     "text": [
      "Processing files:  21%|██        | 568/2710 [00:21<01:13, 29.16it/s]"
     ]
    },
    {
     "name": "stdout",
     "output_type": "stream",
     "text": [
      "> The file ../data/converted/TSync2-to-vctk/wav16_silence_trimmed/TSync2/TSync2_2164_mic1.flac probably does not have speech please check it !!\n"
     ]
    },
    {
     "name": "stderr",
     "output_type": "stream",
     "text": [
      "Processing files:  27%|██▋       | 740/2710 [00:27<01:07, 29.15it/s]"
     ]
    },
    {
     "name": "stdout",
     "output_type": "stream",
     "text": [
      "> The file ../data/converted/TSync2-to-vctk/wav16_silence_trimmed/TSync2/TSync2_2379_mic1.flac probably does not have speech please check it !!\n"
     ]
    },
    {
     "name": "stderr",
     "output_type": "stream",
     "text": [
      "Processing files:  29%|██▉       | 783/2710 [00:29<01:05, 29.44it/s]"
     ]
    },
    {
     "name": "stdout",
     "output_type": "stream",
     "text": [
      "> The file ../data/converted/TSync2-to-vctk/wav16_silence_trimmed/TSync2/TSync2_2391_mic1.flac probably does not have speech please check it !!\n"
     ]
    },
    {
     "name": "stderr",
     "output_type": "stream",
     "text": [
      "Processing files:  33%|███▎      | 893/2710 [00:33<00:58, 31.11it/s]"
     ]
    },
    {
     "name": "stdout",
     "output_type": "stream",
     "text": [
      "> The file ../data/converted/TSync2-to-vctk/wav16_silence_trimmed/TSync2/TSync2_2360_mic1.flac probably does not have speech please check it !!\n"
     ]
    },
    {
     "name": "stderr",
     "output_type": "stream",
     "text": [
      "Processing files:  33%|███▎      | 901/2710 [00:33<01:00, 29.91it/s]"
     ]
    },
    {
     "name": "stdout",
     "output_type": "stream",
     "text": [
      "> The file ../data/converted/TSync2-to-vctk/wav16_silence_trimmed/TSync2/TSync2_2468_mic1.flac probably does not have speech please check it !!\n"
     ]
    },
    {
     "name": "stderr",
     "output_type": "stream",
     "text": [
      "Processing files:  35%|███▍      | 942/2710 [00:35<01:01, 28.80it/s]"
     ]
    },
    {
     "name": "stdout",
     "output_type": "stream",
     "text": [
      "> The file ../data/converted/TSync2-to-vctk/wav16_silence_trimmed/TSync2/TSync2_2163_mic1.flac probably does not have speech please check it !!\n"
     ]
    },
    {
     "name": "stderr",
     "output_type": "stream",
     "text": [
      "Processing files:  36%|███▌      | 963/2710 [00:36<00:57, 30.57it/s]"
     ]
    },
    {
     "name": "stdout",
     "output_type": "stream",
     "text": [
      "> The file ../data/converted/TSync2-to-vctk/wav16_silence_trimmed/TSync2/TSync2_2575_mic1.flac probably does not have speech please check it !!\n"
     ]
    },
    {
     "name": "stderr",
     "output_type": "stream",
     "text": [
      "Processing files:  38%|███▊      | 1020/2710 [00:38<00:55, 30.46it/s]"
     ]
    },
    {
     "name": "stdout",
     "output_type": "stream",
     "text": [
      "> The file ../data/converted/TSync2-to-vctk/wav16_silence_trimmed/TSync2/TSync2_2494_mic1.flac probably does not have speech please check it !!\n"
     ]
    },
    {
     "name": "stderr",
     "output_type": "stream",
     "text": [
      "Processing files:  38%|███▊      | 1040/2710 [00:38<00:56, 29.65it/s]"
     ]
    },
    {
     "name": "stdout",
     "output_type": "stream",
     "text": [
      "> The file ../data/converted/TSync2-to-vctk/wav16_silence_trimmed/TSync2/TSync2_2438_mic1.flac probably does not have speech please check it !!\n"
     ]
    },
    {
     "name": "stderr",
     "output_type": "stream",
     "text": [
      "Processing files:  39%|███▊      | 1050/2710 [00:39<00:50, 33.04it/s]"
     ]
    },
    {
     "name": "stdout",
     "output_type": "stream",
     "text": [
      "> The file ../data/converted/TSync2-to-vctk/wav16_silence_trimmed/TSync2/TSync2_2674_mic1.flac probably does not have speech please check it !!\n",
      "> The file ../data/converted/TSync2-to-vctk/wav16_silence_trimmed/TSync2/TSync2_2397_mic1.flac probably does not have speech please check it !!\n",
      "> The file ../data/converted/TSync2-to-vctk/wav16_silence_trimmed/TSync2/TSync2_2168_mic1.flac probably does not have speech please check it !!\n"
     ]
    },
    {
     "name": "stderr",
     "output_type": "stream",
     "text": [
      "Processing files:  40%|███▉      | 1075/2710 [00:39<00:48, 33.90it/s]"
     ]
    },
    {
     "name": "stdout",
     "output_type": "stream",
     "text": [
      "> The file ../data/converted/TSync2-to-vctk/wav16_silence_trimmed/TSync2/TSync2_2660_mic1.flac probably does not have speech please check it !!\n"
     ]
    },
    {
     "name": "stderr",
     "output_type": "stream",
     "text": [
      "Processing files:  41%|████      | 1117/2710 [00:41<00:49, 32.15it/s]"
     ]
    },
    {
     "name": "stdout",
     "output_type": "stream",
     "text": [
      "> The file ../data/converted/TSync2-to-vctk/wav16_silence_trimmed/TSync2/TSync2_2477_mic1.flac probably does not have speech please check it !!\n"
     ]
    },
    {
     "name": "stderr",
     "output_type": "stream",
     "text": [
      "Processing files:  43%|████▎     | 1169/2710 [00:43<00:44, 34.29it/s]"
     ]
    },
    {
     "name": "stdout",
     "output_type": "stream",
     "text": [
      "> The file ../data/converted/TSync2-to-vctk/wav16_silence_trimmed/TSync2/TSync2_2305_mic1.flac probably does not have speech please check it !!\n"
     ]
    },
    {
     "name": "stderr",
     "output_type": "stream",
     "text": [
      "Processing files:  44%|████▍     | 1193/2710 [00:44<00:49, 30.94it/s]"
     ]
    },
    {
     "name": "stdout",
     "output_type": "stream",
     "text": [
      "> The file ../data/converted/TSync2-to-vctk/wav16_silence_trimmed/TSync2/TSync2_2329_mic1.flac probably does not have speech please check it !!\n"
     ]
    },
    {
     "name": "stderr",
     "output_type": "stream",
     "text": [
      "Processing files:  46%|████▌     | 1245/2710 [00:45<00:44, 32.62it/s]"
     ]
    },
    {
     "name": "stdout",
     "output_type": "stream",
     "text": [
      "> The file ../data/converted/TSync2-to-vctk/wav16_silence_trimmed/TSync2/TSync2_2171_mic1.flac probably does not have speech please check it !!\n"
     ]
    },
    {
     "name": "stderr",
     "output_type": "stream",
     "text": [
      "Processing files:  47%|████▋     | 1266/2710 [00:46<00:38, 37.28it/s]"
     ]
    },
    {
     "name": "stdout",
     "output_type": "stream",
     "text": [
      "> The file ../data/converted/TSync2-to-vctk/wav16_silence_trimmed/TSync2/TSync2_2567_mic1.flac probably does not have speech please check it !!\n",
      "> The file ../data/converted/TSync2-to-vctk/wav16_silence_trimmed/TSync2/TSync2_2617_mic1.flac probably does not have speech please check it !!\n",
      "> The file ../data/converted/TSync2-to-vctk/wav16_silence_trimmed/TSync2/TSync2_2421_mic1.flac probably does not have speech please check it !!\n"
     ]
    },
    {
     "name": "stderr",
     "output_type": "stream",
     "text": [
      "Processing files:  47%|████▋     | 1287/2710 [00:47<00:44, 31.71it/s]"
     ]
    },
    {
     "name": "stdout",
     "output_type": "stream",
     "text": [
      "> The file ../data/converted/TSync2-to-vctk/wav16_silence_trimmed/TSync2/TSync2_2366_mic1.flac probably does not have speech please check it !!\n",
      "> The file ../data/converted/TSync2-to-vctk/wav16_silence_trimmed/TSync2/TSync2_2685_mic1.flac probably does not have speech please check it !!\n",
      "> The file ../data/converted/TSync2-to-vctk/wav16_silence_trimmed/TSync2/TSync2_2220_mic1.flac probably does not have speech please check it !!\n"
     ]
    },
    {
     "name": "stderr",
     "output_type": "stream",
     "text": [
      "Processing files:  49%|████▊     | 1318/2710 [00:48<00:41, 33.80it/s]"
     ]
    },
    {
     "name": "stdout",
     "output_type": "stream",
     "text": [
      "> The file ../data/converted/TSync2-to-vctk/wav16_silence_trimmed/TSync2/TSync2_2622_mic1.flac probably does not have speech please check it !!\n",
      "> The file ../data/converted/TSync2-to-vctk/wav16_silence_trimmed/TSync2/TSync2_2287_mic1.flac probably does not have speech please check it !!\n"
     ]
    },
    {
     "name": "stderr",
     "output_type": "stream",
     "text": [
      "Processing files:  49%|████▉     | 1339/2710 [00:48<00:47, 29.04it/s]"
     ]
    },
    {
     "name": "stdout",
     "output_type": "stream",
     "text": [
      "> The file ../data/converted/TSync2-to-vctk/wav16_silence_trimmed/TSync2/TSync2_2234_mic1.flac probably does not have speech please check it !!\n"
     ]
    },
    {
     "name": "stderr",
     "output_type": "stream",
     "text": [
      "Processing files:  50%|████▉     | 1343/2710 [00:49<00:46, 29.11it/s]"
     ]
    },
    {
     "name": "stdout",
     "output_type": "stream",
     "text": [
      "> The file ../data/converted/TSync2-to-vctk/wav16_silence_trimmed/TSync2/TSync2_2372_mic1.flac probably does not have speech please check it !!\n"
     ]
    },
    {
     "name": "stderr",
     "output_type": "stream",
     "text": [
      "Processing files:  52%|█████▏    | 1407/2710 [00:51<00:45, 28.75it/s]"
     ]
    },
    {
     "name": "stdout",
     "output_type": "stream",
     "text": [
      "> The file ../data/converted/TSync2-to-vctk/wav16_silence_trimmed/TSync2/TSync2_2447_mic1.flac probably does not have speech please check it !!\n"
     ]
    },
    {
     "name": "stderr",
     "output_type": "stream",
     "text": [
      "Processing files:  54%|█████▍    | 1464/2710 [00:53<00:39, 31.48it/s]"
     ]
    },
    {
     "name": "stdout",
     "output_type": "stream",
     "text": [
      "> The file ../data/converted/TSync2-to-vctk/wav16_silence_trimmed/TSync2/TSync2_2593_mic1.flac probably does not have speech please check it !!\n"
     ]
    },
    {
     "name": "stderr",
     "output_type": "stream",
     "text": [
      "Processing files:  55%|█████▌    | 1499/2710 [00:54<00:39, 30.34it/s]"
     ]
    },
    {
     "name": "stdout",
     "output_type": "stream",
     "text": [
      "> The file ../data/converted/TSync2-to-vctk/wav16_silence_trimmed/TSync2/TSync2_2252_mic1.flac probably does not have speech please check it !!\n"
     ]
    },
    {
     "name": "stderr",
     "output_type": "stream",
     "text": [
      "Processing files:  59%|█████▉    | 1603/2710 [00:58<00:33, 33.06it/s]"
     ]
    },
    {
     "name": "stdout",
     "output_type": "stream",
     "text": [
      "> The file ../data/converted/TSync2-to-vctk/wav16_silence_trimmed/TSync2/TSync2_2606_mic1.flac probably does not have speech please check it !!\n"
     ]
    },
    {
     "name": "stderr",
     "output_type": "stream",
     "text": [
      "Processing files:  61%|██████    | 1647/2710 [01:00<00:50, 20.92it/s]"
     ]
    },
    {
     "name": "stdout",
     "output_type": "stream",
     "text": [
      "> The file ../data/converted/TSync2-to-vctk/wav16_silence_trimmed/TSync2/TSync2_2543_mic1.flac probably does not have speech please check it !!\n"
     ]
    },
    {
     "name": "stderr",
     "output_type": "stream",
     "text": [
      "Processing files:  61%|██████▏   | 1660/2710 [01:00<00:46, 22.44it/s]"
     ]
    },
    {
     "name": "stdout",
     "output_type": "stream",
     "text": [
      "> The file ../data/converted/TSync2-to-vctk/wav16_silence_trimmed/TSync2/TSync2_2633_mic1.flac probably does not have speech please check it !!\n"
     ]
    },
    {
     "name": "stderr",
     "output_type": "stream",
     "text": [
      "Processing files:  63%|██████▎   | 1706/2710 [01:02<00:37, 26.44it/s]"
     ]
    },
    {
     "name": "stdout",
     "output_type": "stream",
     "text": [
      "> The file ../data/converted/TSync2-to-vctk/wav16_silence_trimmed/TSync2/TSync2_2289_mic1.flac probably does not have speech please check it !!\n"
     ]
    },
    {
     "name": "stderr",
     "output_type": "stream",
     "text": [
      "Processing files:  63%|██████▎   | 1714/2710 [01:02<00:36, 27.24it/s]"
     ]
    },
    {
     "name": "stdout",
     "output_type": "stream",
     "text": [
      "> The file ../data/converted/TSync2-to-vctk/wav16_silence_trimmed/TSync2/TSync2_2526_mic1.flac probably does not have speech please check it !!\n"
     ]
    },
    {
     "name": "stderr",
     "output_type": "stream",
     "text": [
      "Processing files:  66%|██████▌   | 1794/2710 [01:05<00:30, 30.32it/s]"
     ]
    },
    {
     "name": "stdout",
     "output_type": "stream",
     "text": [
      "> The file ../data/converted/TSync2-to-vctk/wav16_silence_trimmed/TSync2/TSync2_2380_mic1.flac probably does not have speech please check it !!\n"
     ]
    },
    {
     "name": "stderr",
     "output_type": "stream",
     "text": [
      "Processing files:  67%|██████▋   | 1816/2710 [01:06<00:25, 35.06it/s]"
     ]
    },
    {
     "name": "stdout",
     "output_type": "stream",
     "text": [
      "> The file ../data/converted/TSync2-to-vctk/wav16_silence_trimmed/TSync2/TSync2_2569_mic1.flac probably does not have speech please check it !!\n"
     ]
    },
    {
     "name": "stderr",
     "output_type": "stream",
     "text": [
      "Processing files:  71%|███████▏  | 1936/2710 [01:10<00:24, 32.00it/s]"
     ]
    },
    {
     "name": "stdout",
     "output_type": "stream",
     "text": [
      "> The file ../data/converted/TSync2-to-vctk/wav16_silence_trimmed/TSync2/TSync2_2635_mic1.flac probably does not have speech please check it !!\n"
     ]
    },
    {
     "name": "stderr",
     "output_type": "stream",
     "text": [
      "Processing files:  72%|███████▏  | 1940/2710 [01:10<00:24, 31.66it/s]"
     ]
    },
    {
     "name": "stdout",
     "output_type": "stream",
     "text": [
      "> The file ../data/converted/TSync2-to-vctk/wav16_silence_trimmed/TSync2/TSync2_2259_mic1.flac probably does not have speech please check it !!\n"
     ]
    },
    {
     "name": "stderr",
     "output_type": "stream",
     "text": [
      "Processing files:  73%|███████▎  | 1981/2710 [01:12<00:22, 32.25it/s]"
     ]
    },
    {
     "name": "stdout",
     "output_type": "stream",
     "text": [
      "> The file ../data/converted/TSync2-to-vctk/wav16_silence_trimmed/TSync2/TSync2_2422_mic1.flac probably does not have speech please check it !!\n"
     ]
    },
    {
     "name": "stderr",
     "output_type": "stream",
     "text": [
      "Processing files:  75%|███████▍  | 2028/2710 [01:13<00:20, 33.98it/s]"
     ]
    },
    {
     "name": "stdout",
     "output_type": "stream",
     "text": [
      "> The file ../data/converted/TSync2-to-vctk/wav16_silence_trimmed/TSync2/TSync2_2350_mic1.flac probably does not have speech please check it !!\n"
     ]
    },
    {
     "name": "stderr",
     "output_type": "stream",
     "text": [
      "Processing files:  82%|████████▏ | 2216/2710 [01:20<00:15, 32.36it/s]"
     ]
    },
    {
     "name": "stdout",
     "output_type": "stream",
     "text": [
      "> The file ../data/converted/TSync2-to-vctk/wav16_silence_trimmed/TSync2/TSync2_2161_mic1.flac probably does not have speech please check it !!\n"
     ]
    },
    {
     "name": "stderr",
     "output_type": "stream",
     "text": [
      "Processing files:  83%|████████▎ | 2251/2710 [01:22<00:14, 30.86it/s]"
     ]
    },
    {
     "name": "stdout",
     "output_type": "stream",
     "text": [
      "> The file ../data/converted/TSync2-to-vctk/wav16_silence_trimmed/TSync2/TSync2_2563_mic1.flac probably does not have speech please check it !!\n"
     ]
    },
    {
     "name": "stderr",
     "output_type": "stream",
     "text": [
      "Processing files:  87%|████████▋ | 2369/2710 [01:26<00:10, 31.14it/s]"
     ]
    },
    {
     "name": "stdout",
     "output_type": "stream",
     "text": [
      "> The file ../data/converted/TSync2-to-vctk/wav16_silence_trimmed/TSync2/TSync2_2410_mic1.flac probably does not have speech please check it !!\n"
     ]
    },
    {
     "name": "stderr",
     "output_type": "stream",
     "text": [
      "Processing files:  88%|████████▊ | 2381/2710 [01:27<00:13, 24.71it/s]"
     ]
    },
    {
     "name": "stdout",
     "output_type": "stream",
     "text": [
      "> The file ../data/converted/TSync2-to-vctk/wav16_silence_trimmed/TSync2/TSync2_2533_mic1.flac probably does not have speech please check it !!\n"
     ]
    },
    {
     "name": "stderr",
     "output_type": "stream",
     "text": [
      "Processing files:  88%|████████▊ | 2389/2710 [01:27<00:11, 28.60it/s]"
     ]
    },
    {
     "name": "stdout",
     "output_type": "stream",
     "text": [
      "> The file ../data/converted/TSync2-to-vctk/wav16_silence_trimmed/TSync2/TSync2_2643_mic1.flac probably does not have speech please check it !!\n",
      "> The file ../data/converted/TSync2-to-vctk/wav16_silence_trimmed/TSync2/TSync2_2196_mic1.flac probably does not have speech please check it !!\n"
     ]
    },
    {
     "name": "stderr",
     "output_type": "stream",
     "text": [
      "Processing files:  89%|████████▉ | 2420/2710 [01:28<00:07, 36.56it/s]"
     ]
    },
    {
     "name": "stdout",
     "output_type": "stream",
     "text": [
      "> The file ../data/converted/TSync2-to-vctk/wav16_silence_trimmed/TSync2/TSync2_2594_mic1.flac probably does not have speech please check it !!\n"
     ]
    },
    {
     "name": "stderr",
     "output_type": "stream",
     "text": [
      "Processing files:  93%|█████████▎| 2531/2710 [01:32<00:06, 28.36it/s]"
     ]
    },
    {
     "name": "stdout",
     "output_type": "stream",
     "text": [
      "> The file ../data/converted/TSync2-to-vctk/wav16_silence_trimmed/TSync2/TSync2_2332_mic1.flac probably does not have speech please check it !!\n"
     ]
    },
    {
     "name": "stderr",
     "output_type": "stream",
     "text": [
      "Processing files:  95%|█████████▌| 2576/2710 [01:34<00:05, 25.76it/s]"
     ]
    },
    {
     "name": "stdout",
     "output_type": "stream",
     "text": [
      "> The file ../data/converted/TSync2-to-vctk/wav16_silence_trimmed/TSync2/TSync2_2291_mic1.flac probably does not have speech please check it !!\n"
     ]
    },
    {
     "name": "stderr",
     "output_type": "stream",
     "text": [
      "Processing files: 100%|█████████▉| 2704/2710 [01:38<00:00, 27.83it/s]"
     ]
    },
    {
     "name": "stdout",
     "output_type": "stream",
     "text": [
      "> The file ../data/converted/TSync2-to-vctk/wav16_silence_trimmed/TSync2/TSync2_2423_mic1.flac probably does not have speech please check it !!\n"
     ]
    },
    {
     "name": "stderr",
     "output_type": "stream",
     "text": [
      "Processing files: 100%|██████████| 2710/2710 [01:39<00:00, 27.33it/s]"
     ]
    },
    {
     "name": "stdout",
     "output_type": "stream",
     "text": [
      "\n",
      "Processing complete\n",
      "\n",
      "Found 58 files with no speech. List saved to ../data/converted/TSync2-to-vctk/no_speech_files.txt\n"
     ]
    },
    {
     "name": "stderr",
     "output_type": "stream",
     "text": [
      "\n"
     ]
    }
   ],
   "source": [
    "# Trim silence at the beginning and end of each audio file\n",
    "trim_silence_with_vad(\n",
    "  input_folder=\"../data/converted/TSync2-to-vctk/wav16_silence_trimmed\",\n",
    "  file_extension=\"flac\",\n",
    ")"
   ]
  },
  {
   "cell_type": "code",
   "execution_count": 7,
   "metadata": {},
   "outputs": [],
   "source": [
    "# Normalize the volume of all audio files to -27dB\n",
    "!find \"../data/converted/TSync2-to-vctk/wav16_silence_trimmed\" -type f -name \"*.flac\" -exec sh -c 'ffmpeg-normalize \"$1\" -nt rms -t=-27 -o \"$1\" -ar 16000 -f -ext flac -c:a flac' _ {} \\;"
   ]
  },
  {
   "cell_type": "markdown",
   "metadata": {},
   "source": [
    "# Create metadata"
   ]
  },
  {
   "cell_type": "code",
   "execution_count": 8,
   "metadata": {},
   "outputs": [],
   "source": [
    "DEST_DIR = Path(DEST_DIR)\n",
    "\n",
    "# Write character files\n",
    "sorted_chars = sorted(all_chars)\n",
    "with open(DEST_DIR / 'all_chars_unicode.txt', 'w') as f:\n",
    "   f.write(''.join(c.encode('unicode_escape').decode('ascii') for c in sorted_chars))\n",
    "   \n",
    "with open(DEST_DIR / 'all_chars.txt', 'w') as f:\n",
    "   f.write(''.join(sorted_chars))"
   ]
  }
 ],
 "metadata": {
  "kernelspec": {
   "display_name": "khongkhuntts-EJcUAAU7-py3.11",
   "language": "python",
   "name": "python3"
  },
  "language_info": {
   "codemirror_mode": {
    "name": "ipython",
    "version": 3
   },
   "file_extension": ".py",
   "mimetype": "text/x-python",
   "name": "python",
   "nbconvert_exporter": "python",
   "pygments_lexer": "ipython3",
   "version": "3.11.9"
  }
 },
 "nbformat": 4,
 "nbformat_minor": 2
}
