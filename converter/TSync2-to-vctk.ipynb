{
 "cells": [
  {
   "cell_type": "markdown",
   "metadata": {},
   "source": [
    "# Import libraries"
   ]
  },
  {
   "cell_type": "code",
   "execution_count": 2,
   "metadata": {},
   "outputs": [
    {
     "name": "stderr",
     "output_type": "stream",
     "text": [
      "/Users/titor/Library/Caches/pypoetry/virtualenvs/khongkhuntts-EJcUAAU7-py3.11/lib/python3.11/site-packages/pydub/utils.py:170: RuntimeWarning: Couldn't find ffmpeg or avconv - defaulting to ffmpeg, but may not work\n",
      "  warn(\"Couldn't find ffmpeg or avconv - defaulting to ffmpeg, but may not work\", RuntimeWarning)\n"
     ]
    }
   ],
   "source": [
    "import os\n",
    "from pathlib import Path\n",
    "import shutil\n",
    "from pydub import AudioSegment\n",
    "from tqdm import tqdm\n",
    "import torch\n",
    "\n",
    "from TTS.bin.resample import resample_files\n",
    "from TTS.utils.vad import get_vad_model_and_utils, remove_silence\n",
    "\n",
    "import json"
   ]
  },
  {
   "cell_type": "markdown",
   "metadata": {},
   "source": [
    "# Moving files to the new directory"
   ]
  },
  {
   "cell_type": "code",
   "execution_count": 2,
   "metadata": {},
   "outputs": [
    {
     "name": "stderr",
     "output_type": "stream",
     "text": [
      "Processing files: 100%|██████████| 2710/2710 [05:48<00:00,  7.77it/s]"
     ]
    },
    {
     "name": "stdout",
     "output_type": "stream",
     "text": [
      "Processed 2710 file pairs\n",
      "Skipped 0 pairs\n",
      "Unique characters found: .กขคฆงจฉชซฌญฎฏฐฑฒณดตถทธนบปผฝพฟภมยรฤลวศษสหฬอฮะัาำิีึืุูเแโใไๆ็่้๊๋์ํ\n"
     ]
    },
    {
     "name": "stderr",
     "output_type": "stream",
     "text": [
      "\n"
     ]
    }
   ],
   "source": [
    "# Define paths\n",
    "DEST_DIR = \"../data/converted/TSync2-to-vctk\"\n",
    "DEST_TEXT_PATH = os.path.join(DEST_DIR, \"txt/TSync2\")\n",
    "DEST_AUDIO_PATH = os.path.join(DEST_DIR, \"wav44/TSync2\")\n",
    "SRC_AUDIO_PATH = \"../data/raw/TSync2/wav\"\n",
    "SRC_TEXT_PATH = \"../data/raw/TSync2/wrd_ph\"\n",
    "\n",
    "def convert_wav_to_flac(src_path: str, dst_path: str) -> bool:\n",
    "    \"\"\"Convert WAV file to FLAC format using pydub\"\"\"\n",
    "    try:\n",
    "        # Load WAV file\n",
    "        audio = AudioSegment.from_file(src_path, format=\"wav\")\n",
    "        \n",
    "        # Export as FLAC\"\n",
    "        audio.export(\n",
    "            dst_path,\n",
    "            format=\"flac\",\n",
    "            parameters=[\n",
    "                \"-ac\", \"1\",  # mono audio\n",
    "                \"-ar\", \"32000\",  # 32kHz sample rate\n",
    "                \"-compression_level\", \"8\"  # highest compression\n",
    "            ]\n",
    "        )\n",
    "    except Exception as e:\n",
    "        print(f\"Error converting {src_path}: {str(e)}\")\n",
    "        return False\n",
    "    return True\n",
    "\n",
    "# Clean and create directories\n",
    "if os.path.exists(DEST_DIR):\n",
    "    print(\"Clearing destination folder\")\n",
    "    shutil.rmtree(DEST_DIR)\n",
    "os.makedirs(DEST_TEXT_PATH, exist_ok=True)\n",
    "os.makedirs(DEST_AUDIO_PATH, exist_ok=True)\n",
    "\n",
    "all_chars = set()\n",
    "skip_files = []\n",
    "\n",
    "# Get sorted lists of files\n",
    "audio_files = sorted(Path(SRC_AUDIO_PATH).glob(\"*.wav\"))\n",
    "text_files = sorted(Path(SRC_TEXT_PATH).glob(\"*.txt\"))\n",
    "\n",
    "# Process files with progress bar\n",
    "for i, (audio_file, text_file) in enumerate(tqdm(zip(audio_files, text_files), total=len(audio_files), desc=\"Processing files\"), 1):\n",
    "    try:\n",
    "        # Process audio\n",
    "        src_audio = str(audio_file)\n",
    "        dest_audio = os.path.join(DEST_AUDIO_PATH, f\"TSync2_{i:03d}_mic1.flac\")\n",
    "        \n",
    "        if not convert_wav_to_flac(src_audio, dest_audio):\n",
    "            raise Exception(\"Failed to convert audio\")\n",
    "        \n",
    "        # Process text\n",
    "        with text_file.open('r', encoding='utf-8') as f:\n",
    "            clean_text = \"\".join(f.readline().strip().split(\"|\"))\n",
    "            all_chars.update(clean_text)\n",
    "        \n",
    "        dest_text = os.path.join(DEST_TEXT_PATH, f\"TSync2_{i:03d}.txt\")\n",
    "        with open(dest_text, 'w', encoding='utf-8') as f:\n",
    "            f.write(clean_text)\n",
    "            \n",
    "    except Exception as e:\n",
    "        print(f\"Error processing pair {i}: {e}\")\n",
    "        skip_files.append(i)\n",
    "        continue\n",
    "\n",
    "print(f\"Processed {len(audio_files) - len(skip_files)} file pairs\")\n",
    "print(f\"Skipped {len(skip_files)} pairs\")\n",
    "print(f\"Unique characters found: {''.join(sorted(all_chars))}\")"
   ]
  },
  {
   "cell_type": "markdown",
   "metadata": {},
   "source": [
    "# Resample and trim audio"
   ]
  },
  {
   "cell_type": "code",
   "execution_count": 3,
   "metadata": {},
   "outputs": [],
   "source": [
    "# Create destination directory if it doesn't exist\n",
    "os.makedirs(\"../data/converted/TSync2-to-vctk/wav16_silence_trimmed\", exist_ok=True)\n",
    "\n",
    "# Copy all files from wav32 to wav16_silence_trimmed\n",
    "src_dir = \"../data/converted/TSync2-to-vctk/wav44\"\n",
    "dst_dir = \"../data/converted/TSync2-to-vctk/wav16_silence_trimmed\"\n",
    "\n",
    "# Walk through the source directory and copy files while preserving directory structure\n",
    "for root, dirs, files in os.walk(src_dir):\n",
    "  for dir_name in dirs:\n",
    "    src_path = os.path.join(root, dir_name)\n",
    "    dst_path = os.path.join(dst_dir, os.path.relpath(src_path, src_dir))\n",
    "    os.makedirs(dst_path, exist_ok=True)\n",
    "  \n",
    "  for file_name in files:\n",
    "    src_path = os.path.join(root, file_name)\n",
    "    dst_path = os.path.join(dst_dir, os.path.relpath(src_path, src_dir))\n",
    "    shutil.copy2(src_path, dst_path)"
   ]
  },
  {
   "cell_type": "code",
   "execution_count": 4,
   "metadata": {},
   "outputs": [
    {
     "name": "stdout",
     "output_type": "stream",
     "text": [
      "Resampling the audio files...\n",
      "Found 2710 files...\n"
     ]
    },
    {
     "name": "stderr",
     "output_type": "stream",
     "text": [
      "100%|██████████| 2710/2710 [00:06<00:00, 397.51it/s]"
     ]
    },
    {
     "name": "stdout",
     "output_type": "stream",
     "text": [
      "Done !\n"
     ]
    },
    {
     "name": "stderr",
     "output_type": "stream",
     "text": [
      "\n"
     ]
    }
   ],
   "source": [
    "SAMPLE_RATE = 16000\n",
    "NUM_RESAMPLE_THREADS = 4\n",
    "\n",
    "resample_files(\"../data/converted/TSync2-to-vctk/wav16_silence_trimmed\", SAMPLE_RATE, file_ext=\"flac\", n_jobs=NUM_RESAMPLE_THREADS)"
   ]
  },
  {
   "cell_type": "code",
   "execution_count": 5,
   "metadata": {},
   "outputs": [
    {
     "name": "stderr",
     "output_type": "stream",
     "text": [
      "Downloading: \"https://github.com/snakers4/silero-vad/zipball/master\" to /home/titor/.cache/torch/hub/master.zip\n"
     ]
    },
    {
     "name": "stdout",
     "output_type": "stream",
     "text": [
      "Found 2710 .flac files to process\n"
     ]
    },
    {
     "name": "stderr",
     "output_type": "stream",
     "text": [
      "Processing files:   1%|          | 28/2710 [00:04<06:20,  7.05it/s]"
     ]
    },
    {
     "name": "stdout",
     "output_type": "stream",
     "text": [
      "> The file ../data/converted/TSync2-to-vctk/wav16_silence_trimmed/Tsync2/Tsync2_2447_mic1.flac probably does not have speech please check it !!\n"
     ]
    },
    {
     "name": "stderr",
     "output_type": "stream",
     "text": [
      "Processing files:   3%|▎         | 84/2710 [00:10<05:34,  7.85it/s]"
     ]
    },
    {
     "name": "stdout",
     "output_type": "stream",
     "text": [
      "> The file ../data/converted/TSync2-to-vctk/wav16_silence_trimmed/Tsync2/Tsync2_2421_mic1.flac probably does not have speech please check it !!\n"
     ]
    },
    {
     "name": "stderr",
     "output_type": "stream",
     "text": [
      "Processing files:   3%|▎         | 93/2710 [00:11<03:42, 11.76it/s]"
     ]
    },
    {
     "name": "stdout",
     "output_type": "stream",
     "text": [
      "> The file ../data/converted/TSync2-to-vctk/wav16_silence_trimmed/Tsync2/Tsync2_2164_mic1.flac probably does not have speech please check it !!\n"
     ]
    },
    {
     "name": "stderr",
     "output_type": "stream",
     "text": [
      "Processing files:   5%|▌         | 147/2710 [00:18<05:19,  8.03it/s]"
     ]
    },
    {
     "name": "stdout",
     "output_type": "stream",
     "text": [
      "> The file ../data/converted/TSync2-to-vctk/wav16_silence_trimmed/Tsync2/Tsync2_2219_mic1.flac probably does not have speech please check it !!\n"
     ]
    },
    {
     "name": "stderr",
     "output_type": "stream",
     "text": [
      "Processing files:   6%|▌         | 154/2710 [00:19<05:01,  8.47it/s]"
     ]
    },
    {
     "name": "stdout",
     "output_type": "stream",
     "text": [
      "> The file ../data/converted/TSync2-to-vctk/wav16_silence_trimmed/Tsync2/Tsync2_2196_mic1.flac probably does not have speech please check it !!\n"
     ]
    },
    {
     "name": "stderr",
     "output_type": "stream",
     "text": [
      "Processing files:   6%|▌         | 159/2710 [00:20<04:12, 10.09it/s]"
     ]
    },
    {
     "name": "stdout",
     "output_type": "stream",
     "text": [
      "> The file ../data/converted/TSync2-to-vctk/wav16_silence_trimmed/Tsync2/Tsync2_2350_mic1.flac probably does not have speech please check it !!\n"
     ]
    },
    {
     "name": "stderr",
     "output_type": "stream",
     "text": [
      "Processing files:   6%|▌         | 167/2710 [00:20<04:05, 10.37it/s]"
     ]
    },
    {
     "name": "stdout",
     "output_type": "stream",
     "text": [
      "> The file ../data/converted/TSync2-to-vctk/wav16_silence_trimmed/Tsync2/Tsync2_2234_mic1.flac probably does not have speech please check it !!\n"
     ]
    },
    {
     "name": "stderr",
     "output_type": "stream",
     "text": [
      "Processing files:   7%|▋         | 199/2710 [00:24<04:48,  8.71it/s]"
     ]
    },
    {
     "name": "stdout",
     "output_type": "stream",
     "text": [
      "> The file ../data/converted/TSync2-to-vctk/wav16_silence_trimmed/Tsync2/Tsync2_2674_mic1.flac probably does not have speech please check it !!\n"
     ]
    },
    {
     "name": "stderr",
     "output_type": "stream",
     "text": [
      "Processing files:   9%|▉         | 239/2710 [00:29<05:52,  7.01it/s]"
     ]
    },
    {
     "name": "stdout",
     "output_type": "stream",
     "text": [
      "> The file ../data/converted/TSync2-to-vctk/wav16_silence_trimmed/Tsync2/Tsync2_2622_mic1.flac probably does not have speech please check it !!\n"
     ]
    },
    {
     "name": "stderr",
     "output_type": "stream",
     "text": [
      "Processing files:  10%|█         | 271/2710 [00:33<03:57, 10.28it/s]"
     ]
    },
    {
     "name": "stdout",
     "output_type": "stream",
     "text": [
      "> The file ../data/converted/TSync2-to-vctk/wav16_silence_trimmed/Tsync2/Tsync2_2346_mic1.flac probably does not have speech please check it !!\n"
     ]
    },
    {
     "name": "stderr",
     "output_type": "stream",
     "text": [
      "Processing files:  12%|█▏        | 312/2710 [00:38<03:57, 10.09it/s]"
     ]
    },
    {
     "name": "stdout",
     "output_type": "stream",
     "text": [
      "> The file ../data/converted/TSync2-to-vctk/wav16_silence_trimmed/Tsync2/Tsync2_2161_mic1.flac probably does not have speech please check it !!\n"
     ]
    },
    {
     "name": "stderr",
     "output_type": "stream",
     "text": [
      "Processing files:  12%|█▏        | 315/2710 [00:38<03:28, 11.49it/s]"
     ]
    },
    {
     "name": "stdout",
     "output_type": "stream",
     "text": [
      "> The file ../data/converted/TSync2-to-vctk/wav16_silence_trimmed/Tsync2/Tsync2_2391_mic1.flac probably does not have speech please check it !!\n"
     ]
    },
    {
     "name": "stderr",
     "output_type": "stream",
     "text": [
      "Processing files:  12%|█▏        | 335/2710 [00:41<07:49,  5.06it/s]"
     ]
    },
    {
     "name": "stdout",
     "output_type": "stream",
     "text": [
      "> The file ../data/converted/TSync2-to-vctk/wav16_silence_trimmed/Tsync2/Tsync2_2635_mic1.flac probably does not have speech please check it !!\n"
     ]
    },
    {
     "name": "stderr",
     "output_type": "stream",
     "text": [
      "Processing files:  13%|█▎        | 360/2710 [00:45<04:03,  9.65it/s]"
     ]
    },
    {
     "name": "stdout",
     "output_type": "stream",
     "text": [
      "> The file ../data/converted/TSync2-to-vctk/wav16_silence_trimmed/Tsync2/Tsync2_2289_mic1.flac probably does not have speech please check it !!\n"
     ]
    },
    {
     "name": "stderr",
     "output_type": "stream",
     "text": [
      "Processing files:  14%|█▍        | 386/2710 [00:49<03:39, 10.61it/s]"
     ]
    },
    {
     "name": "stdout",
     "output_type": "stream",
     "text": [
      "> The file ../data/converted/TSync2-to-vctk/wav16_silence_trimmed/Tsync2/Tsync2_2685_mic1.flac probably does not have speech please check it !!\n"
     ]
    },
    {
     "name": "stderr",
     "output_type": "stream",
     "text": [
      "Processing files:  19%|█▉        | 512/2710 [01:05<03:32, 10.36it/s]"
     ]
    },
    {
     "name": "stdout",
     "output_type": "stream",
     "text": [
      "> The file ../data/converted/TSync2-to-vctk/wav16_silence_trimmed/Tsync2/Tsync2_2493_mic1.flac probably does not have speech please check it !!\n"
     ]
    },
    {
     "name": "stderr",
     "output_type": "stream",
     "text": [
      "Processing files:  20%|█▉        | 531/2710 [01:08<04:51,  7.47it/s]"
     ]
    },
    {
     "name": "stdout",
     "output_type": "stream",
     "text": [
      "> The file ../data/converted/TSync2-to-vctk/wav16_silence_trimmed/Tsync2/Tsync2_2271_mic1.flac probably does not have speech please check it !!\n"
     ]
    },
    {
     "name": "stderr",
     "output_type": "stream",
     "text": [
      "Processing files:  21%|██        | 566/2710 [01:14<06:50,  5.22it/s]"
     ]
    },
    {
     "name": "stdout",
     "output_type": "stream",
     "text": [
      "> The file ../data/converted/TSync2-to-vctk/wav16_silence_trimmed/Tsync2/Tsync2_2372_mic1.flac probably does not have speech please check it !!\n"
     ]
    },
    {
     "name": "stderr",
     "output_type": "stream",
     "text": [
      "Processing files:  22%|██▏       | 601/2710 [01:20<05:25,  6.48it/s]"
     ]
    },
    {
     "name": "stdout",
     "output_type": "stream",
     "text": [
      "> The file ../data/converted/TSync2-to-vctk/wav16_silence_trimmed/Tsync2/Tsync2_2594_mic1.flac probably does not have speech please check it !!\n"
     ]
    },
    {
     "name": "stderr",
     "output_type": "stream",
     "text": [
      "Processing files:  22%|██▏       | 607/2710 [01:20<03:30,  9.99it/s]"
     ]
    },
    {
     "name": "stdout",
     "output_type": "stream",
     "text": [
      "> The file ../data/converted/TSync2-to-vctk/wav16_silence_trimmed/Tsync2/Tsync2_2163_mic1.flac probably does not have speech please check it !!\n"
     ]
    },
    {
     "name": "stderr",
     "output_type": "stream",
     "text": [
      "Processing files:  24%|██▍       | 652/2710 [01:25<03:00, 11.39it/s]"
     ]
    },
    {
     "name": "stdout",
     "output_type": "stream",
     "text": [
      "> The file ../data/converted/TSync2-to-vctk/wav16_silence_trimmed/Tsync2/Tsync2_2305_mic1.flac probably does not have speech please check it !!\n"
     ]
    },
    {
     "name": "stderr",
     "output_type": "stream",
     "text": [
      "Processing files:  25%|██▍       | 671/2710 [01:28<03:08, 10.80it/s]"
     ]
    },
    {
     "name": "stdout",
     "output_type": "stream",
     "text": [
      "> The file ../data/converted/TSync2-to-vctk/wav16_silence_trimmed/Tsync2/Tsync2_2606_mic1.flac probably does not have speech please check it !!\n",
      "> The file ../data/converted/TSync2-to-vctk/wav16_silence_trimmed/Tsync2/Tsync2_2569_mic1.flac probably does not have speech please check it !!\n"
     ]
    },
    {
     "name": "stderr",
     "output_type": "stream",
     "text": [
      "Processing files:  26%|██▌       | 706/2710 [01:32<02:48, 11.89it/s]"
     ]
    },
    {
     "name": "stdout",
     "output_type": "stream",
     "text": [
      "> The file ../data/converted/TSync2-to-vctk/wav16_silence_trimmed/Tsync2/Tsync2_2660_mic1.flac probably does not have speech please check it !!\n"
     ]
    },
    {
     "name": "stderr",
     "output_type": "stream",
     "text": [
      "Processing files:  31%|███       | 827/2710 [01:48<03:09,  9.95it/s]"
     ]
    },
    {
     "name": "stdout",
     "output_type": "stream",
     "text": [
      "> The file ../data/converted/TSync2-to-vctk/wav16_silence_trimmed/Tsync2/Tsync2_2530_mic1.flac probably does not have speech please check it !!\n"
     ]
    },
    {
     "name": "stderr",
     "output_type": "stream",
     "text": [
      "Processing files:  34%|███▎      | 908/2710 [01:58<03:22,  8.88it/s]"
     ]
    },
    {
     "name": "stdout",
     "output_type": "stream",
     "text": [
      "> The file ../data/converted/TSync2-to-vctk/wav16_silence_trimmed/Tsync2/Tsync2_2332_mic1.flac probably does not have speech please check it !!\n"
     ]
    },
    {
     "name": "stderr",
     "output_type": "stream",
     "text": [
      "Processing files:  41%|████      | 1099/2710 [02:24<02:43,  9.85it/s]"
     ]
    },
    {
     "name": "stdout",
     "output_type": "stream",
     "text": [
      "> The file ../data/converted/TSync2-to-vctk/wav16_silence_trimmed/Tsync2/Tsync2_2259_mic1.flac probably does not have speech please check it !!\n"
     ]
    },
    {
     "name": "stderr",
     "output_type": "stream",
     "text": [
      "Processing files:  41%|████      | 1101/2710 [02:24<02:27, 10.89it/s]"
     ]
    },
    {
     "name": "stdout",
     "output_type": "stream",
     "text": [
      "> The file ../data/converted/TSync2-to-vctk/wav16_silence_trimmed/Tsync2/Tsync2_2477_mic1.flac probably does not have speech please check it !!\n"
     ]
    },
    {
     "name": "stderr",
     "output_type": "stream",
     "text": [
      "Processing files:  45%|████▌     | 1229/2710 [02:39<02:11, 11.24it/s]"
     ]
    },
    {
     "name": "stdout",
     "output_type": "stream",
     "text": [
      "> The file ../data/converted/TSync2-to-vctk/wav16_silence_trimmed/Tsync2/Tsync2_2171_mic1.flac probably does not have speech please check it !!\n"
     ]
    },
    {
     "name": "stderr",
     "output_type": "stream",
     "text": [
      "Processing files:  50%|████▉     | 1344/2710 [02:52<02:15, 10.07it/s]"
     ]
    },
    {
     "name": "stdout",
     "output_type": "stream",
     "text": [
      "> The file ../data/converted/TSync2-to-vctk/wav16_silence_trimmed/Tsync2/Tsync2_2291_mic1.flac probably does not have speech please check it !!\n"
     ]
    },
    {
     "name": "stderr",
     "output_type": "stream",
     "text": [
      "Processing files:  53%|█████▎    | 1428/2710 [03:04<01:59, 10.70it/s]"
     ]
    },
    {
     "name": "stdout",
     "output_type": "stream",
     "text": [
      "> The file ../data/converted/TSync2-to-vctk/wav16_silence_trimmed/Tsync2/Tsync2_2220_mic1.flac probably does not have speech please check it !!\n"
     ]
    },
    {
     "name": "stderr",
     "output_type": "stream",
     "text": [
      "Processing files:  55%|█████▌    | 1497/2710 [03:12<02:03,  9.82it/s]"
     ]
    },
    {
     "name": "stdout",
     "output_type": "stream",
     "text": [
      "> The file ../data/converted/TSync2-to-vctk/wav16_silence_trimmed/Tsync2/Tsync2_2633_mic1.flac probably does not have speech please check it !!\n"
     ]
    },
    {
     "name": "stderr",
     "output_type": "stream",
     "text": [
      "Processing files:  56%|█████▋    | 1530/2710 [03:16<02:09,  9.10it/s]"
     ]
    },
    {
     "name": "stdout",
     "output_type": "stream",
     "text": [
      "> The file ../data/converted/TSync2-to-vctk/wav16_silence_trimmed/Tsync2/Tsync2_2410_mic1.flac probably does not have speech please check it !!\n"
     ]
    },
    {
     "name": "stderr",
     "output_type": "stream",
     "text": [
      "Processing files:  58%|█████▊    | 1563/2710 [03:20<02:14,  8.53it/s]"
     ]
    },
    {
     "name": "stdout",
     "output_type": "stream",
     "text": [
      "> The file ../data/converted/TSync2-to-vctk/wav16_silence_trimmed/Tsync2/Tsync2_2366_mic1.flac probably does not have speech please check it !!\n"
     ]
    },
    {
     "name": "stderr",
     "output_type": "stream",
     "text": [
      "Processing files:  60%|██████    | 1638/2710 [03:30<01:59,  8.99it/s]"
     ]
    },
    {
     "name": "stdout",
     "output_type": "stream",
     "text": [
      "> The file ../data/converted/TSync2-to-vctk/wav16_silence_trimmed/Tsync2/Tsync2_2168_mic1.flac probably does not have speech please check it !!\n"
     ]
    },
    {
     "name": "stderr",
     "output_type": "stream",
     "text": [
      "Processing files:  61%|██████    | 1658/2710 [03:32<02:03,  8.50it/s]"
     ]
    },
    {
     "name": "stdout",
     "output_type": "stream",
     "text": [
      "> The file ../data/converted/TSync2-to-vctk/wav16_silence_trimmed/Tsync2/Tsync2_2468_mic1.flac probably does not have speech please check it !!\n"
     ]
    },
    {
     "name": "stderr",
     "output_type": "stream",
     "text": [
      "Processing files:  65%|██████▍   | 1758/2710 [03:45<01:23, 11.37it/s]"
     ]
    },
    {
     "name": "stdout",
     "output_type": "stream",
     "text": [
      "> The file ../data/converted/TSync2-to-vctk/wav16_silence_trimmed/Tsync2/Tsync2_2397_mic1.flac probably does not have speech please check it !!\n"
     ]
    },
    {
     "name": "stderr",
     "output_type": "stream",
     "text": [
      "Processing files:  67%|██████▋   | 1826/2710 [03:54<01:33,  9.49it/s]"
     ]
    },
    {
     "name": "stdout",
     "output_type": "stream",
     "text": [
      "> The file ../data/converted/TSync2-to-vctk/wav16_silence_trimmed/Tsync2/Tsync2_2617_mic1.flac probably does not have speech please check it !!\n"
     ]
    },
    {
     "name": "stderr",
     "output_type": "stream",
     "text": [
      "Processing files:  68%|██████▊   | 1831/2710 [03:54<01:48,  8.08it/s]"
     ]
    },
    {
     "name": "stdout",
     "output_type": "stream",
     "text": [
      "> The file ../data/converted/TSync2-to-vctk/wav16_silence_trimmed/Tsync2/Tsync2_2382_mic1.flac probably does not have speech please check it !!\n"
     ]
    },
    {
     "name": "stderr",
     "output_type": "stream",
     "text": [
      "Processing files:  68%|██████▊   | 1852/2710 [03:57<01:31,  9.41it/s]"
     ]
    },
    {
     "name": "stdout",
     "output_type": "stream",
     "text": [
      "> The file ../data/converted/TSync2-to-vctk/wav16_silence_trimmed/Tsync2/Tsync2_2329_mic1.flac probably does not have speech please check it !!\n"
     ]
    },
    {
     "name": "stderr",
     "output_type": "stream",
     "text": [
      "Processing files:  70%|███████   | 1906/2710 [04:04<01:42,  7.86it/s]"
     ]
    },
    {
     "name": "stdout",
     "output_type": "stream",
     "text": [
      "> The file ../data/converted/TSync2-to-vctk/wav16_silence_trimmed/Tsync2/Tsync2_2252_mic1.flac probably does not have speech please check it !!\n"
     ]
    },
    {
     "name": "stderr",
     "output_type": "stream",
     "text": [
      "Processing files:  71%|███████   | 1921/2710 [04:06<01:40,  7.88it/s]"
     ]
    },
    {
     "name": "stdout",
     "output_type": "stream",
     "text": [
      "> The file ../data/converted/TSync2-to-vctk/wav16_silence_trimmed/Tsync2/Tsync2_2533_mic1.flac probably does not have speech please check it !!\n"
     ]
    },
    {
     "name": "stderr",
     "output_type": "stream",
     "text": [
      "Processing files:  71%|███████   | 1927/2710 [04:06<01:23,  9.39it/s]"
     ]
    },
    {
     "name": "stdout",
     "output_type": "stream",
     "text": [
      "> The file ../data/converted/TSync2-to-vctk/wav16_silence_trimmed/Tsync2/Tsync2_2494_mic1.flac probably does not have speech please check it !!\n"
     ]
    },
    {
     "name": "stderr",
     "output_type": "stream",
     "text": [
      "Processing files:  75%|███████▌  | 2045/2710 [04:20<01:06,  9.95it/s]"
     ]
    },
    {
     "name": "stdout",
     "output_type": "stream",
     "text": [
      "> The file ../data/converted/TSync2-to-vctk/wav16_silence_trimmed/Tsync2/Tsync2_2422_mic1.flac probably does not have speech please check it !!\n"
     ]
    },
    {
     "name": "stderr",
     "output_type": "stream",
     "text": [
      "Processing files:  76%|███████▌  | 2056/2710 [04:22<01:31,  7.12it/s]"
     ]
    },
    {
     "name": "stdout",
     "output_type": "stream",
     "text": [
      "> The file ../data/converted/TSync2-to-vctk/wav16_silence_trimmed/Tsync2/Tsync2_2567_mic1.flac probably does not have speech please check it !!\n"
     ]
    },
    {
     "name": "stderr",
     "output_type": "stream",
     "text": [
      "Processing files:  77%|███████▋  | 2085/2710 [04:26<01:33,  6.72it/s]"
     ]
    },
    {
     "name": "stdout",
     "output_type": "stream",
     "text": [
      "> The file ../data/converted/TSync2-to-vctk/wav16_silence_trimmed/Tsync2/Tsync2_2287_mic1.flac probably does not have speech please check it !!\n"
     ]
    },
    {
     "name": "stderr",
     "output_type": "stream",
     "text": [
      "Processing files:  80%|████████  | 2176/2710 [04:37<00:50, 10.51it/s]"
     ]
    },
    {
     "name": "stdout",
     "output_type": "stream",
     "text": [
      "> The file ../data/converted/TSync2-to-vctk/wav16_silence_trimmed/Tsync2/Tsync2_2593_mic1.flac probably does not have speech please check it !!\n",
      "> The file ../data/converted/TSync2-to-vctk/wav16_silence_trimmed/Tsync2/Tsync2_2543_mic1.flac probably does not have speech please check it !!\n"
     ]
    },
    {
     "name": "stderr",
     "output_type": "stream",
     "text": [
      "Processing files:  81%|████████  | 2185/2710 [04:38<00:57,  9.19it/s]"
     ]
    },
    {
     "name": "stdout",
     "output_type": "stream",
     "text": [
      "> The file ../data/converted/TSync2-to-vctk/wav16_silence_trimmed/Tsync2/Tsync2_2423_mic1.flac probably does not have speech please check it !!\n"
     ]
    },
    {
     "name": "stderr",
     "output_type": "stream",
     "text": [
      "Processing files:  81%|████████  | 2195/2710 [04:40<00:47, 10.91it/s]"
     ]
    },
    {
     "name": "stdout",
     "output_type": "stream",
     "text": [
      "> The file ../data/converted/TSync2-to-vctk/wav16_silence_trimmed/Tsync2/Tsync2_2563_mic1.flac probably does not have speech please check it !!\n"
     ]
    },
    {
     "name": "stderr",
     "output_type": "stream",
     "text": [
      "Processing files:  81%|████████▏ | 2206/2710 [04:41<00:48, 10.42it/s]"
     ]
    },
    {
     "name": "stdout",
     "output_type": "stream",
     "text": [
      "> The file ../data/converted/TSync2-to-vctk/wav16_silence_trimmed/Tsync2/Tsync2_2379_mic1.flac probably does not have speech please check it !!\n"
     ]
    },
    {
     "name": "stderr",
     "output_type": "stream",
     "text": [
      "Processing files:  83%|████████▎ | 2237/2710 [04:45<01:16,  6.18it/s]"
     ]
    },
    {
     "name": "stdout",
     "output_type": "stream",
     "text": [
      "> The file ../data/converted/TSync2-to-vctk/wav16_silence_trimmed/Tsync2/Tsync2_2420_mic1.flac probably does not have speech please check it !!\n"
     ]
    },
    {
     "name": "stderr",
     "output_type": "stream",
     "text": [
      "Processing files:  83%|████████▎ | 2245/2710 [04:46<01:00,  7.72it/s]"
     ]
    },
    {
     "name": "stdout",
     "output_type": "stream",
     "text": [
      "> The file ../data/converted/TSync2-to-vctk/wav16_silence_trimmed/Tsync2/Tsync2_2438_mic1.flac probably does not have speech please check it !!\n"
     ]
    },
    {
     "name": "stderr",
     "output_type": "stream",
     "text": [
      "Processing files:  85%|████████▍ | 2296/2710 [04:53<00:41, 10.10it/s]"
     ]
    },
    {
     "name": "stdout",
     "output_type": "stream",
     "text": [
      "> The file ../data/converted/TSync2-to-vctk/wav16_silence_trimmed/Tsync2/Tsync2_2360_mic1.flac probably does not have speech please check it !!\n"
     ]
    },
    {
     "name": "stderr",
     "output_type": "stream",
     "text": [
      "Processing files:  88%|████████▊ | 2394/2710 [05:04<00:33,  9.35it/s]"
     ]
    },
    {
     "name": "stdout",
     "output_type": "stream",
     "text": [
      "> The file ../data/converted/TSync2-to-vctk/wav16_silence_trimmed/Tsync2/Tsync2_2643_mic1.flac probably does not have speech please check it !!\n"
     ]
    },
    {
     "name": "stderr",
     "output_type": "stream",
     "text": [
      "Processing files:  92%|█████████▏| 2484/2710 [05:16<00:24,  9.41it/s]"
     ]
    },
    {
     "name": "stdout",
     "output_type": "stream",
     "text": [
      "> The file ../data/converted/TSync2-to-vctk/wav16_silence_trimmed/Tsync2/Tsync2_2526_mic1.flac probably does not have speech please check it !!\n"
     ]
    },
    {
     "name": "stderr",
     "output_type": "stream",
     "text": [
      "Processing files:  94%|█████████▎| 2538/2710 [05:23<00:27,  6.22it/s]"
     ]
    },
    {
     "name": "stdout",
     "output_type": "stream",
     "text": [
      "> The file ../data/converted/TSync2-to-vctk/wav16_silence_trimmed/Tsync2/Tsync2_2575_mic1.flac probably does not have speech please check it !!\n"
     ]
    },
    {
     "name": "stderr",
     "output_type": "stream",
     "text": [
      "Processing files:  94%|█████████▍| 2545/2710 [05:24<00:18,  8.69it/s]"
     ]
    },
    {
     "name": "stdout",
     "output_type": "stream",
     "text": [
      "> The file ../data/converted/TSync2-to-vctk/wav16_silence_trimmed/Tsync2/Tsync2_2380_mic1.flac probably does not have speech please check it !!\n"
     ]
    },
    {
     "name": "stderr",
     "output_type": "stream",
     "text": [
      "Processing files: 100%|██████████| 2710/2710 [05:47<00:00,  7.80it/s]"
     ]
    },
    {
     "name": "stdout",
     "output_type": "stream",
     "text": [
      "\n",
      "Processing complete\n",
      "\n",
      "Found 58 files with no speech. List saved to ../data/converted/TSync2-to-vctk/no_speech_files.txt\n"
     ]
    },
    {
     "name": "stderr",
     "output_type": "stream",
     "text": [
      "\n"
     ]
    }
   ],
   "source": [
    "input_folder = Path(\"../data/converted/TSync2-to-vctk/wav16_silence_trimmed\")\n",
    "\n",
    "# Get VAD model once\n",
    "model_and_utils = get_vad_model_and_utils(use_cuda=torch.cuda.is_available(), use_onnx=False)\n",
    "\n",
    "# Get all .flac files\n",
    "flac_files = list(input_folder.glob('**/*.flac'))\n",
    "total_files = len(flac_files)\n",
    "print(f\"Found {total_files} .flac files to process\")\n",
    "\n",
    "# Track files with no speech detected\n",
    "no_speech_files = []\n",
    "\n",
    "for input_path in tqdm(flac_files, desc=\"Processing files\"):\n",
    "   # Preserve directory structure\n",
    "   relative_path = input_path.relative_to(input_folder)\n",
    "   output_path = input_folder / relative_path\n",
    "   \n",
    "   # Create subdirectories\n",
    "   output_path.parent.mkdir(parents=True, exist_ok=True)\n",
    "   \n",
    "   try:\n",
    "       output_path, is_speech = remove_silence(\n",
    "           model_and_utils,\n",
    "           str(input_path),\n",
    "           str(output_path),\n",
    "           trim_just_beginning_and_end=True,\n",
    "           use_cuda=torch.cuda.is_available()\n",
    "       )\n",
    "       # If no speech detected, add to list\n",
    "       if not is_speech:\n",
    "           no_speech_files.append(str(output_path))\n",
    "   except Exception as e:\n",
    "       print(f\"Error processing {relative_path}: {str(e)}\")\n",
    "\n",
    "print(\"\\nProcessing complete\")\n",
    "\n",
    "# Write list of files with no speech detected\n",
    "if no_speech_files:\n",
    "   log_path = input_folder.parent / \"no_speech_files.txt\"\n",
    "   with open(log_path, \"w\", encoding=\"utf-8\") as f:\n",
    "       for file in no_speech_files:\n",
    "           f.write(f\"{file}\\n\")\n",
    "   print(f\"\\nFound {len(no_speech_files)} files with no speech. List saved to {log_path}\")"
   ]
  },
  {
   "cell_type": "markdown",
   "metadata": {},
   "source": [
    "# Create metadata"
   ]
  },
  {
   "cell_type": "code",
   "execution_count": null,
   "metadata": {},
   "outputs": [],
   "source": [
    "DEST_DIR = Path(DEST_DIR)\n",
    "\n",
    "# Write character files\n",
    "sorted_chars = sorted(all_chars)\n",
    "with open(DEST_DIR / 'all_chars_unicode.txt', 'w') as f:\n",
    "   f.write(''.join(c.encode('unicode_escape').decode('ascii') for c in sorted_chars))\n",
    "   \n",
    "with open(DEST_DIR / 'all_chars.txt', 'w') as f:\n",
    "   f.write(''.join(sorted_chars))"
   ]
  }
 ],
 "metadata": {
  "kernelspec": {
   "display_name": "khongkhuntts-EJcUAAU7-py3.11",
   "language": "python",
   "name": "python3"
  },
  "language_info": {
   "codemirror_mode": {
    "name": "ipython",
    "version": 3
   },
   "file_extension": ".py",
   "mimetype": "text/x-python",
   "name": "python",
   "nbconvert_exporter": "python",
   "pygments_lexer": "ipython3",
   "version": "3.11.9"
  }
 },
 "nbformat": 4,
 "nbformat_minor": 2
}
