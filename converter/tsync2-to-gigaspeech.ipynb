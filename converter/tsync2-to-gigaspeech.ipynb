{
 "cells": [
  {
   "cell_type": "markdown",
   "metadata": {},
   "source": [
    "# Import libraries"
   ]
  },
  {
   "cell_type": "code",
   "execution_count": null,
   "metadata": {},
   "outputs": [],
   "source": [
    "from dotenv import load_dotenv\n",
    "import os\n",
    "import shutil\n",
    "from pathlib import Path\n",
    "import random\n",
    "from tqdm import tqdm\n",
    "import torch\n",
    "import io\n",
    "import soundfile as sf\n",
    "\n",
    "from huggingface_hub import login\n",
    "\n",
    "from datasets import Dataset, DatasetDict, Audio, load_dataset\n",
    "\n",
    "from TTS.bin.resample import resample_files\n",
    "from TTS.utils.vad import get_vad_model_and_utils, remove_silence"
   ]
  },
  {
   "cell_type": "markdown",
   "metadata": {},
   "source": [
    "# Huggingface Login"
   ]
  },
  {
   "cell_type": "code",
   "execution_count": 2,
   "metadata": {},
   "outputs": [
    {
     "name": "stdout",
     "output_type": "stream",
     "text": [
      "The token has not been saved to the git credentials helper. Pass `add_to_git_credential=True` in this function directly or `--add-to-git-credential` if using via `huggingface-cli` if you want to set the git credential as well.\n",
      "Token is valid (permission: fineGrained).\n",
      "Your token has been saved to C:\\Users\\Ming\\.cache\\huggingface\\token\n",
      "Login successful\n"
     ]
    }
   ],
   "source": [
    "load_dotenv()\n",
    "HF_TOKEN = os.getenv(\"HUGGINGFACE_TOKEN\")\n",
    "\n",
    "login(token=HF_TOKEN)"
   ]
  },
  {
   "cell_type": "markdown",
   "metadata": {},
   "source": [
    "# Load Gigaspeech"
   ]
  },
  {
   "cell_type": "code",
   "execution_count": 3,
   "metadata": {},
   "outputs": [
    {
     "name": "stderr",
     "output_type": "stream",
     "text": [
      "Using the latest cached version of the module from C:\\Users\\Ming\\.cache\\huggingface\\modules\\datasets_modules\\datasets\\speechcolab--gigaspeech\\0db31224ad43470c71b459deb2f2b40956b3a4edfde5fb313aaec69ec7b50d3c (last modified on Tue Feb  4 14:03:48 2025) since it couldn't be found locally at speechcolab/gigaspeech, or remotely on the Hugging Face Hub.\n"
     ]
    },
    {
     "name": "stdout",
     "output_type": "stream",
     "text": [
      "DatasetDict({\n",
      "    train: Dataset({\n",
      "        features: ['segment_id', 'speaker', 'text', 'audio', 'begin_time', 'end_time', 'audio_id', 'title', 'url', 'source', 'category', 'original_full_path'],\n",
      "        num_rows: 9389\n",
      "    })\n",
      "    validation: Dataset({\n",
      "        features: ['segment_id', 'speaker', 'text', 'audio', 'begin_time', 'end_time', 'audio_id', 'title', 'url', 'source', 'category', 'original_full_path'],\n",
      "        num_rows: 6750\n",
      "    })\n",
      "    test: Dataset({\n",
      "        features: ['segment_id', 'speaker', 'text', 'audio', 'begin_time', 'end_time', 'audio_id', 'title', 'url', 'source', 'category', 'original_full_path'],\n",
      "        num_rows: 25619\n",
      "    })\n",
      "})\n"
     ]
    }
   ],
   "source": [
    "dataset_path = 'speechcolab/gigaspeech'\n",
    "cached_path = '../data/raw/gigaspeech'\n",
    "\n",
    "gigaspeech = load_dataset(path=dataset_path, name='xs', cache_dir=cached_path)\n",
    "print(gigaspeech)"
   ]
  },
  {
   "cell_type": "code",
   "execution_count": 4,
   "metadata": {},
   "outputs": [
    {
     "name": "stdout",
     "output_type": "stream",
     "text": [
      "{'segment_id': 'YOU0000000315_S0000660', 'speaker': 'N/A', 'text': \"AS THEY'RE LEAVING <COMMA> CAN KASH PULL ZAHRA ASIDE REALLY QUICKLY <QUESTIONMARK>\", 'audio': {'path': '../data/raw/gigaspeech/downloads\\\\extracted\\\\38fe4c94b1b1d9e64fdcb1171e0c934e20120f08c7da8e780122cf1a55df4cc7\\\\xs_chunks_0000/YOU0000000315_S0000660.wav', 'array': array([0.0005188 , 0.00085449, 0.00012207, ..., 0.00125122, 0.00076294,\n",
      "       0.00036621]), 'sampling_rate': 16000}, 'begin_time': 2941.889892578125, 'end_time': 2945.070068359375, 'audio_id': 'YOU0000000315', 'title': 'Return to Vasselheim | Critical Role: VOX MACHINA | Episode 43', 'url': 'https://www.youtube.com/watch?v=zr2n1fLVasU', 'source': 2, 'category': 24, 'original_full_path': 'audio/youtube/P0004/YOU0000000315.opus'}\n"
     ]
    }
   ],
   "source": [
    "# print samples\n",
    "print(gigaspeech['train'][0])"
   ]
  },
  {
   "cell_type": "markdown",
   "metadata": {},
   "source": [
    "# Load TSync2"
   ]
  },
  {
   "cell_type": "code",
   "execution_count": 5,
   "metadata": {},
   "outputs": [
    {
     "name": "stdout",
     "output_type": "stream",
     "text": [
      "TSync2 has 2710 audio files\n"
     ]
    }
   ],
   "source": [
    "tsync2_path = '../data/raw/TSync2'\n",
    "\n",
    "wav_files = sorted(os.listdir(f'{tsync2_path}/wav'))\n",
    "wrd_ph_files = sorted(os.listdir(f'{tsync2_path}/wrd_ph'))\n",
    "\n",
    "assert len(wav_files) == len(wrd_ph_files)\n",
    "\n",
    "len_tsync2 = len(wav_files)\n",
    "print(f'TSync2 has {len_tsync2} audio files')"
   ]
  },
  {
   "cell_type": "code",
   "execution_count": 6,
   "metadata": {},
   "outputs": [],
   "source": [
    "# shuffle pairs\n",
    "random.seed(42)\n",
    "combined = list(zip(wav_files, wrd_ph_files))\n",
    "random.shuffle(combined)"
   ]
  },
  {
   "cell_type": "code",
   "execution_count": 7,
   "metadata": {},
   "outputs": [
    {
     "name": "stdout",
     "output_type": "stream",
     "text": [
      "Train: 2168 Val: 271 Test: 271\n"
     ]
    }
   ],
   "source": [
    "# split train test val\n",
    "train_val_test = [0.8, 0.1, 0.1] # adjust these values to change the split\n",
    "train_size = int(len_tsync2 * train_val_test[0])\n",
    "val_size = int(len_tsync2 * train_val_test[1])\n",
    "test_size = len_tsync2 - train_size - val_size\n",
    "\n",
    "train_files = combined[:train_size]\n",
    "val_files = combined[train_size:train_size + val_size]\n",
    "test_files = combined[train_size + val_size:]\n",
    "\n",
    "print(f'Train: {len(train_files)} Val: {len(val_files)} Test: {len(test_files)}')"
   ]
  },
  {
   "cell_type": "markdown",
   "metadata": {},
   "source": [
    "# Preprocess the audio files"
   ]
  },
  {
   "cell_type": "code",
   "execution_count": 8,
   "metadata": {},
   "outputs": [],
   "source": [
    "# Create destination directory if it doesn't exist\n",
    "os.makedirs(\"../data/converted/tsync2-to-gigaspeech/wav16_silence_trimmed\", exist_ok=True)\n",
    "\n",
    "# Copy all files from wav32 to wav16_silence_trimmed\n",
    "src_dir = \"../data/raw/TSync2/wav\"\n",
    "dst_dir = \"../data/converted/tsync2-to-gigaspeech/wav16_silence_trimmed\"\n",
    "\n",
    "# Walk through the source directory and copy files while preserving directory structure\n",
    "for root, dirs, files in os.walk(src_dir):\n",
    "  for dir_name in dirs:\n",
    "    src_path = os.path.join(root, dir_name)\n",
    "    dst_path = os.path.join(dst_dir, os.path.relpath(src_path, src_dir))\n",
    "    os.makedirs(dst_path, exist_ok=True)\n",
    "  \n",
    "  for file_name in files:\n",
    "    src_path = os.path.join(root, file_name)\n",
    "    dst_path = os.path.join(dst_dir, os.path.relpath(src_path, src_dir))\n",
    "    shutil.copy2(src_path, dst_path)"
   ]
  },
  {
   "cell_type": "code",
   "execution_count": 9,
   "metadata": {},
   "outputs": [
    {
     "name": "stdout",
     "output_type": "stream",
     "text": [
      "Resampling the audio files...\n",
      "Found 2710 files...\n"
     ]
    },
    {
     "name": "stderr",
     "output_type": "stream",
     "text": [
      "100%|██████████| 2710/2710 [00:12<00:00, 213.52it/s]"
     ]
    },
    {
     "name": "stdout",
     "output_type": "stream",
     "text": [
      "Done !\n"
     ]
    },
    {
     "name": "stderr",
     "output_type": "stream",
     "text": [
      "\n"
     ]
    }
   ],
   "source": [
    "# Resample all files in the destination directory to 16kHz\n",
    "resample_files(dst_dir, 16000, file_ext='wav', n_jobs=4)"
   ]
  },
  {
   "cell_type": "markdown",
   "metadata": {},
   "source": [
    "# Trim start and end with VAD"
   ]
  },
  {
   "cell_type": "code",
   "execution_count": 10,
   "metadata": {},
   "outputs": [
    {
     "name": "stderr",
     "output_type": "stream",
     "text": [
      "Downloading: \"https://github.com/snakers4/silero-vad/zipball/master\" to C:\\Users\\Ming/.cache\\torch\\hub\\master.zip\n"
     ]
    },
    {
     "name": "stdout",
     "output_type": "stream",
     "text": [
      "Found 2710 .wav files to process\n"
     ]
    },
    {
     "name": "stderr",
     "output_type": "stream",
     "text": [
      "Processing files:  80%|███████▉  | 2160/2710 [11:05<02:34,  3.56it/s] "
     ]
    },
    {
     "name": "stdout",
     "output_type": "stream",
     "text": [
      "> The file ..\\data\\converted\\tsync2-to-gigaspeech\\wav16_silence_trimmed\\tsync2_noon_99_001.wav probably does not have speech please check it !!\n"
     ]
    },
    {
     "name": "stderr",
     "output_type": "stream",
     "text": [
      "Processing files:  80%|███████▉  | 2164/2710 [11:06<01:38,  5.56it/s]"
     ]
    },
    {
     "name": "stdout",
     "output_type": "stream",
     "text": [
      "> The file ..\\data\\converted\\tsync2-to-gigaspeech\\wav16_silence_trimmed\\tsync2_noon_99_003.wav probably does not have speech please check it !!\n",
      "> The file ..\\data\\converted\\tsync2-to-gigaspeech\\wav16_silence_trimmed\\tsync2_noon_99_004.wav probably does not have speech please check it !!\n"
     ]
    },
    {
     "name": "stderr",
     "output_type": "stream",
     "text": [
      "Processing files:  80%|████████  | 2169/2710 [11:07<01:33,  5.78it/s]"
     ]
    },
    {
     "name": "stdout",
     "output_type": "stream",
     "text": [
      "> The file ..\\data\\converted\\tsync2-to-gigaspeech\\wav16_silence_trimmed\\tsync2_noon_99_008.wav probably does not have speech please check it !!\n"
     ]
    },
    {
     "name": "stderr",
     "output_type": "stream",
     "text": [
      "Processing files:  80%|████████  | 2170/2710 [11:07<01:45,  5.10it/s]"
     ]
    },
    {
     "name": "stdout",
     "output_type": "stream",
     "text": [
      "> The file ..\\data\\converted\\tsync2-to-gigaspeech\\wav16_silence_trimmed\\tsync2_noon_99_011.wav probably does not have speech please check it !!\n"
     ]
    },
    {
     "name": "stderr",
     "output_type": "stream",
     "text": [
      "Processing files:  81%|████████  | 2196/2710 [11:14<01:57,  4.38it/s]"
     ]
    },
    {
     "name": "stdout",
     "output_type": "stream",
     "text": [
      "> The file ..\\data\\converted\\tsync2-to-gigaspeech\\wav16_silence_trimmed\\tsync2_noon_99_036.wav probably does not have speech please check it !!\n"
     ]
    },
    {
     "name": "stderr",
     "output_type": "stream",
     "text": [
      "Processing files:  82%|████████▏ | 2220/2710 [11:19<01:28,  5.56it/s]"
     ]
    },
    {
     "name": "stdout",
     "output_type": "stream",
     "text": [
      "> The file ..\\data\\converted\\tsync2-to-gigaspeech\\wav16_silence_trimmed\\tsync2_noon_99_059.wav probably does not have speech please check it !!\n",
      "> The file ..\\data\\converted\\tsync2-to-gigaspeech\\wav16_silence_trimmed\\tsync2_noon_99_060.wav probably does not have speech please check it !!\n"
     ]
    },
    {
     "name": "stderr",
     "output_type": "stream",
     "text": [
      "Processing files:  82%|████████▏ | 2233/2710 [11:23<02:04,  3.85it/s]"
     ]
    },
    {
     "name": "stdout",
     "output_type": "stream",
     "text": [
      "> The file ..\\data\\converted\\tsync2-to-gigaspeech\\wav16_silence_trimmed\\tsync2_noon_99_074.wav probably does not have speech please check it !!\n"
     ]
    },
    {
     "name": "stderr",
     "output_type": "stream",
     "text": [
      "Processing files:  83%|████████▎ | 2253/2710 [11:27<01:18,  5.85it/s]"
     ]
    },
    {
     "name": "stdout",
     "output_type": "stream",
     "text": [
      "> The file ..\\data\\converted\\tsync2-to-gigaspeech\\wav16_silence_trimmed\\tsync2_noon_99_092.wav probably does not have speech please check it !!\n"
     ]
    },
    {
     "name": "stderr",
     "output_type": "stream",
     "text": [
      "Processing files:  83%|████████▎ | 2258/2710 [11:28<01:26,  5.25it/s]"
     ]
    },
    {
     "name": "stdout",
     "output_type": "stream",
     "text": [
      "> The file ..\\data\\converted\\tsync2-to-gigaspeech\\wav16_silence_trimmed\\tsync2_noon_99_099.wav probably does not have speech please check it !!\n"
     ]
    },
    {
     "name": "stderr",
     "output_type": "stream",
     "text": [
      "Processing files:  84%|████████▍ | 2272/2710 [11:31<01:12,  6.00it/s]"
     ]
    },
    {
     "name": "stdout",
     "output_type": "stream",
     "text": [
      "> The file ..\\data\\converted\\tsync2-to-gigaspeech\\wav16_silence_trimmed\\tsync2_noon_99_111.wav probably does not have speech please check it !!\n"
     ]
    },
    {
     "name": "stderr",
     "output_type": "stream",
     "text": [
      "Processing files:  84%|████████▍ | 2288/2710 [11:34<01:19,  5.32it/s]"
     ]
    },
    {
     "name": "stdout",
     "output_type": "stream",
     "text": [
      "> The file ..\\data\\converted\\tsync2-to-gigaspeech\\wav16_silence_trimmed\\tsync2_noon_99_127.wav probably does not have speech please check it !!\n"
     ]
    },
    {
     "name": "stderr",
     "output_type": "stream",
     "text": [
      "Processing files:  85%|████████▍ | 2290/2710 [11:34<01:07,  6.25it/s]"
     ]
    },
    {
     "name": "stdout",
     "output_type": "stream",
     "text": [
      "> The file ..\\data\\converted\\tsync2-to-gigaspeech\\wav16_silence_trimmed\\tsync2_noon_99_129.wav probably does not have speech please check it !!\n",
      "> The file ..\\data\\converted\\tsync2-to-gigaspeech\\wav16_silence_trimmed\\tsync2_noon_99_131.wav probably does not have speech please check it !!\n"
     ]
    },
    {
     "name": "stderr",
     "output_type": "stream",
     "text": [
      "Processing files:  85%|████████▌ | 2304/2710 [11:37<01:16,  5.32it/s]"
     ]
    },
    {
     "name": "stdout",
     "output_type": "stream",
     "text": [
      "> The file ..\\data\\converted\\tsync2-to-gigaspeech\\wav16_silence_trimmed\\tsync2_noon_99_145.wav probably does not have speech please check it !!\n"
     ]
    },
    {
     "name": "stderr",
     "output_type": "stream",
     "text": [
      "Processing files:  86%|████████▌ | 2328/2710 [11:43<01:48,  3.51it/s]"
     ]
    },
    {
     "name": "stdout",
     "output_type": "stream",
     "text": [
      "> The file ..\\data\\converted\\tsync2-to-gigaspeech\\wav16_silence_trimmed\\tsync2_noon_99_169.wav probably does not have speech please check it !!\n"
     ]
    },
    {
     "name": "stderr",
     "output_type": "stream",
     "text": [
      "Processing files:  86%|████████▌ | 2331/2710 [11:44<01:42,  3.70it/s]"
     ]
    },
    {
     "name": "stdout",
     "output_type": "stream",
     "text": [
      "> The file ..\\data\\converted\\tsync2-to-gigaspeech\\wav16_silence_trimmed\\tsync2_noon_99_172.wav probably does not have speech please check it !!\n"
     ]
    },
    {
     "name": "stderr",
     "output_type": "stream",
     "text": [
      "Processing files:  87%|████████▋ | 2347/2710 [11:47<01:00,  6.00it/s]"
     ]
    },
    {
     "name": "stdout",
     "output_type": "stream",
     "text": [
      "> The file ..\\data\\converted\\tsync2-to-gigaspeech\\wav16_silence_trimmed\\tsync2_noon_99_186.wav probably does not have speech please check it !!\n"
     ]
    },
    {
     "name": "stderr",
     "output_type": "stream",
     "text": [
      "Processing files:  87%|████████▋ | 2349/2710 [11:48<01:16,  4.71it/s]"
     ]
    },
    {
     "name": "stdout",
     "output_type": "stream",
     "text": [
      "> The file ..\\data\\converted\\tsync2-to-gigaspeech\\wav16_silence_trimmed\\tsync2_noon_99_190.wav probably does not have speech please check it !!\n"
     ]
    },
    {
     "name": "stderr",
     "output_type": "stream",
     "text": [
      "Processing files:  87%|████████▋ | 2359/2710 [11:50<01:27,  4.03it/s]"
     ]
    },
    {
     "name": "stdout",
     "output_type": "stream",
     "text": [
      "> The file ..\\data\\converted\\tsync2-to-gigaspeech\\wav16_silence_trimmed\\tsync2_noon_99_200.wav probably does not have speech please check it !!\n"
     ]
    },
    {
     "name": "stderr",
     "output_type": "stream",
     "text": [
      "Processing files:  87%|████████▋ | 2366/2710 [11:52<01:14,  4.63it/s]"
     ]
    },
    {
     "name": "stdout",
     "output_type": "stream",
     "text": [
      "> The file ..\\data\\converted\\tsync2-to-gigaspeech\\wav16_silence_trimmed\\tsync2_noon_99_206.wav probably does not have speech please check it !!\n"
     ]
    },
    {
     "name": "stderr",
     "output_type": "stream",
     "text": [
      "Processing files:  87%|████████▋ | 2371/2710 [11:53<01:44,  3.25it/s]"
     ]
    },
    {
     "name": "stdout",
     "output_type": "stream",
     "text": [
      "> The file ..\\data\\converted\\tsync2-to-gigaspeech\\wav16_silence_trimmed\\tsync2_noon_99_212.wav probably does not have speech please check it !!\n"
     ]
    },
    {
     "name": "stderr",
     "output_type": "stream",
     "text": [
      "Processing files:  88%|████████▊ | 2380/2710 [11:56<01:06,  4.98it/s]"
     ]
    },
    {
     "name": "stdout",
     "output_type": "stream",
     "text": [
      "> The file ..\\data\\converted\\tsync2-to-gigaspeech\\wav16_silence_trimmed\\tsync2_noon_99_219.wav probably does not have speech please check it !!\n",
      "> The file ..\\data\\converted\\tsync2-to-gigaspeech\\wav16_silence_trimmed\\tsync2_noon_99_220.wav probably does not have speech please check it !!\n"
     ]
    },
    {
     "name": "stderr",
     "output_type": "stream",
     "text": [
      "Processing files:  88%|████████▊ | 2382/2710 [11:56<01:03,  5.15it/s]"
     ]
    },
    {
     "name": "stdout",
     "output_type": "stream",
     "text": [
      "> The file ..\\data\\converted\\tsync2-to-gigaspeech\\wav16_silence_trimmed\\tsync2_noon_99_222.wav probably does not have speech please check it !!\n"
     ]
    },
    {
     "name": "stderr",
     "output_type": "stream",
     "text": [
      "Processing files:  88%|████████▊ | 2391/2710 [11:58<01:17,  4.12it/s]"
     ]
    },
    {
     "name": "stdout",
     "output_type": "stream",
     "text": [
      "> The file ..\\data\\converted\\tsync2-to-gigaspeech\\wav16_silence_trimmed\\tsync2_noon_99_231.wav probably does not have speech please check it !!\n"
     ]
    },
    {
     "name": "stderr",
     "output_type": "stream",
     "text": [
      "Processing files:  88%|████████▊ | 2396/2710 [12:00<01:43,  3.04it/s]"
     ]
    },
    {
     "name": "stdout",
     "output_type": "stream",
     "text": [
      "> The file ..\\data\\converted\\tsync2-to-gigaspeech\\wav16_silence_trimmed\\tsync2_noon_99_237.wav probably does not have speech please check it !!\n"
     ]
    },
    {
     "name": "stderr",
     "output_type": "stream",
     "text": [
      "Processing files:  89%|████████▉ | 2411/2710 [12:04<01:01,  4.83it/s]"
     ]
    },
    {
     "name": "stdout",
     "output_type": "stream",
     "text": [
      "> The file ..\\data\\converted\\tsync2-to-gigaspeech\\wav16_silence_trimmed\\tsync2_noon_99_250.wav probably does not have speech please check it !!\n"
     ]
    },
    {
     "name": "stderr",
     "output_type": "stream",
     "text": [
      "Processing files:  89%|████████▉ | 2421/2710 [12:07<01:05,  4.44it/s]"
     ]
    },
    {
     "name": "stdout",
     "output_type": "stream",
     "text": [
      "> The file ..\\data\\converted\\tsync2-to-gigaspeech\\wav16_silence_trimmed\\tsync2_noon_99_260.wav probably does not have speech please check it !!\n",
      "> The file ..\\data\\converted\\tsync2-to-gigaspeech\\wav16_silence_trimmed\\tsync2_noon_99_261.wav probably does not have speech please check it !!\n",
      "> The file ..\\data\\converted\\tsync2-to-gigaspeech\\wav16_silence_trimmed\\tsync2_noon_99_262.wav probably does not have speech please check it !!\n"
     ]
    },
    {
     "name": "stderr",
     "output_type": "stream",
     "text": [
      "Processing files:  89%|████████▉ | 2423/2710 [12:07<00:52,  5.49it/s]"
     ]
    },
    {
     "name": "stdout",
     "output_type": "stream",
     "text": [
      "> The file ..\\data\\converted\\tsync2-to-gigaspeech\\wav16_silence_trimmed\\tsync2_noon_99_263.wav probably does not have speech please check it !!\n"
     ]
    },
    {
     "name": "stderr",
     "output_type": "stream",
     "text": [
      "Processing files:  90%|████████▉ | 2438/2710 [12:11<01:06,  4.12it/s]"
     ]
    },
    {
     "name": "stdout",
     "output_type": "stream",
     "text": [
      "> The file ..\\data\\converted\\tsync2-to-gigaspeech\\wav16_silence_trimmed\\tsync2_noon_99_278.wav probably does not have speech please check it !!\n"
     ]
    },
    {
     "name": "stderr",
     "output_type": "stream",
     "text": [
      "Processing files:  90%|█████████ | 2447/2710 [12:14<01:03,  4.11it/s]"
     ]
    },
    {
     "name": "stdout",
     "output_type": "stream",
     "text": [
      "> The file ..\\data\\converted\\tsync2-to-gigaspeech\\wav16_silence_trimmed\\tsync2_noon_99_287.wav probably does not have speech please check it !!\n"
     ]
    },
    {
     "name": "stderr",
     "output_type": "stream",
     "text": [
      "Processing files:  91%|█████████ | 2468/2710 [12:21<01:03,  3.82it/s]"
     ]
    },
    {
     "name": "stdout",
     "output_type": "stream",
     "text": [
      "> The file ..\\data\\converted\\tsync2-to-gigaspeech\\wav16_silence_trimmed\\tsync2_noon_99_308.wav probably does not have speech please check it !!\n"
     ]
    },
    {
     "name": "stderr",
     "output_type": "stream",
     "text": [
      "Processing files:  91%|█████████▏| 2476/2710 [12:23<01:15,  3.10it/s]"
     ]
    },
    {
     "name": "stdout",
     "output_type": "stream",
     "text": [
      "> The file ..\\data\\converted\\tsync2-to-gigaspeech\\wav16_silence_trimmed\\tsync2_noon_99_317.wav probably does not have speech please check it !!\n"
     ]
    },
    {
     "name": "stderr",
     "output_type": "stream",
     "text": [
      "Processing files:  92%|█████████▏| 2494/2710 [12:28<00:47,  4.54it/s]"
     ]
    },
    {
     "name": "stdout",
     "output_type": "stream",
     "text": [
      "> The file ..\\data\\converted\\tsync2-to-gigaspeech\\wav16_silence_trimmed\\tsync2_noon_99_333.wav probably does not have speech please check it !!\n",
      "> The file ..\\data\\converted\\tsync2-to-gigaspeech\\wav16_silence_trimmed\\tsync2_noon_99_334.wav probably does not have speech please check it !!\n"
     ]
    },
    {
     "name": "stderr",
     "output_type": "stream",
     "text": [
      "Processing files:  93%|█████████▎| 2525/2710 [12:36<00:46,  4.01it/s]"
     ]
    },
    {
     "name": "stdout",
     "output_type": "stream",
     "text": [
      "> The file ..\\data\\converted\\tsync2-to-gigaspeech\\wav16_silence_trimmed\\tsync2_noon_99_366.wav probably does not have speech please check it !!\n"
     ]
    },
    {
     "name": "stderr",
     "output_type": "stream",
     "text": [
      "Processing files:  93%|█████████▎| 2529/2710 [12:37<00:42,  4.29it/s]"
     ]
    },
    {
     "name": "stdout",
     "output_type": "stream",
     "text": [
      "> The file ..\\data\\converted\\tsync2-to-gigaspeech\\wav16_silence_trimmed\\tsync2_noon_99_370.wav probably does not have speech please check it !!\n"
     ]
    },
    {
     "name": "stderr",
     "output_type": "stream",
     "text": [
      "Processing files:  93%|█████████▎| 2532/2710 [12:38<00:36,  4.81it/s]"
     ]
    },
    {
     "name": "stdout",
     "output_type": "stream",
     "text": [
      "> The file ..\\data\\converted\\tsync2-to-gigaspeech\\wav16_silence_trimmed\\tsync2_noon_99_373.wav probably does not have speech please check it !!\n"
     ]
    },
    {
     "name": "stderr",
     "output_type": "stream",
     "text": [
      "Processing files:  94%|█████████▍| 2542/2710 [12:40<00:37,  4.46it/s]"
     ]
    },
    {
     "name": "stdout",
     "output_type": "stream",
     "text": [
      "> The file ..\\data\\converted\\tsync2-to-gigaspeech\\wav16_silence_trimmed\\tsync2_noon_99_383.wav probably does not have speech please check it !!\n"
     ]
    },
    {
     "name": "stderr",
     "output_type": "stream",
     "text": [
      "Processing files:  95%|█████████▍| 2562/2710 [12:45<00:41,  3.60it/s]"
     ]
    },
    {
     "name": "stdout",
     "output_type": "stream",
     "text": [
      "> The file ..\\data\\converted\\tsync2-to-gigaspeech\\wav16_silence_trimmed\\tsync2_noon_99_403.wav probably does not have speech please check it !!\n"
     ]
    },
    {
     "name": "stderr",
     "output_type": "stream",
     "text": [
      "Processing files:  95%|█████████▍| 2566/2710 [12:46<00:43,  3.30it/s]"
     ]
    },
    {
     "name": "stdout",
     "output_type": "stream",
     "text": [
      "> The file ..\\data\\converted\\tsync2-to-gigaspeech\\wav16_silence_trimmed\\tsync2_noon_99_407.wav probably does not have speech please check it !!\n"
     ]
    },
    {
     "name": "stderr",
     "output_type": "stream",
     "text": [
      "Processing files:  95%|█████████▍| 2570/2710 [12:47<00:31,  4.51it/s]"
     ]
    },
    {
     "name": "stdout",
     "output_type": "stream",
     "text": [
      "> The file ..\\data\\converted\\tsync2-to-gigaspeech\\wav16_silence_trimmed\\tsync2_noon_99_409.wav probably does not have speech please check it !!\n"
     ]
    },
    {
     "name": "stderr",
     "output_type": "stream",
     "text": [
      "Processing files:  95%|█████████▌| 2575/2710 [12:48<00:30,  4.39it/s]"
     ]
    },
    {
     "name": "stdout",
     "output_type": "stream",
     "text": [
      "> The file ..\\data\\converted\\tsync2-to-gigaspeech\\wav16_silence_trimmed\\tsync2_noon_99_415.wav probably does not have speech please check it !!\n"
     ]
    },
    {
     "name": "stderr",
     "output_type": "stream",
     "text": [
      "Processing files:  96%|█████████▌| 2594/2710 [12:53<00:15,  7.41it/s]"
     ]
    },
    {
     "name": "stdout",
     "output_type": "stream",
     "text": [
      "> The file ..\\data\\converted\\tsync2-to-gigaspeech\\wav16_silence_trimmed\\tsync2_noon_99_433.wav probably does not have speech please check it !!\n",
      "> The file ..\\data\\converted\\tsync2-to-gigaspeech\\wav16_silence_trimmed\\tsync2_noon_99_434.wav probably does not have speech please check it !!\n"
     ]
    },
    {
     "name": "stderr",
     "output_type": "stream",
     "text": [
      "Processing files:  96%|█████████▌| 2605/2710 [12:56<00:30,  3.41it/s]"
     ]
    },
    {
     "name": "stdout",
     "output_type": "stream",
     "text": [
      "> The file ..\\data\\converted\\tsync2-to-gigaspeech\\wav16_silence_trimmed\\tsync2_noon_99_446.wav probably does not have speech please check it !!\n"
     ]
    },
    {
     "name": "stderr",
     "output_type": "stream",
     "text": [
      "Processing files:  97%|█████████▋| 2616/2710 [12:59<00:23,  4.08it/s]"
     ]
    },
    {
     "name": "stdout",
     "output_type": "stream",
     "text": [
      "> The file ..\\data\\converted\\tsync2-to-gigaspeech\\wav16_silence_trimmed\\tsync2_noon_99_457.wav probably does not have speech please check it !!\n"
     ]
    },
    {
     "name": "stderr",
     "output_type": "stream",
     "text": [
      "Processing files:  97%|█████████▋| 2621/2710 [13:01<00:25,  3.55it/s]"
     ]
    },
    {
     "name": "stdout",
     "output_type": "stream",
     "text": [
      "> The file ..\\data\\converted\\tsync2-to-gigaspeech\\wav16_silence_trimmed\\tsync2_noon_99_462.wav probably does not have speech please check it !!\n"
     ]
    },
    {
     "name": "stderr",
     "output_type": "stream",
     "text": [
      "Processing files:  97%|█████████▋| 2633/2710 [13:03<00:12,  5.95it/s]"
     ]
    },
    {
     "name": "stdout",
     "output_type": "stream",
     "text": [
      "> The file ..\\data\\converted\\tsync2-to-gigaspeech\\wav16_silence_trimmed\\tsync2_noon_99_473.wav probably does not have speech please check it !!\n"
     ]
    },
    {
     "name": "stderr",
     "output_type": "stream",
     "text": [
      "Processing files:  97%|█████████▋| 2634/2710 [13:03<00:14,  5.23it/s]"
     ]
    },
    {
     "name": "stdout",
     "output_type": "stream",
     "text": [
      "> The file ..\\data\\converted\\tsync2-to-gigaspeech\\wav16_silence_trimmed\\tsync2_noon_99_475.wav probably does not have speech please check it !!\n"
     ]
    },
    {
     "name": "stderr",
     "output_type": "stream",
     "text": [
      "Processing files:  98%|█████████▊| 2644/2710 [13:06<00:12,  5.39it/s]"
     ]
    },
    {
     "name": "stdout",
     "output_type": "stream",
     "text": [
      "> The file ..\\data\\converted\\tsync2-to-gigaspeech\\wav16_silence_trimmed\\tsync2_noon_99_483.wav probably does not have speech please check it !!\n"
     ]
    },
    {
     "name": "stderr",
     "output_type": "stream",
     "text": [
      "Processing files:  98%|█████████▊| 2661/2710 [13:10<00:10,  4.77it/s]"
     ]
    },
    {
     "name": "stdout",
     "output_type": "stream",
     "text": [
      "> The file ..\\data\\converted\\tsync2-to-gigaspeech\\wav16_silence_trimmed\\tsync2_noon_99_500.wav probably does not have speech please check it !!\n"
     ]
    },
    {
     "name": "stderr",
     "output_type": "stream",
     "text": [
      "Processing files:  99%|█████████▊| 2673/2710 [13:14<00:10,  3.39it/s]"
     ]
    },
    {
     "name": "stdout",
     "output_type": "stream",
     "text": [
      "> The file ..\\data\\converted\\tsync2-to-gigaspeech\\wav16_silence_trimmed\\tsync2_noon_99_514.wav probably does not have speech please check it !!\n"
     ]
    },
    {
     "name": "stderr",
     "output_type": "stream",
     "text": [
      "Processing files:  99%|█████████▉| 2686/2710 [13:16<00:03,  7.16it/s]"
     ]
    },
    {
     "name": "stdout",
     "output_type": "stream",
     "text": [
      "> The file ..\\data\\converted\\tsync2-to-gigaspeech\\wav16_silence_trimmed\\tsync2_noon_99_525.wav probably does not have speech please check it !!\n"
     ]
    },
    {
     "name": "stderr",
     "output_type": "stream",
     "text": [
      "Processing files: 100%|██████████| 2710/2710 [13:21<00:00,  3.38it/s]"
     ]
    },
    {
     "name": "stdout",
     "output_type": "stream",
     "text": [
      "\n",
      "Processing complete\n",
      "\n",
      "Found 58 files with no speech. List saved to ..\\data\\converted\\tsync2-to-gigaspeech\\no_speech_files.txt\n"
     ]
    },
    {
     "name": "stderr",
     "output_type": "stream",
     "text": [
      "\n"
     ]
    }
   ],
   "source": [
    "input_folder = Path(dst_dir)\n",
    "\n",
    "# Get VAD model once\n",
    "model_and_utils = get_vad_model_and_utils(use_cuda=torch.cuda.is_available(), use_onnx=False)\n",
    "\n",
    "# Get all .flac files\n",
    "wav_files = list(input_folder.glob('*.wav'))\n",
    "total_files = len(wav_files)\n",
    "print(f\"Found {total_files} .wav files to process\")\n",
    "\n",
    "# Track files with no speech detected\n",
    "no_speech_files = []\n",
    "\n",
    "for input_path in tqdm(wav_files, desc=\"Processing files\"):\n",
    "   # Preserve directory structure\n",
    "   relative_path = input_path.relative_to(input_folder)\n",
    "   output_path = input_folder / relative_path\n",
    "   \n",
    "   # Create subdirectories\n",
    "   output_path.parent.mkdir(parents=True, exist_ok=True)\n",
    "   \n",
    "   try:\n",
    "       output_path, is_speech = remove_silence(\n",
    "           model_and_utils,\n",
    "           str(input_path),\n",
    "           str(output_path),\n",
    "           trim_just_beginning_and_end=True,\n",
    "           use_cuda=torch.cuda.is_available()\n",
    "       )\n",
    "       # If no speech detected, add to list\n",
    "       if not is_speech:\n",
    "           no_speech_files.append(str(output_path))\n",
    "   except Exception as e:\n",
    "       print(f\"Error processing {relative_path}: {str(e)}\")\n",
    "\n",
    "print(\"\\nProcessing complete\")\n",
    "\n",
    "# Write list of files with no speech detected\n",
    "if no_speech_files:\n",
    "   log_path = input_folder.parent / \"no_speech_files.txt\"\n",
    "   with open(log_path, \"w\", encoding=\"utf-8\") as f:\n",
    "       for file in no_speech_files:\n",
    "           f.write(f\"{file}\\n\")\n",
    "   print(f\"\\nFound {len(no_speech_files)} files with no speech. List saved to {log_path}\")"
   ]
  },
  {
   "cell_type": "markdown",
   "metadata": {},
   "source": [
    "# Format Dataset"
   ]
  },
  {
   "cell_type": "code",
   "execution_count": 11,
   "metadata": {},
   "outputs": [],
   "source": [
    "def load_data(filepairs):\n",
    "    features = ['segment_id', 'speaker', 'text', 'audio', 'begin_time', 'end_time', 'audio_id', 'title', 'url', 'source', 'category', 'original_full_path']\n",
    "    data = {f: [] for f in features}\n",
    "\n",
    "    for wav_file, wrd_ph_file in tqdm(filepairs):\n",
    "\n",
    "        file_name = wav_file.split('.')[0]\n",
    "        \n",
    "        segment_id = file_name\n",
    "        speaker = 'Noon'\n",
    "\n",
    "        with open(f'{tsync2_path}/wrd_ph/{wrd_ph_file}') as f:\n",
    "            line = f.readline().strip()\n",
    "            text = ''.join(line.split('|'))\n",
    "        with open(f'{dst_dir}/{wav_file}', 'rb') as f:\n",
    "            audio_bytes = f.read()\n",
    "            \n",
    "        file_like_object = io.BytesIO(audio_bytes)\n",
    "        audio_array, sr = sf.read(file_like_object)\n",
    "\n",
    "        begin_time = 0.0\n",
    "        end_time = audio_array.shape[0] / sr\n",
    "        audio_id = file_name\n",
    "        title = file_name\n",
    "        url = 'N/A'\n",
    "        source = 'TSync2'\n",
    "        category = 10\n",
    "        original_full_path = ''\n",
    "\n",
    "        data['segment_id'].append(segment_id)\n",
    "        data['speaker'].append(speaker)\n",
    "        data['text'].append(text)\n",
    "        data['audio'].append(f'{tsync2_path}/wav/{wav_file}')\n",
    "        data['begin_time'].append(begin_time)\n",
    "        data['end_time'].append(end_time)\n",
    "        data['audio_id'].append(audio_id)\n",
    "        data['title'].append(title)\n",
    "        data['url'].append(url)\n",
    "        data['source'].append(source)\n",
    "        data['category'].append(category)\n",
    "        data['original_full_path'].append(original_full_path)\n",
    "\n",
    "    return Dataset.from_dict(data).cast_column(\"audio\", Audio(sampling_rate=16000))\n"
   ]
  },
  {
   "cell_type": "code",
   "execution_count": 12,
   "metadata": {},
   "outputs": [
    {
     "name": "stderr",
     "output_type": "stream",
     "text": [
      "100%|██████████| 2168/2168 [00:16<00:00, 130.52it/s]\n",
      "100%|██████████| 271/271 [00:02<00:00, 132.72it/s]\n",
      "100%|██████████| 271/271 [00:02<00:00, 134.72it/s]\n"
     ]
    }
   ],
   "source": [
    "train_data = load_data(train_files)\n",
    "val_data = load_data(val_files)\n",
    "test_data = load_data(test_files)"
   ]
  },
  {
   "cell_type": "code",
   "execution_count": 13,
   "metadata": {},
   "outputs": [
    {
     "name": "stdout",
     "output_type": "stream",
     "text": [
      "{'segment_id': 'tsync2_noon_1_2757', 'speaker': 'Noon', 'text': 'ได้ออกเดินทางจากฐานทัพฟอร์ตดรัมในนิวยอร์กแล้ว', 'audio': {'path': '../data/raw/TSync2/wav/tsync2_noon_1_2757.wav', 'array': array([5.06200595e-04, 8.83036875e-04, 7.95761822e-04, ...,\n",
      "       1.54371464e-05, 4.19901116e-05, 0.00000000e+00]), 'sampling_rate': 16000}, 'begin_time': 0.0, 'end_time': 3.868, 'audio_id': 'tsync2_noon_1_2757', 'title': 'tsync2_noon_1_2757', 'url': 'N/A', 'source': 'TSync2', 'category': 10, 'original_full_path': ''}\n"
     ]
    }
   ],
   "source": [
    "# print sample data\n",
    "print(train_data[0])"
   ]
  },
  {
   "cell_type": "code",
   "execution_count": 14,
   "metadata": {},
   "outputs": [
    {
     "name": "stdout",
     "output_type": "stream",
     "text": [
      "DatasetDict({\n",
      "    train: Dataset({\n",
      "        features: ['segment_id', 'speaker', 'text', 'audio', 'begin_time', 'end_time', 'audio_id', 'title', 'url', 'source', 'category', 'original_full_path'],\n",
      "        num_rows: 2168\n",
      "    })\n",
      "    validation: Dataset({\n",
      "        features: ['segment_id', 'speaker', 'text', 'audio', 'begin_time', 'end_time', 'audio_id', 'title', 'url', 'source', 'category', 'original_full_path'],\n",
      "        num_rows: 271\n",
      "    })\n",
      "    test: Dataset({\n",
      "        features: ['segment_id', 'speaker', 'text', 'audio', 'begin_time', 'end_time', 'audio_id', 'title', 'url', 'source', 'category', 'original_full_path'],\n",
      "        num_rows: 271\n",
      "    })\n",
      "})\n"
     ]
    }
   ],
   "source": [
    "dataset_dict = DatasetDict({'train': train_data, 'validation': val_data, 'test': test_data})\n",
    "print(dataset_dict)"
   ]
  },
  {
   "cell_type": "markdown",
   "metadata": {},
   "source": [
    "# Push to Huggingface Hub"
   ]
  },
  {
   "cell_type": "code",
   "execution_count": null,
   "metadata": {},
   "outputs": [
    {
     "data": {
      "application/vnd.jupyter.widget-view+json": {
       "model_id": "089530939d7246ffab3a3d2e8f4ad090",
       "version_major": 2,
       "version_minor": 0
      },
      "text/plain": [
       "Uploading the dataset shards:   0%|          | 0/3 [00:00<?, ?it/s]"
      ]
     },
     "metadata": {},
     "output_type": "display_data"
    },
    {
     "data": {
      "application/vnd.jupyter.widget-view+json": {
       "model_id": "50cd97d5e6fd436aad78c3dba094d8f4",
       "version_major": 2,
       "version_minor": 0
      },
      "text/plain": [
       "Map:   0%|          | 0/723 [00:00<?, ? examples/s]"
      ]
     },
     "metadata": {},
     "output_type": "display_data"
    },
    {
     "data": {
      "application/vnd.jupyter.widget-view+json": {
       "model_id": "9a2ee1557fc34241ade1a8174598a511",
       "version_major": 2,
       "version_minor": 0
      },
      "text/plain": [
       "Creating parquet from Arrow format:   0%|          | 0/8 [00:00<?, ?ba/s]"
      ]
     },
     "metadata": {},
     "output_type": "display_data"
    },
    {
     "data": {
      "application/vnd.jupyter.widget-view+json": {
       "model_id": "1536ea04a6ed4fb9a86bb5406ab4cfa8",
       "version_major": 2,
       "version_minor": 0
      },
      "text/plain": [
       "Map:   0%|          | 0/723 [00:00<?, ? examples/s]"
      ]
     },
     "metadata": {},
     "output_type": "display_data"
    },
    {
     "data": {
      "application/vnd.jupyter.widget-view+json": {
       "model_id": "e239b313b3bb4793beb988226dc6d55f",
       "version_major": 2,
       "version_minor": 0
      },
      "text/plain": [
       "Creating parquet from Arrow format:   0%|          | 0/8 [00:00<?, ?ba/s]"
      ]
     },
     "metadata": {},
     "output_type": "display_data"
    },
    {
     "data": {
      "application/vnd.jupyter.widget-view+json": {
       "model_id": "0ca9f5367e3644538946a5719f79b6e7",
       "version_major": 2,
       "version_minor": 0
      },
      "text/plain": [
       "Map:   0%|          | 0/722 [00:00<?, ? examples/s]"
      ]
     },
     "metadata": {},
     "output_type": "display_data"
    },
    {
     "data": {
      "application/vnd.jupyter.widget-view+json": {
       "model_id": "85d50d5001c94096b1734c54071f6fbc",
       "version_major": 2,
       "version_minor": 0
      },
      "text/plain": [
       "Creating parquet from Arrow format:   0%|          | 0/8 [00:00<?, ?ba/s]"
      ]
     },
     "metadata": {},
     "output_type": "display_data"
    },
    {
     "data": {
      "application/vnd.jupyter.widget-view+json": {
       "model_id": "d4ff982434a74da9b75d6fdeba2c8279",
       "version_major": 2,
       "version_minor": 0
      },
      "text/plain": [
       "Uploading the dataset shards:   0%|          | 0/1 [00:00<?, ?it/s]"
      ]
     },
     "metadata": {},
     "output_type": "display_data"
    },
    {
     "data": {
      "application/vnd.jupyter.widget-view+json": {
       "model_id": "b08efe53be9c4201b9ff4d1085e407a2",
       "version_major": 2,
       "version_minor": 0
      },
      "text/plain": [
       "Map:   0%|          | 0/271 [00:00<?, ? examples/s]"
      ]
     },
     "metadata": {},
     "output_type": "display_data"
    },
    {
     "data": {
      "application/vnd.jupyter.widget-view+json": {
       "model_id": "556e33e526c14246ac517b821fcb1fed",
       "version_major": 2,
       "version_minor": 0
      },
      "text/plain": [
       "Creating parquet from Arrow format:   0%|          | 0/3 [00:00<?, ?ba/s]"
      ]
     },
     "metadata": {},
     "output_type": "display_data"
    },
    {
     "data": {
      "application/vnd.jupyter.widget-view+json": {
       "model_id": "ed553b814d414216a4fed87f0ee450a6",
       "version_major": 2,
       "version_minor": 0
      },
      "text/plain": [
       "Uploading the dataset shards:   0%|          | 0/1 [00:00<?, ?it/s]"
      ]
     },
     "metadata": {},
     "output_type": "display_data"
    },
    {
     "data": {
      "application/vnd.jupyter.widget-view+json": {
       "model_id": "761ea3474a1a44cb9d05c478a6c707dd",
       "version_major": 2,
       "version_minor": 0
      },
      "text/plain": [
       "Map:   0%|          | 0/271 [00:00<?, ? examples/s]"
      ]
     },
     "metadata": {},
     "output_type": "display_data"
    },
    {
     "data": {
      "application/vnd.jupyter.widget-view+json": {
       "model_id": "1c17e91e728a4cc7ac979c86296b118c",
       "version_major": 2,
       "version_minor": 0
      },
      "text/plain": [
       "Creating parquet from Arrow format:   0%|          | 0/3 [00:00<?, ?ba/s]"
      ]
     },
     "metadata": {},
     "output_type": "display_data"
    },
    {
     "data": {
      "application/vnd.jupyter.widget-view+json": {
       "model_id": "39822992b36a40fba9c804659704535a",
       "version_major": 2,
       "version_minor": 0
      },
      "text/plain": [
       "README.md:   0%|          | 0.00/36.0 [00:00<?, ?B/s]"
      ]
     },
     "metadata": {},
     "output_type": "display_data"
    },
    {
     "name": "stderr",
     "output_type": "stream",
     "text": [
      "c:\\Users\\Ming\\anaconda3\\envs\\voicecraft\\lib\\site-packages\\huggingface_hub\\file_download.py:157: UserWarning: `huggingface_hub` cache-system uses symlinks by default to efficiently store duplicated files but your machine does not support them in C:\\Users\\Ming\\.cache\\huggingface\\hub\\datasets--ming-korawut--tsync2-to-gigaspeech. Caching files will still work but in a degraded version that might require more space on your disk. This warning can be disabled by setting the `HF_HUB_DISABLE_SYMLINKS_WARNING` environment variable. For more details, see https://huggingface.co/docs/huggingface_hub/how-to-cache#limitations.\n",
      "To support symlinks on Windows, you either need to activate Developer Mode or to run Python as an administrator. In order to see activate developer mode, see this article: https://docs.microsoft.com/en-us/windows/apps/get-started/enable-your-device-for-development\n",
      "  warnings.warn(message)\n"
     ]
    },
    {
     "data": {
      "text/plain": [
       "CommitInfo(commit_url='https://huggingface.co/datasets/ming-korawut/tsync2-to-gigaspeech/commit/4715f4861a2a50d59a3a19545f97842d5b04b7cd', commit_message='Upload dataset', commit_description='', oid='4715f4861a2a50d59a3a19545f97842d5b04b7cd', pr_url=None, pr_revision=None, pr_num=None)"
      ]
     },
     "execution_count": 15,
     "metadata": {},
     "output_type": "execute_result"
    }
   ],
   "source": [
    "dataset_dict.push_to_hub('ming-korawut/tsync2-to-gigaspeech')"
   ]
  }
 ],
 "metadata": {
  "kernelspec": {
   "display_name": "voicecraft",
   "language": "python",
   "name": "python3"
  },
  "language_info": {
   "codemirror_mode": {
    "name": "ipython",
    "version": 3
   },
   "file_extension": ".py",
   "mimetype": "text/x-python",
   "name": "python",
   "nbconvert_exporter": "python",
   "pygments_lexer": "ipython3",
   "version": "3.9.20"
  }
 },
 "nbformat": 4,
 "nbformat_minor": 2
}
