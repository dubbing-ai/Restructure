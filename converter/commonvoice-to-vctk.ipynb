{
 "cells": [
  {
   "cell_type": "markdown",
   "metadata": {},
   "source": [
    "# Import libraries"
   ]
  },
  {
   "cell_type": "code",
   "execution_count": 27,
   "metadata": {},
   "outputs": [],
   "source": [
    "import pandas as pd\n",
    "import os\n",
    "from pathlib import Path\n",
    "import shutil\n",
    "from typing import List\n",
    "import json \n",
    "from tqdm import tqdm\n",
    "import argparse\n",
    "import torch\n",
    "from pydub import AudioSegment\n",
    "\n",
    "import concurrent.futures\n",
    "from functools import partial\n",
    "from typing import List, Tuple, Dict\n",
    "import multiprocessing\n",
    "\n",
    "from TTS.bin.resample import resample_files\n",
    "from TTS.utils.vad import get_vad_model_and_utils, remove_silence"
   ]
  },
  {
   "cell_type": "markdown",
   "metadata": {},
   "source": [
    "# Read the validated tsv"
   ]
  },
  {
   "cell_type": "code",
   "execution_count": 11,
   "metadata": {},
   "outputs": [
    {
     "name": "stderr",
     "output_type": "stream",
     "text": [
      "/var/folders/cm/lb23lq6s6f319w__2lgw1zfm0000gn/T/ipykernel_68717/1241631071.py:1: DtypeWarning: Columns (9,12) have mixed types. Specify dtype option on import or set low_memory=False.\n",
      "  validated_data = pd.read_csv('../data/raw/cv-corpus-20.0-2024-12-06/th/validated.tsv', sep='\\t')\n"
     ]
    }
   ],
   "source": [
    "validated_data = pd.read_csv('../data/raw/cv-corpus-20.0-2024-12-06/th/validated.tsv', sep='\\t')"
   ]
  },
  {
   "cell_type": "markdown",
   "metadata": {},
   "source": [
    "# Define word replacement function"
   ]
  },
  {
   "cell_type": "code",
   "execution_count": 12,
   "metadata": {},
   "outputs": [],
   "source": [
    "def replace_words(dataframe: pd.DataFrame, column_name: str, replacing_pairs: List[List[str]]) -> pd.DataFrame:\n",
    "    for old_word, new_word in replacing_pairs:\n",
    "        dataframe[column_name] = dataframe[column_name].apply(lambda x: x.replace(old_word, new_word))\n",
    "    return dataframe\n",
    "\n",
    "replacing_word = [\n",
    "    ['เพฃร', 'เพชร'],\n",
    "]"
   ]
  },
  {
   "cell_type": "markdown",
   "metadata": {},
   "source": [
    "# Filter and group client_id that have over 100 records"
   ]
  },
  {
   "cell_type": "code",
   "execution_count": 13,
   "metadata": {},
   "outputs": [
    {
     "name": "stderr",
     "output_type": "stream",
     "text": [
      "/var/folders/cm/lb23lq6s6f319w__2lgw1zfm0000gn/T/ipykernel_68717/1479821191.py:3: SettingWithCopyWarning: \n",
      "A value is trying to be set on a copy of a slice from a DataFrame.\n",
      "Try using .loc[row_indexer,col_indexer] = value instead\n",
      "\n",
      "See the caveats in the documentation: https://pandas.pydata.org/pandas-docs/stable/user_guide/indexing.html#returning-a-view-versus-a-copy\n",
      "  dataframe[column_name] = dataframe[column_name].apply(lambda x: x.replace(old_word, new_word))\n"
     ]
    }
   ],
   "source": [
    "filtered_data = validated_data[\n",
    "    validated_data['client_id'].map(\n",
    "        validated_data['client_id'].value_counts() >= 100\n",
    "    )\n",
    "]\n",
    "filtered_data = replace_words(filtered_data, 'sentence', replacing_word)\n",
    "grouped = filtered_data.groupby('client_id').agg(list)"
   ]
  },
  {
   "cell_type": "markdown",
   "metadata": {},
   "source": [
    "# Define new id instead of client_id"
   ]
  },
  {
   "cell_type": "code",
   "execution_count": 14,
   "metadata": {},
   "outputs": [],
   "source": [
    "id_mapper = {id_: f'cv{str(i+1).zfill(3)}' for i, id_ in enumerate(filtered_data['client_id'].unique())}\n",
    "\n",
    "grouped_data = {\n",
    "    id_mapper[client_id]: list(zip(sentences, paths))\n",
    "    for (client_id, (sentences, paths)) in grouped[['sentence', 'path']].iterrows()\n",
    "}"
   ]
  },
  {
   "cell_type": "markdown",
   "metadata": {},
   "source": [
    "# Moving files to the new folder"
   ]
  },
  {
   "cell_type": "code",
   "execution_count": 15,
   "metadata": {},
   "outputs": [
    {
     "name": "stdout",
     "output_type": "stream",
     "text": [
      "Clearing destination folder\n",
      "Starting parallel processing with 8 workers\n"
     ]
    },
    {
     "name": "stderr",
     "output_type": "stream",
     "text": [
      "Processing clients: 100%|██████████| 134/134 [5:18:53<00:00, 142.79s/it]  "
     ]
    },
    {
     "name": "stdout",
     "output_type": "stream",
     "text": [
      "\n",
      "Conversion Summary:\n",
      "Total files processed successfully: 92956\n",
      "Total files failed: 0\n",
      "Total unique characters: 115\n",
      "Restructuring and conversion complete\n"
     ]
    },
    {
     "name": "stderr",
     "output_type": "stream",
     "text": [
      "\n"
     ]
    }
   ],
   "source": [
    "# Define paths\n",
    "DEST_DIR = \"../data/converted/commonvoice-to-vctk\"\n",
    "DEST_TEXT_PATH = os.path.join(DEST_DIR, \"txt\")\n",
    "DEST_AUDIO_PATH = os.path.join(DEST_DIR, \"wav32\")\n",
    "SRC_AUDIO_PATH = \"../data/raw/cv-corpus-20.0-2024-12-06/th/clips\"\n",
    "\n",
    "# Number of worker threads (adjust based on your CPU)\n",
    "NUM_WORKERS = multiprocessing.cpu_count()\n",
    "\n",
    "def convert_mp3_to_flac(src_path: str, dst_path: str) -> bool:\n",
    "    \"\"\"\n",
    "    Convert MP3 file to FLAC format using pydub\n",
    "    \n",
    "    Args:\n",
    "        src_path: Source MP3 file path\n",
    "        dst_path: Destination FLAC file path\n",
    "    \n",
    "    Returns:\n",
    "        bool: True if conversion successful, False otherwise\n",
    "    \"\"\"\n",
    "    try:\n",
    "        # Load MP3 file\n",
    "        audio = AudioSegment.from_mp3(src_path)\n",
    "        \n",
    "        # Export as FLAC\n",
    "        # Set parameters for high quality audio\n",
    "        audio.export(\n",
    "            dst_path,\n",
    "            format=\"flac\",\n",
    "            parameters=[\n",
    "                \"-ac\", \"1\",  # mono audio\n",
    "                \"-ar\", \"32000\",  # 32kHz sample rate\n",
    "                \"-compression_level\", \"8\"  # highest compression\n",
    "            ]\n",
    "        )\n",
    "    except Exception as e:\n",
    "        print(f\"Error converting {src_path}: {str(e)}\")\n",
    "        return False\n",
    "    return True\n",
    "\n",
    "def process_client_data(client_data: Tuple[str, List]) -> Dict:\n",
    "    \"\"\"\n",
    "    Process all data for a single client\n",
    "    \n",
    "    Args:\n",
    "        client_data: Tuple of (client_id, data)\n",
    "    \n",
    "    Returns:\n",
    "        Dict with processing results\n",
    "    \"\"\"\n",
    "    client_id, data = client_data\n",
    "    results = {\n",
    "        'client_id': client_id,\n",
    "        'processed': 0,\n",
    "        'failed': 0,\n",
    "        'chars': set()\n",
    "    }\n",
    "    \n",
    "    # Create client directories\n",
    "    client_text_dir = os.path.join(DEST_TEXT_PATH, client_id)\n",
    "    client_audio_dir = os.path.join(DEST_AUDIO_PATH, client_id)\n",
    "    os.makedirs(client_text_dir, exist_ok=True)\n",
    "    os.makedirs(client_audio_dir, exist_ok=True)\n",
    "    \n",
    "    for i, d in enumerate(data):\n",
    "        # Write text file\n",
    "        text_path = os.path.join(client_text_dir, f\"{client_id}_{(i + 1):03d}.txt\")\n",
    "        with open(text_path, 'w') as f:\n",
    "            f.write(d[0])\n",
    "            results['chars'].update(d[0])\n",
    "        \n",
    "        # Convert audio file\n",
    "        src_audio_path = os.path.join(SRC_AUDIO_PATH, d[1])\n",
    "        dst_audio_path = os.path.join(\n",
    "            client_audio_dir,\n",
    "            f\"{client_id}_{(i + 1):03d}_mic1.flac\"\n",
    "        )\n",
    "        \n",
    "        if convert_mp3_to_flac(src_audio_path, dst_audio_path):\n",
    "            results['processed'] += 1\n",
    "        else:\n",
    "            results['failed'] += 1\n",
    "    \n",
    "    return results\n",
    "\n",
    "# Clean and create directories\n",
    "if os.path.exists(DEST_DIR):\n",
    "    print(\"Clearing destination folder\")\n",
    "    shutil.rmtree(DEST_DIR)\n",
    "os.makedirs(DEST_TEXT_PATH, exist_ok=True)\n",
    "os.makedirs(DEST_AUDIO_PATH, exist_ok=True)\n",
    "\n",
    "print(f\"Starting parallel processing with {NUM_WORKERS} workers\")\n",
    "\n",
    "# Create progress bar for overall processing\n",
    "with tqdm(total=len(grouped_data), desc=\"Processing clients\") as pbar:\n",
    "    all_chars = set()\n",
    "    total_processed = 0\n",
    "    total_failed = 0\n",
    "    \n",
    "    # Process clients in parallel\n",
    "    with concurrent.futures.ThreadPoolExecutor(max_workers=NUM_WORKERS) as executor:\n",
    "        # Submit all client processing tasks\n",
    "        future_to_client = {\n",
    "            executor.submit(process_client_data, (client_id, data)): client_id \n",
    "            for client_id, data in grouped_data.items()\n",
    "        }\n",
    "        \n",
    "        # Process completed tasks\n",
    "        for future in concurrent.futures.as_completed(future_to_client):\n",
    "            client_id = future_to_client[future]\n",
    "            try:\n",
    "                result = future.result()\n",
    "                all_chars.update(result['chars'])\n",
    "                total_processed += result['processed']\n",
    "                total_failed += result['failed']\n",
    "            except Exception as e:\n",
    "                print(f\"Client {client_id} generated an exception: {str(e)}\")\n",
    "                total_failed += len(grouped_data[client_id])\n",
    "            pbar.update(1)\n",
    "\n",
    "print(\"\\nConversion Summary:\")\n",
    "print(f\"Total files processed successfully: {total_processed}\")\n",
    "print(f\"Total files failed: {total_failed}\")\n",
    "print(f\"Total unique characters: {len(all_chars)}\")\n",
    "print(\"Restructuring and conversion complete\")"
   ]
  },
  {
   "cell_type": "markdown",
   "metadata": {},
   "source": [
    "# Resample and trim audio"
   ]
  },
  {
   "cell_type": "code",
   "execution_count": 28,
   "metadata": {},
   "outputs": [],
   "source": [
    "# Create destination directory if it doesn't exist\n",
    "os.makedirs(\"../data/converted/commonvoice-to-vctk/wav16_silence_trimmed\", exist_ok=True)\n",
    "\n",
    "# Copy all files from wav32 to wav16_silence_trimmed\n",
    "src_dir = \"../data/converted/commonvoice-to-vctk/wav32\"\n",
    "dst_dir = \"../data/converted/commonvoice-to-vctk/wav16_silence_trimmed\"\n",
    "\n",
    "# Walk through the source directory and copy files while preserving directory structure\n",
    "for root, dirs, files in os.walk(src_dir):\n",
    "  for dir_name in dirs:\n",
    "    src_path = os.path.join(root, dir_name)\n",
    "    dst_path = os.path.join(dst_dir, os.path.relpath(src_path, src_dir))\n",
    "    os.makedirs(dst_path, exist_ok=True)\n",
    "  \n",
    "  for file_name in files:\n",
    "    src_path = os.path.join(root, file_name)\n",
    "    dst_path = os.path.join(dst_dir, os.path.relpath(src_path, src_dir))\n",
    "    shutil.copy2(src_path, dst_path)"
   ]
  },
  {
   "cell_type": "code",
   "execution_count": 29,
   "metadata": {},
   "outputs": [
    {
     "name": "stdout",
     "output_type": "stream",
     "text": [
      "Resampling the audio files...\n",
      "Found 92956 files...\n"
     ]
    },
    {
     "name": "stderr",
     "output_type": "stream",
     "text": [
      "100%|██████████| 92956/92956 [02:47<00:00, 555.84it/s]"
     ]
    },
    {
     "name": "stdout",
     "output_type": "stream",
     "text": [
      "Done !\n"
     ]
    },
    {
     "name": "stderr",
     "output_type": "stream",
     "text": [
      "\n"
     ]
    }
   ],
   "source": [
    "SAMPLE_RATE = 16000\n",
    "NUM_RESAMPLE_THREADS = 4\n",
    "\n",
    "resample_files(\"../data/converted/commonvoice-to-vctk/wav16_silence_trimmed\", SAMPLE_RATE, file_ext=\"flac\", n_jobs=NUM_RESAMPLE_THREADS)"
   ]
  },
  {
   "cell_type": "code",
   "execution_count": 30,
   "metadata": {},
   "outputs": [
    {
     "name": "stderr",
     "output_type": "stream",
     "text": [
      "Downloading: \"https://github.com/snakers4/silero-vad/zipball/master\" to /Users/titor/.cache/torch/hub/master.zip\n"
     ]
    },
    {
     "name": "stdout",
     "output_type": "stream",
     "text": [
      "Found 92956 .flac files to process\n"
     ]
    },
    {
     "name": "stderr",
     "output_type": "stream",
     "text": [
      "Processing files:   3%|▎         | 2490/92956 [01:14<31:30, 47.86it/s]  "
     ]
    },
    {
     "name": "stdout",
     "output_type": "stream",
     "text": [
      "> The file ../data/converted/commonvoice-to-vctk/wav16_silence_trimmed/cv050/cv050_088_mic1.flac probably does not have speech please check it !!\n"
     ]
    },
    {
     "name": "stderr",
     "output_type": "stream",
     "text": [
      "Processing files:   4%|▍         | 3919/92956 [01:57<38:02, 39.02it/s]  "
     ]
    },
    {
     "name": "stdout",
     "output_type": "stream",
     "text": [
      "> The file ../data/converted/commonvoice-to-vctk/wav16_silence_trimmed/cv032/cv032_010_mic1.flac probably does not have speech please check it !!\n"
     ]
    },
    {
     "name": "stderr",
     "output_type": "stream",
     "text": [
      "Processing files:   6%|▌         | 5322/92956 [02:43<39:14, 37.23it/s]  "
     ]
    },
    {
     "name": "stdout",
     "output_type": "stream",
     "text": [
      "> The file ../data/converted/commonvoice-to-vctk/wav16_silence_trimmed/cv114/cv114_105_mic1.flac probably does not have speech please check it !!\n"
     ]
    },
    {
     "name": "stderr",
     "output_type": "stream",
     "text": [
      "Processing files:   8%|▊         | 7428/92956 [03:53<35:17, 40.39it/s]  "
     ]
    },
    {
     "name": "stdout",
     "output_type": "stream",
     "text": [
      "> The file ../data/converted/commonvoice-to-vctk/wav16_silence_trimmed/cv125/cv125_946_mic1.flac probably does not have speech please check it !!\n"
     ]
    },
    {
     "name": "stderr",
     "output_type": "stream",
     "text": [
      "Processing files:  11%|█         | 9866/92956 [04:56<35:16, 39.25it/s]  "
     ]
    },
    {
     "name": "stdout",
     "output_type": "stream",
     "text": [
      "> The file ../data/converted/commonvoice-to-vctk/wav16_silence_trimmed/cv123/cv123_251_mic1.flac probably does not have speech please check it !!\n"
     ]
    },
    {
     "name": "stderr",
     "output_type": "stream",
     "text": [
      "Processing files:  17%|█▋        | 15383/92956 [07:27<32:06, 40.27it/s]  "
     ]
    },
    {
     "name": "stdout",
     "output_type": "stream",
     "text": [
      "> The file ../data/converted/commonvoice-to-vctk/wav16_silence_trimmed/cv101/cv101_116_mic1.flac probably does not have speech please check it !!\n"
     ]
    },
    {
     "name": "stderr",
     "output_type": "stream",
     "text": [
      "Processing files:  18%|█▊        | 16383/92956 [07:53<31:20, 40.71it/s]"
     ]
    },
    {
     "name": "stdout",
     "output_type": "stream",
     "text": [
      "> The file ../data/converted/commonvoice-to-vctk/wav16_silence_trimmed/cv107/cv107_384_mic1.flac probably does not have speech please check it !!\n",
      "> The file ../data/converted/commonvoice-to-vctk/wav16_silence_trimmed/cv107/cv107_451_mic1.flac probably does not have speech please check it !!\n"
     ]
    },
    {
     "name": "stderr",
     "output_type": "stream",
     "text": [
      "Processing files:  19%|█▉        | 18120/92956 [08:37<28:38, 43.55it/s]  "
     ]
    },
    {
     "name": "stdout",
     "output_type": "stream",
     "text": [
      "> The file ../data/converted/commonvoice-to-vctk/wav16_silence_trimmed/cv131/cv131_2196_mic1.flac probably does not have speech please check it !!\n"
     ]
    },
    {
     "name": "stderr",
     "output_type": "stream",
     "text": [
      "Processing files:  27%|██▋       | 25489/92956 [11:44<28:31, 39.41it/s]  "
     ]
    },
    {
     "name": "stdout",
     "output_type": "stream",
     "text": [
      "> The file ../data/converted/commonvoice-to-vctk/wav16_silence_trimmed/cv039/cv039_039_mic1.flac probably does not have speech please check it !!\n"
     ]
    },
    {
     "name": "stderr",
     "output_type": "stream",
     "text": [
      "Processing files:  29%|██▊       | 26561/92956 [12:15<32:29, 34.06it/s]"
     ]
    },
    {
     "name": "stdout",
     "output_type": "stream",
     "text": [
      "> The file ../data/converted/commonvoice-to-vctk/wav16_silence_trimmed/cv063/cv063_111_mic1.flac probably does not have speech please check it !!\n"
     ]
    },
    {
     "name": "stderr",
     "output_type": "stream",
     "text": [
      "Processing files:  30%|██▉       | 27747/92956 [12:47<22:28, 48.35it/s]  "
     ]
    },
    {
     "name": "stdout",
     "output_type": "stream",
     "text": [
      "> The file ../data/converted/commonvoice-to-vctk/wav16_silence_trimmed/cv031/cv031_067_mic1.flac probably does not have speech please check it !!\n"
     ]
    },
    {
     "name": "stderr",
     "output_type": "stream",
     "text": [
      "Processing files:  37%|███▋      | 33994/92956 [15:07<22:35, 43.50it/s]"
     ]
    },
    {
     "name": "stdout",
     "output_type": "stream",
     "text": [
      "> The file ../data/converted/commonvoice-to-vctk/wav16_silence_trimmed/cv126/cv126_853_mic1.flac probably does not have speech please check it !!\n"
     ]
    },
    {
     "name": "stderr",
     "output_type": "stream",
     "text": [
      "Processing files:  47%|████▋     | 43849/92956 [19:05<18:59, 43.08it/s]"
     ]
    },
    {
     "name": "stdout",
     "output_type": "stream",
     "text": [
      "> The file ../data/converted/commonvoice-to-vctk/wav16_silence_trimmed/cv129/cv129_1729_mic1.flac probably does not have speech please check it !!\n"
     ]
    },
    {
     "name": "stderr",
     "output_type": "stream",
     "text": [
      "Processing files:  48%|████▊     | 44178/92956 [19:13<18:51, 43.12it/s]"
     ]
    },
    {
     "name": "stdout",
     "output_type": "stream",
     "text": [
      "> The file ../data/converted/commonvoice-to-vctk/wav16_silence_trimmed/cv129/cv129_1648_mic1.flac probably does not have speech please check it !!\n"
     ]
    },
    {
     "name": "stderr",
     "output_type": "stream",
     "text": [
      "Processing files:  50%|█████     | 46909/92956 [20:22<18:03, 42.51it/s]"
     ]
    },
    {
     "name": "stdout",
     "output_type": "stream",
     "text": [
      "> The file ../data/converted/commonvoice-to-vctk/wav16_silence_trimmed/cv134/cv134_15607_mic1.flac probably does not have speech please check it !!\n"
     ]
    },
    {
     "name": "stderr",
     "output_type": "stream",
     "text": [
      "Processing files:  54%|█████▎    | 49765/92956 [21:36<19:11, 37.52it/s]"
     ]
    },
    {
     "name": "stdout",
     "output_type": "stream",
     "text": [
      "> The file ../data/converted/commonvoice-to-vctk/wav16_silence_trimmed/cv134/cv134_8662_mic1.flac probably does not have speech please check it !!\n"
     ]
    },
    {
     "name": "stderr",
     "output_type": "stream",
     "text": [
      "Processing files:  64%|██████▎   | 59243/92956 [25:42<12:47, 43.95it/s]"
     ]
    },
    {
     "name": "stdout",
     "output_type": "stream",
     "text": [
      "> The file ../data/converted/commonvoice-to-vctk/wav16_silence_trimmed/cv134/cv134_10987_mic1.flac probably does not have speech please check it !!\n"
     ]
    },
    {
     "name": "stderr",
     "output_type": "stream",
     "text": [
      "Processing files:  66%|██████▌   | 61265/92956 [26:34<14:35, 36.18it/s]"
     ]
    },
    {
     "name": "stdout",
     "output_type": "stream",
     "text": [
      "> The file ../data/converted/commonvoice-to-vctk/wav16_silence_trimmed/cv134/cv134_13435_mic1.flac probably does not have speech please check it !!\n"
     ]
    },
    {
     "name": "stderr",
     "output_type": "stream",
     "text": [
      "Processing files:  68%|██████▊   | 63562/92956 [27:33<11:51, 41.29it/s]"
     ]
    },
    {
     "name": "stdout",
     "output_type": "stream",
     "text": [
      "> The file ../data/converted/commonvoice-to-vctk/wav16_silence_trimmed/cv134/cv134_18451_mic1.flac probably does not have speech please check it !!\n"
     ]
    },
    {
     "name": "stderr",
     "output_type": "stream",
     "text": [
      "Processing files:  72%|███████▏  | 66835/92956 [28:58<11:43, 37.13it/s]"
     ]
    },
    {
     "name": "stdout",
     "output_type": "stream",
     "text": [
      "> The file ../data/converted/commonvoice-to-vctk/wav16_silence_trimmed/cv134/cv134_18844_mic1.flac probably does not have speech please check it !!\n"
     ]
    },
    {
     "name": "stderr",
     "output_type": "stream",
     "text": [
      "Processing files:  83%|████████▎ | 76831/92956 [33:33<06:37, 40.56it/s]"
     ]
    },
    {
     "name": "stdout",
     "output_type": "stream",
     "text": [
      "> The file ../data/converted/commonvoice-to-vctk/wav16_silence_trimmed/cv133/cv133_202_mic1.flac probably does not have speech please check it !!\n"
     ]
    },
    {
     "name": "stderr",
     "output_type": "stream",
     "text": [
      "Processing files:  90%|████████▉ | 83552/92956 [36:29<02:38, 59.18it/s]"
     ]
    },
    {
     "name": "stdout",
     "output_type": "stream",
     "text": [
      "> The file ../data/converted/commonvoice-to-vctk/wav16_silence_trimmed/cv132/cv132_116_mic1.flac probably does not have speech please check it !!\n"
     ]
    },
    {
     "name": "stderr",
     "output_type": "stream",
     "text": [
      "Processing files:  91%|█████████ | 84495/92956 [36:48<02:36, 53.94it/s]"
     ]
    },
    {
     "name": "stdout",
     "output_type": "stream",
     "text": [
      "> The file ../data/converted/commonvoice-to-vctk/wav16_silence_trimmed/cv132/cv132_5889_mic1.flac probably does not have speech please check it !!\n"
     ]
    },
    {
     "name": "stderr",
     "output_type": "stream",
     "text": [
      "Processing files:  92%|█████████▏| 85954/92956 [37:21<02:13, 52.46it/s]"
     ]
    },
    {
     "name": "stdout",
     "output_type": "stream",
     "text": [
      "> The file ../data/converted/commonvoice-to-vctk/wav16_silence_trimmed/cv132/cv132_4774_mic1.flac probably does not have speech please check it !!\n"
     ]
    },
    {
     "name": "stderr",
     "output_type": "stream",
     "text": [
      "Processing files:  94%|█████████▍| 87332/92956 [37:49<02:05, 44.98it/s]"
     ]
    },
    {
     "name": "stdout",
     "output_type": "stream",
     "text": [
      "> The file ../data/converted/commonvoice-to-vctk/wav16_silence_trimmed/cv132/cv132_923_mic1.flac probably does not have speech please check it !!\n"
     ]
    },
    {
     "name": "stderr",
     "output_type": "stream",
     "text": [
      "Processing files:  96%|█████████▌| 88992/92956 [38:24<01:10, 56.29it/s]"
     ]
    },
    {
     "name": "stdout",
     "output_type": "stream",
     "text": [
      "> The file ../data/converted/commonvoice-to-vctk/wav16_silence_trimmed/cv132/cv132_4025_mic1.flac probably does not have speech please check it !!\n"
     ]
    },
    {
     "name": "stderr",
     "output_type": "stream",
     "text": [
      "Processing files:  98%|█████████▊| 90932/92956 [39:11<00:51, 39.11it/s]"
     ]
    },
    {
     "name": "stdout",
     "output_type": "stream",
     "text": [
      "> The file ../data/converted/commonvoice-to-vctk/wav16_silence_trimmed/cv013/cv013_103_mic1.flac probably does not have speech please check it !!\n"
     ]
    },
    {
     "name": "stderr",
     "output_type": "stream",
     "text": [
      "Processing files:  99%|█████████▉| 92248/92956 [39:50<00:21, 32.64it/s]"
     ]
    },
    {
     "name": "stdout",
     "output_type": "stream",
     "text": [
      "> The file ../data/converted/commonvoice-to-vctk/wav16_silence_trimmed/cv046/cv046_030_mic1.flac probably does not have speech please check it !!\n"
     ]
    },
    {
     "name": "stderr",
     "output_type": "stream",
     "text": [
      "Processing files: 100%|██████████| 92956/92956 [40:14<00:00, 38.50it/s]"
     ]
    },
    {
     "name": "stdout",
     "output_type": "stream",
     "text": [
      "\n",
      "Processing complete\n",
      "\n",
      "Found 29 files with no speech. List saved to ../data/converted/commonvoice-to-vctk/no_speech_files.txt\n"
     ]
    },
    {
     "name": "stderr",
     "output_type": "stream",
     "text": [
      "\n"
     ]
    }
   ],
   "source": [
    "input_folder = Path(\"../data/converted/commonvoice-to-vctk/wav16_silence_trimmed\")\n",
    "\n",
    "# Get VAD model once\n",
    "model_and_utils = get_vad_model_and_utils(use_cuda=torch.cuda.is_available(), use_onnx=False)\n",
    "\n",
    "# Get all .flac files\n",
    "flac_files = list(input_folder.glob('**/*.flac'))\n",
    "total_files = len(flac_files)\n",
    "print(f\"Found {total_files} .flac files to process\")\n",
    "\n",
    "# Track files with no speech detected\n",
    "no_speech_files = []\n",
    "\n",
    "for input_path in tqdm(flac_files, desc=\"Processing files\"):\n",
    "   # Preserve directory structure\n",
    "   relative_path = input_path.relative_to(input_folder)\n",
    "   output_path = input_folder / relative_path\n",
    "   \n",
    "   # Create subdirectories\n",
    "   output_path.parent.mkdir(parents=True, exist_ok=True)\n",
    "   \n",
    "   try:\n",
    "       output_path, is_speech = remove_silence(\n",
    "           model_and_utils,\n",
    "           str(input_path),\n",
    "           str(output_path),\n",
    "           trim_just_beginning_and_end=True,\n",
    "           use_cuda=torch.cuda.is_available()\n",
    "       )\n",
    "       # If no speech detected, add to list\n",
    "       if not is_speech:\n",
    "           no_speech_files.append(str(output_path))\n",
    "   except Exception as e:\n",
    "       print(f\"Error processing {relative_path}: {str(e)}\")\n",
    "\n",
    "print(\"\\nProcessing complete\")\n",
    "\n",
    "# Write list of files with no speech detected\n",
    "if no_speech_files:\n",
    "   log_path = input_folder.parent / \"no_speech_files.txt\"\n",
    "   with open(log_path, \"w\", encoding=\"utf-8\") as f:\n",
    "       for file in no_speech_files:\n",
    "           f.write(f\"{file}\\n\")\n",
    "   print(f\"\\nFound {len(no_speech_files)} files with no speech. List saved to {log_path}\")"
   ]
  },
  {
   "cell_type": "markdown",
   "metadata": {},
   "source": [
    "# Create metadata"
   ]
  },
  {
   "cell_type": "code",
   "execution_count": 7,
   "metadata": {},
   "outputs": [],
   "source": [
    "DEST_DIR = Path(DEST_DIR)\n",
    "\n",
    "json_files = {\n",
    "   'grouped_data.json': [\n",
    "       {\"client_id\": cid, \"data\": [{\"path\": d[1], \"sentence\": d[0]} for d in data]}\n",
    "       for cid, data in grouped_data.items()\n",
    "   ],\n",
    "   'language_ids.json': {'th': 1},\n",
    "   'speakers_ids.json': {cid: i for i, cid in enumerate(grouped_data)},\n",
    "   'id_mapper.json': id_mapper\n",
    "}\n",
    "\n",
    "# Write JSON files\n",
    "for filename, data in json_files.items():\n",
    "   with open(DEST_DIR / filename, 'w') as f:\n",
    "       json.dump(data, f, indent=2)\n",
    "\n",
    "# Write character files\n",
    "sorted_chars = sorted(all_chars)\n",
    "with open(DEST_DIR / 'all_chars_unicode.txt', 'w') as f:\n",
    "   f.write(''.join(c.encode('unicode_escape').decode('ascii') for c in sorted_chars))\n",
    "   \n",
    "with open(DEST_DIR / 'all_chars.txt', 'w') as f:\n",
    "   f.write(''.join(sorted_chars))"
   ]
  }
 ],
 "metadata": {
  "kernelspec": {
   "display_name": "khongkhuntts-EJcUAAU7-py3.11",
   "language": "python",
   "name": "python3"
  },
  "language_info": {
   "codemirror_mode": {
    "name": "ipython",
    "version": 3
   },
   "file_extension": ".py",
   "mimetype": "text/x-python",
   "name": "python",
   "nbconvert_exporter": "python",
   "pygments_lexer": "ipython3",
   "version": "3.11.9"
  }
 },
 "nbformat": 4,
 "nbformat_minor": 2
}
