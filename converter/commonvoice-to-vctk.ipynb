{
  "cells": [
    {
      "cell_type": "markdown",
      "metadata": {},
      "source": [
        "# Import libraries"
      ]
    },
    {
      "cell_type": "code",
      "execution_count": 1,
      "metadata": {},
      "outputs": [],
      "source": [
        "import pandas as pd\n",
        "import os\n",
        "from pathlib import Path\n",
        "import shutil\n",
        "from typing import List\n",
        "import json \n",
        "from tqdm import tqdm\n",
        "\n",
        "import concurrent.futures\n",
        "from typing import List, Tuple, Dict\n",
        "import multiprocessing\n",
        "\n",
        "import sys\n",
        "sys.path.append('..')\n",
        "from utils.audio_util import convert_mp3_to_flac, resample_audios, trim_silence_with_vad\n",
        "from utils.file_util import recursive_copy\n",
        "from utils.text_util import clean_text_cv, handle_maiyamok"
      ]
    },
    {
      "cell_type": "markdown",
      "metadata": {},
      "source": [
        "# Read the validated tsv"
      ]
    },
    {
      "cell_type": "code",
      "execution_count": 2,
      "metadata": {},
      "outputs": [
        {
          "name": "stderr",
          "output_type": "stream",
          "text": [
            "/var/folders/m1/7w22yfgd6sb1ncmg34nvzblc0000gn/T/ipykernel_53175/1241631071.py:1: DtypeWarning: Columns (9,12) have mixed types. Specify dtype option on import or set low_memory=False.\n",
            "  validated_data = pd.read_csv('../data/raw/cv-corpus-20.0-2024-12-06/th/validated.tsv', sep='\\t')\n"
          ]
        }
      ],
      "source": [
        "validated_data = pd.read_csv('../data/raw/cv-corpus-20.0-2024-12-06/th/validated.tsv', sep='\\t')"
      ]
    },
    {
      "cell_type": "markdown",
      "metadata": {},
      "source": [
        "# Define word replacement function"
      ]
    },
    {
      "cell_type": "code",
      "execution_count": 3,
      "metadata": {},
      "outputs": [],
      "source": [
        "replace_dict = {\n",
        "    \"Facebook\": \"เฟซบุ๊ก\",\n",
        "    \"softmax\": \"ซอฟต์แม็กซ์\",\n",
        "    \"Astroturf\": \"แอสโตรเทิร์ฟ\",\n",
        "    \"Burke\": \"เบิร์ก\",\n",
        "    \"whilst\": \"ไวล์สท์\",\n",
        "    \"Kenny\": \"เคนนี\",\n",
        "    \"Flickr\": \"ฟลิกเกอร์\",\n",
        "    \"Asperger\": \"แอสเพอร์เกอร์\",\n",
        "    \"Johanna\": \"โจแอนนา\",\n",
        "    \"C\" : \"ซี\",\n",
        "    \"section\": \"เซคชัน\",\n",
        "    \"Mr Lincoln\": \"มิสเตอร์ ลินคอล์น\",\n",
        "    \"Brexiteers\": \"เบร็กซิทเทียร์ส\",\n",
        "    \"Brexit\": \"เบร็กซิท\"\n",
        "}\n",
        "\n",
        "replacing_word = [\n",
        "    ['เพฃร', 'เพชร'],\n",
        "    ['เวิล์ด', 'เวิลด์'],\n",
        "    ['อัลกอรึธึม', 'อัลกอริทึม'],\n",
        "    ['เซนทรัล', 'เซ็นทรัล'],\n",
        "    ['เวิร์ล', 'เวิลด์'],\n",
        "    ['แรคคูน', 'แร็คคูน'],\n",
        "    ['เลกฮอร์น', 'เล็กฮอร์น'],\n",
        "    ['แอร์โรว์', 'แอร์โร่ว์'],\n",
        "    ['ดีเวลลอปเมนท์', 'ดีเวลลอปเม้นท์'],\n",
        "    ['เวดเดล', 'เว็ดเดล'],\n",
        "    ['ธัญาโภชน์', 'ธัญโภชน์'],\n",
        "    ['เคเบิล', 'เคเบิ้ล'],\n",
        "    ['เบตสัน', 'เบ๊ตสัน'],\n",
        "    ['นโบาย', 'นโยบาย'],\n",
        "    ['รัชาดาภิเษก', 'รัชดาภิเษก'],\n",
        "    ['่หมวกกันน็อค', 'หมวกกันน็อค'],\n",
        "    ['คาแรคเตอร์', 'คาแร็คเตอร์'],\n",
        "    ['คาแรกเตอร์', 'คาแร็คเตอร์'],\n",
        "    ['คาร์แร็คเตอร์', 'คาแร็คเตอร์']\n",
        "]\n",
        "\n",
        "maiyamok_exceptions = {\n",
        "    'เธอเป็นคนดีมาก ๆ': 'เธอเป็นคนดีมากมาก',\n",
        "    'ให้ประสานงานกับสมาชิกคนอื่น ๆ และหารือเกี่ยวกับปัญหานี้ในภายหลัง': 'ให้ประสานงานกับสมาชิกคนอื่นคนอื่น และหารือเกี่ยวกับปัญหานี้ในภายหลัง',\n",
        "    'ช่างเป็นสวนหลังบ้านที่ดีงามมาก ๆ จริง ๆ คุณนาย !': 'ช่างเป็นสวนหลังบ้านที่ดีงามมากมาก จริงจริง คุณนาย !',\n",
        "    'ฉันอาจจะผ่านเรื่องเล็ก ๆ น้อย ๆ นั้นไปได้ด้วยดี': 'ฉันอาจจะผ่านเรื่องเล็กเล็ก น้อยน้อย นั้นไปได้ด้วยดี',\n",
        "    'มันทำให้รู้สึกสดชื่นจริง ๆ ที่ได้นั่งท่ามกลางบรรยากาศที่มีแต่ลมพัดเย็น ๆ ที่แสนสบาย': 'มันทำให้รู้สึกสดชื่นจริงจริง ที่ได้นั่งท่ามกลางบรรยากาศที่มีแต่ลมพัดเย็นเย็น ที่แสนสบาย',\n",
        "    'ซาลกำลังทำให้คนอื่น ๆ โกรธ': 'ซาลกำลังทำให้คนอื่นอื่น โกรธ',\n",
        "    'มีทันตแพทย์และแพทย์คนอื่น ๆ ในคลินิกนี้': 'มีทันตแพทย์และแพทย์คนอื่นอื่น ในคลินิกนี้',\n",
        "    'ใครพูดรัว ๆ ติดกันได้นาน ๆ บอกเราด้วย': 'ใครพูดรัวรัว ติดกันได้นานนาน บอกเราด้วย',\n",
        "    '“ผมเสียใจจริง ๆ ที่ต้องไปครับท่าน” ฉันตอบกลับ': '“ผมเสียใจจริงจริง ที่ต้องไปครับท่าน” ฉันตอบกลับ',\n",
        "    'ใจเย็น ๆ ค่ะ ไม่ต้องตื่นเต้น': 'ใจเย็นเย็น ค่ะ ไม่ต้องตื่นเต้น',\n",
        "    'เรื่องนี้มันดีมาก ๆ': 'เรื่องนี้มันดีมากมาก',\n",
        "    'คุณผู้หญิงเหมือนเด็กเล็ก ๆ': 'คุณผู้หญิงเหมือนเด็กเล็กเล็ก',\n",
        "    \"'ช่างเป็นดอกไม้ดอกใหญ่ ๆ สมอย่างที่ต้องเป็นจริง ๆ !' เธอแสดงความคิดต่อมาของเธอ\": \"'ช่างเป็นดอกไม้ดอกใหญ่ใหญ่ สมอย่างที่ต้องเป็นจริงจริง !' เธอแสดงความคิดต่อมาของเธอ\",\n",
        "    'คนอื่น ๆ เดินตามรอยของเขา' :'คนอื่นอื่น เดินตามรอยของเขา'\n",
        "}\n",
        "\n",
        "def preprocess_words(dataframe: pd.DataFrame, column_name: str, replacing_pairs: List[List[str]]) -> pd.DataFrame:\n",
        "    dataframe[column_name] = dataframe[column_name].apply(lambda x: handle_maiyamok(x, maiyamok_exceptions))\n",
        "    for old_word, new_word in replacing_pairs:\n",
        "        dataframe[column_name] = dataframe[column_name].apply(lambda x: x.replace(old_word, new_word))\n",
        "    dataframe[column_name] = dataframe[column_name].apply(clean_text_cv, replace_dict=replace_dict)\n",
        "    return dataframe"
      ]
    },
    {
      "cell_type": "markdown",
      "metadata": {},
      "source": [
        "# Filter and group client_id that have over 100 records"
      ]
    },
    {
      "cell_type": "code",
      "execution_count": 4,
      "metadata": {},
      "outputs": [
        {
          "name": "stderr",
          "output_type": "stream",
          "text": [
            "/var/folders/m1/7w22yfgd6sb1ncmg34nvzblc0000gn/T/ipykernel_53175/115986267.py:58: SettingWithCopyWarning: \n",
            "A value is trying to be set on a copy of a slice from a DataFrame.\n",
            "Try using .loc[row_indexer,col_indexer] = value instead\n",
            "\n",
            "See the caveats in the documentation: https://pandas.pydata.org/pandas-docs/stable/user_guide/indexing.html#returning-a-view-versus-a-copy\n",
            "  dataframe[column_name] = dataframe[column_name].apply(lambda x: handle_maiyamok(x, maiyamok_exceptions))\n",
            "/var/folders/m1/7w22yfgd6sb1ncmg34nvzblc0000gn/T/ipykernel_53175/115986267.py:60: SettingWithCopyWarning: \n",
            "A value is trying to be set on a copy of a slice from a DataFrame.\n",
            "Try using .loc[row_indexer,col_indexer] = value instead\n",
            "\n",
            "See the caveats in the documentation: https://pandas.pydata.org/pandas-docs/stable/user_guide/indexing.html#returning-a-view-versus-a-copy\n",
            "  dataframe[column_name] = dataframe[column_name].apply(lambda x: x.replace(old_word, new_word))\n",
            "/var/folders/m1/7w22yfgd6sb1ncmg34nvzblc0000gn/T/ipykernel_53175/115986267.py:61: SettingWithCopyWarning: \n",
            "A value is trying to be set on a copy of a slice from a DataFrame.\n",
            "Try using .loc[row_indexer,col_indexer] = value instead\n",
            "\n",
            "See the caveats in the documentation: https://pandas.pydata.org/pandas-docs/stable/user_guide/indexing.html#returning-a-view-versus-a-copy\n",
            "  dataframe[column_name] = dataframe[column_name].apply(clean_text_cv, replace_dict=replace_dict)\n"
          ]
        }
      ],
      "source": [
        "filtered_data = validated_data[\n",
        "    validated_data['client_id'].map(\n",
        "        validated_data['client_id'].value_counts() >= 100\n",
        "    )\n",
        "]\n",
        "filtered_data = preprocess_words(filtered_data, 'sentence', replacing_word)\n",
        "grouped = filtered_data.groupby('client_id').agg(list)"
      ]
    },
    {
      "cell_type": "markdown",
      "metadata": {},
      "source": [
        "# Define new id instead of client_id"
      ]
    },
    {
      "cell_type": "code",
      "execution_count": 5,
      "metadata": {},
      "outputs": [],
      "source": [
        "id_mapper = {id_: f'cv{str(i+1).zfill(3)}' for i, id_ in enumerate(filtered_data['client_id'].unique())}\n",
        "\n",
        "grouped_data = {\n",
        "    id_mapper[client_id]: list(zip(sentences, paths))\n",
        "    for (client_id, (sentences, paths)) in grouped[['sentence', 'path']].iterrows()\n",
        "}"
      ]
    },
    {
      "cell_type": "markdown",
      "metadata": {},
      "source": [
        "# Moving files to the new folder"
      ]
    },
    {
      "cell_type": "code",
      "execution_count": 6,
      "metadata": {},
      "outputs": [
        {
          "name": "stdout",
          "output_type": "stream",
          "text": [
            "Clearing destination folder\n",
            "Starting parallel processing with 12 workers\n"
          ]
        },
        {
          "name": "stderr",
          "output_type": "stream",
          "text": [
            "Processing clients: 100%|██████████| 134/134 [1:18:07<00:00, 34.98s/it] "
          ]
        },
        {
          "name": "stdout",
          "output_type": "stream",
          "text": [
            "\n",
            "Conversion Summary:\n",
            "Total files processed successfully: 92956\n",
            "Total files failed: 0\n",
            "Total unique characters: 68\n",
            "Restructuring and conversion complete\n"
          ]
        },
        {
          "name": "stderr",
          "output_type": "stream",
          "text": [
            "\n"
          ]
        }
      ],
      "source": [
        "# Define paths\n",
        "DEST_DIR = \"../data/converted/commonvoice-to-vctk\"\n",
        "DEST_TEXT_PATH = os.path.join(DEST_DIR, \"txt\")\n",
        "DEST_AUDIO_PATH = os.path.join(DEST_DIR, \"wav32\")\n",
        "SRC_AUDIO_PATH = \"../data/raw/cv-corpus-20.0-2024-12-06/th/clips\"\n",
        "\n",
        "# Number of worker threads (adjust based on your CPU)\n",
        "NUM_WORKERS = multiprocessing.cpu_count()\n",
        "\n",
        "def process_client_data(client_data: Tuple[str, List]) -> Dict:\n",
        "    \"\"\"\n",
        "    Process all data for a single client\n",
        "    \n",
        "    Args:\n",
        "        client_data: Tuple of (client_id, data)\n",
        "    \n",
        "    Returns:\n",
        "        Dict with processing results\n",
        "    \"\"\"\n",
        "    client_id, data = client_data\n",
        "    results = {\n",
        "        'client_id': client_id,\n",
        "        'processed': 0,\n",
        "        'failed': 0,\n",
        "        'chars': set()\n",
        "    }\n",
        "    \n",
        "    # Create client directories\n",
        "    client_text_dir = os.path.join(DEST_TEXT_PATH, client_id)\n",
        "    client_audio_dir = os.path.join(DEST_AUDIO_PATH, client_id)\n",
        "    os.makedirs(client_text_dir, exist_ok=True)\n",
        "    os.makedirs(client_audio_dir, exist_ok=True)\n",
        "    \n",
        "    for i, d in enumerate(data):\n",
        "        # Write text file\n",
        "        text_path = os.path.join(client_text_dir, f\"{client_id}_{(i + 1):03d}.txt\")\n",
        "        with open(text_path, 'w') as f:\n",
        "            f.write(d[0])\n",
        "            results['chars'].update(d[0])\n",
        "        \n",
        "        # Convert audio file\n",
        "        src_audio_path = os.path.join(SRC_AUDIO_PATH, d[1])\n",
        "        dst_audio_path = os.path.join(\n",
        "            client_audio_dir,\n",
        "            f\"{client_id}_{(i + 1):03d}_mic1.flac\"\n",
        "        )\n",
        "        \n",
        "        if convert_mp3_to_flac(src_audio_path, dst_audio_path):\n",
        "            results['processed'] += 1\n",
        "        else:\n",
        "            results['failed'] += 1\n",
        "    \n",
        "    return results\n",
        "\n",
        "# Clean and create directories\n",
        "if os.path.exists(DEST_DIR):\n",
        "    print(\"Clearing destination folder\")\n",
        "    shutil.rmtree(DEST_DIR)\n",
        "os.makedirs(DEST_TEXT_PATH, exist_ok=True)\n",
        "os.makedirs(DEST_AUDIO_PATH, exist_ok=True)\n",
        "\n",
        "print(f\"Starting parallel processing with {NUM_WORKERS} workers\")\n",
        "\n",
        "# Create progress bar for overall processing\n",
        "with tqdm(total=len(grouped_data), desc=\"Processing clients\") as pbar:\n",
        "    all_chars = set()\n",
        "    total_processed = 0\n",
        "    total_failed = 0\n",
        "    \n",
        "    # Process clients in parallel\n",
        "    with concurrent.futures.ThreadPoolExecutor(max_workers=NUM_WORKERS) as executor:\n",
        "        # Submit all client processing tasks\n",
        "        future_to_client = {\n",
        "            executor.submit(process_client_data, (client_id, data)): client_id \n",
        "            for client_id, data in grouped_data.items()\n",
        "        }\n",
        "        \n",
        "        # Process completed tasks\n",
        "        for future in concurrent.futures.as_completed(future_to_client):\n",
        "            client_id = future_to_client[future]\n",
        "            try:\n",
        "                result = future.result()\n",
        "                all_chars.update(result['chars'])\n",
        "                total_processed += result['processed']\n",
        "                total_failed += result['failed']\n",
        "            except Exception as e:\n",
        "                print(f\"Client {client_id} generated an exception: {str(e)}\")\n",
        "                total_failed += len(grouped_data[client_id])\n",
        "            pbar.update(1)\n",
        "\n",
        "print(\"\\nConversion Summary:\")\n",
        "print(f\"Total files processed successfully: {total_processed}\")\n",
        "print(f\"Total files failed: {total_failed}\")\n",
        "print(f\"Total unique characters: {len(all_chars)}\")\n",
        "print(\"Restructuring and conversion complete\")"
      ]
    },
    {
      "cell_type": "markdown",
      "metadata": {},
      "source": [
        "# Resample and trim audio"
      ]
    },
    {
      "cell_type": "code",
      "execution_count": 7,
      "metadata": {},
      "outputs": [],
      "source": [
        "# Create destination directory if it doesn't exist\n",
        "os.makedirs(\"../data/converted/commonvoice-to-vctk/wav16_silence_trimmed\", exist_ok=True)\n",
        "\n",
        "# Copy all files from wav32 to wav16_silence_trimmed\n",
        "src_dir = \"../data/converted/commonvoice-to-vctk/wav32\"\n",
        "dst_dir = \"../data/converted/commonvoice-to-vctk/wav16_silence_trimmed\"\n",
        "\n",
        "recursive_copy(src_dir, dst_dir)"
      ]
    },
    {
      "cell_type": "code",
      "execution_count": 8,
      "metadata": {},
      "outputs": [
        {
          "name": "stdout",
          "output_type": "stream",
          "text": [
            "Resampling the audio files...\n",
            "Found 92956 files...\n"
          ]
        },
        {
          "name": "stderr",
          "output_type": "stream",
          "text": [
            "100%|██████████| 92956/92956 [01:29<00:00, 1034.56it/s]"
          ]
        },
        {
          "name": "stdout",
          "output_type": "stream",
          "text": [
            "Done !\n"
          ]
        },
        {
          "name": "stderr",
          "output_type": "stream",
          "text": [
            "\n"
          ]
        }
      ],
      "source": [
        "# Resample all files in wav16_silence_trimmed to 16kHz\n",
        "SAMPLE_RATE = 16000\n",
        "NUM_RESAMPLE_THREADS = 4\n",
        "\n",
        "resample_audios(\n",
        "  input_folders=\"../data/converted/commonvoice-to-vctk/wav16_silence_trimmed\",\n",
        "  file_ext=\"flac\",\n",
        "  sample_rate=SAMPLE_RATE,\n",
        "  n_jobs=NUM_RESAMPLE_THREADS\n",
        ")"
      ]
    },
    {
      "cell_type": "code",
      "execution_count": 9,
      "metadata": {},
      "outputs": [
        {
          "name": "stderr",
          "output_type": "stream",
          "text": [
            "Downloading: \"https://github.com/snakers4/silero-vad/zipball/master\" to /Users/jackkahod/.cache/torch/hub/master.zip\n"
          ]
        },
        {
          "name": "stdout",
          "output_type": "stream",
          "text": [
            "Found 92956 .flac files to process\n"
          ]
        },
        {
          "name": "stderr",
          "output_type": "stream",
          "text": [
            "Processing files:   3%|▎         | 2494/92956 [00:41<21:36, 69.79it/s]"
          ]
        },
        {
          "name": "stdout",
          "output_type": "stream",
          "text": [
            "> The file ../data/converted/commonvoice-to-vctk/wav16_silence_trimmed/cv050/cv050_088_mic1.flac probably does not have speech please check it !!\n"
          ]
        },
        {
          "name": "stderr",
          "output_type": "stream",
          "text": [
            "Processing files:   4%|▍         | 3918/92956 [01:05<24:19, 61.01it/s]"
          ]
        },
        {
          "name": "stdout",
          "output_type": "stream",
          "text": [
            "> The file ../data/converted/commonvoice-to-vctk/wav16_silence_trimmed/cv032/cv032_010_mic1.flac probably does not have speech please check it !!\n"
          ]
        },
        {
          "name": "stderr",
          "output_type": "stream",
          "text": [
            "Processing files:   6%|▌         | 5329/92956 [01:30<22:02, 66.25it/s]"
          ]
        },
        {
          "name": "stdout",
          "output_type": "stream",
          "text": [
            "> The file ../data/converted/commonvoice-to-vctk/wav16_silence_trimmed/cv114/cv114_105_mic1.flac probably does not have speech please check it !!\n"
          ]
        },
        {
          "name": "stderr",
          "output_type": "stream",
          "text": [
            "Processing files:   8%|▊         | 7436/92956 [02:08<22:21, 63.74it/s]"
          ]
        },
        {
          "name": "stdout",
          "output_type": "stream",
          "text": [
            "> The file ../data/converted/commonvoice-to-vctk/wav16_silence_trimmed/cv125/cv125_946_mic1.flac probably does not have speech please check it !!\n"
          ]
        },
        {
          "name": "stderr",
          "output_type": "stream",
          "text": [
            "Processing files:  11%|█         | 9863/92956 [02:45<23:16, 59.48it/s]"
          ]
        },
        {
          "name": "stdout",
          "output_type": "stream",
          "text": [
            "> The file ../data/converted/commonvoice-to-vctk/wav16_silence_trimmed/cv123/cv123_251_mic1.flac probably does not have speech please check it !!\n"
          ]
        },
        {
          "name": "stderr",
          "output_type": "stream",
          "text": [
            "Processing files:  17%|█▋        | 15383/92956 [04:19<21:14, 60.84it/s]"
          ]
        },
        {
          "name": "stdout",
          "output_type": "stream",
          "text": [
            "> The file ../data/converted/commonvoice-to-vctk/wav16_silence_trimmed/cv101/cv101_116_mic1.flac probably does not have speech please check it !!\n"
          ]
        },
        {
          "name": "stderr",
          "output_type": "stream",
          "text": [
            "Processing files:  18%|█▊        | 16383/92956 [04:36<19:39, 64.95it/s]"
          ]
        },
        {
          "name": "stdout",
          "output_type": "stream",
          "text": [
            "> The file ../data/converted/commonvoice-to-vctk/wav16_silence_trimmed/cv107/cv107_384_mic1.flac probably does not have speech please check it !!\n",
            "> The file ../data/converted/commonvoice-to-vctk/wav16_silence_trimmed/cv107/cv107_451_mic1.flac probably does not have speech please check it !!\n"
          ]
        },
        {
          "name": "stderr",
          "output_type": "stream",
          "text": [
            "Processing files:  19%|█▉        | 18123/92956 [05:04<17:37, 70.76it/s]"
          ]
        },
        {
          "name": "stdout",
          "output_type": "stream",
          "text": [
            "> The file ../data/converted/commonvoice-to-vctk/wav16_silence_trimmed/cv131/cv131_2196_mic1.flac probably does not have speech please check it !!\n"
          ]
        },
        {
          "name": "stderr",
          "output_type": "stream",
          "text": [
            "Processing files:  27%|██▋       | 25496/92956 [06:58<17:19, 64.87it/s]"
          ]
        },
        {
          "name": "stdout",
          "output_type": "stream",
          "text": [
            "> The file ../data/converted/commonvoice-to-vctk/wav16_silence_trimmed/cv039/cv039_039_mic1.flac probably does not have speech please check it !!\n"
          ]
        },
        {
          "name": "stderr",
          "output_type": "stream",
          "text": [
            "Processing files:  29%|██▊       | 26566/92956 [07:17<20:29, 53.99it/s]"
          ]
        },
        {
          "name": "stdout",
          "output_type": "stream",
          "text": [
            "> The file ../data/converted/commonvoice-to-vctk/wav16_silence_trimmed/cv063/cv063_111_mic1.flac probably does not have speech please check it !!\n"
          ]
        },
        {
          "name": "stderr",
          "output_type": "stream",
          "text": [
            "Processing files:  30%|██▉       | 27751/92956 [07:37<15:33, 69.84it/s]"
          ]
        },
        {
          "name": "stdout",
          "output_type": "stream",
          "text": [
            "> The file ../data/converted/commonvoice-to-vctk/wav16_silence_trimmed/cv031/cv031_067_mic1.flac probably does not have speech please check it !!\n"
          ]
        },
        {
          "name": "stderr",
          "output_type": "stream",
          "text": [
            "Processing files:  37%|███▋      | 33997/92956 [09:07<14:21, 68.41it/s]"
          ]
        },
        {
          "name": "stdout",
          "output_type": "stream",
          "text": [
            "> The file ../data/converted/commonvoice-to-vctk/wav16_silence_trimmed/cv126/cv126_853_mic1.flac probably does not have speech please check it !!\n"
          ]
        },
        {
          "name": "stderr",
          "output_type": "stream",
          "text": [
            "Processing files:  47%|████▋     | 43850/92956 [11:43<13:14, 61.78it/s]"
          ]
        },
        {
          "name": "stdout",
          "output_type": "stream",
          "text": [
            "> The file ../data/converted/commonvoice-to-vctk/wav16_silence_trimmed/cv129/cv129_1729_mic1.flac probably does not have speech please check it !!\n"
          ]
        },
        {
          "name": "stderr",
          "output_type": "stream",
          "text": [
            "Processing files:  48%|████▊     | 44182/92956 [11:48<13:06, 62.05it/s]"
          ]
        },
        {
          "name": "stdout",
          "output_type": "stream",
          "text": [
            "> The file ../data/converted/commonvoice-to-vctk/wav16_silence_trimmed/cv129/cv129_1648_mic1.flac probably does not have speech please check it !!\n"
          ]
        },
        {
          "name": "stderr",
          "output_type": "stream",
          "text": [
            "Processing files:  50%|█████     | 46910/92956 [12:34<13:16, 57.78it/s]"
          ]
        },
        {
          "name": "stdout",
          "output_type": "stream",
          "text": [
            "> The file ../data/converted/commonvoice-to-vctk/wav16_silence_trimmed/cv134/cv134_15607_mic1.flac probably does not have speech please check it !!\n"
          ]
        },
        {
          "name": "stderr",
          "output_type": "stream",
          "text": [
            "Processing files:  54%|█████▎    | 49764/92956 [13:23<13:21, 53.90it/s]"
          ]
        },
        {
          "name": "stdout",
          "output_type": "stream",
          "text": [
            "> The file ../data/converted/commonvoice-to-vctk/wav16_silence_trimmed/cv134/cv134_8662_mic1.flac probably does not have speech please check it !!\n"
          ]
        },
        {
          "name": "stderr",
          "output_type": "stream",
          "text": [
            "Processing files:  64%|██████▎   | 59248/92956 [16:08<08:53, 63.19it/s]"
          ]
        },
        {
          "name": "stdout",
          "output_type": "stream",
          "text": [
            "> The file ../data/converted/commonvoice-to-vctk/wav16_silence_trimmed/cv134/cv134_10987_mic1.flac probably does not have speech please check it !!\n"
          ]
        },
        {
          "name": "stderr",
          "output_type": "stream",
          "text": [
            "Processing files:  66%|██████▌   | 61269/92956 [16:43<09:58, 52.98it/s]"
          ]
        },
        {
          "name": "stdout",
          "output_type": "stream",
          "text": [
            "> The file ../data/converted/commonvoice-to-vctk/wav16_silence_trimmed/cv134/cv134_13435_mic1.flac probably does not have speech please check it !!\n"
          ]
        },
        {
          "name": "stderr",
          "output_type": "stream",
          "text": [
            "Processing files:  68%|██████▊   | 63564/92956 [17:23<08:17, 59.07it/s]"
          ]
        },
        {
          "name": "stdout",
          "output_type": "stream",
          "text": [
            "> The file ../data/converted/commonvoice-to-vctk/wav16_silence_trimmed/cv134/cv134_18451_mic1.flac probably does not have speech please check it !!\n"
          ]
        },
        {
          "name": "stderr",
          "output_type": "stream",
          "text": [
            "Processing files:  72%|███████▏  | 66836/92956 [18:19<08:01, 54.19it/s]"
          ]
        },
        {
          "name": "stdout",
          "output_type": "stream",
          "text": [
            "> The file ../data/converted/commonvoice-to-vctk/wav16_silence_trimmed/cv134/cv134_18844_mic1.flac probably does not have speech please check it !!\n"
          ]
        },
        {
          "name": "stderr",
          "output_type": "stream",
          "text": [
            "Processing files:  83%|████████▎ | 76833/92956 [21:08<04:12, 63.97it/s]"
          ]
        },
        {
          "name": "stdout",
          "output_type": "stream",
          "text": [
            "> The file ../data/converted/commonvoice-to-vctk/wav16_silence_trimmed/cv133/cv133_202_mic1.flac probably does not have speech please check it !!\n"
          ]
        },
        {
          "name": "stderr",
          "output_type": "stream",
          "text": [
            "Processing files:  90%|████████▉ | 83551/92956 [22:54<01:46, 88.34it/s]"
          ]
        },
        {
          "name": "stdout",
          "output_type": "stream",
          "text": [
            "> The file ../data/converted/commonvoice-to-vctk/wav16_silence_trimmed/cv132/cv132_116_mic1.flac probably does not have speech please check it !!\n"
          ]
        },
        {
          "name": "stderr",
          "output_type": "stream",
          "text": [
            "Processing files:  91%|█████████ | 84494/92956 [23:06<01:42, 82.26it/s]"
          ]
        },
        {
          "name": "stdout",
          "output_type": "stream",
          "text": [
            "> The file ../data/converted/commonvoice-to-vctk/wav16_silence_trimmed/cv132/cv132_5889_mic1.flac probably does not have speech please check it !!\n"
          ]
        },
        {
          "name": "stderr",
          "output_type": "stream",
          "text": [
            "Processing files:  92%|█████████▏| 85958/92956 [23:24<01:31, 76.52it/s]"
          ]
        },
        {
          "name": "stdout",
          "output_type": "stream",
          "text": [
            "> The file ../data/converted/commonvoice-to-vctk/wav16_silence_trimmed/cv132/cv132_4774_mic1.flac probably does not have speech please check it !!\n"
          ]
        },
        {
          "name": "stderr",
          "output_type": "stream",
          "text": [
            "Processing files:  94%|█████████▍| 87340/92956 [23:42<01:08, 82.32it/s]"
          ]
        },
        {
          "name": "stdout",
          "output_type": "stream",
          "text": [
            "> The file ../data/converted/commonvoice-to-vctk/wav16_silence_trimmed/cv132/cv132_923_mic1.flac probably does not have speech please check it !!\n"
          ]
        },
        {
          "name": "stderr",
          "output_type": "stream",
          "text": [
            "Processing files:  96%|█████████▌| 89001/92956 [24:02<00:46, 84.71it/s]"
          ]
        },
        {
          "name": "stdout",
          "output_type": "stream",
          "text": [
            "> The file ../data/converted/commonvoice-to-vctk/wav16_silence_trimmed/cv132/cv132_4025_mic1.flac probably does not have speech please check it !!\n"
          ]
        },
        {
          "name": "stderr",
          "output_type": "stream",
          "text": [
            "Processing files:  98%|█████████▊| 90942/92956 [24:32<00:34, 58.25it/s]"
          ]
        },
        {
          "name": "stdout",
          "output_type": "stream",
          "text": [
            "> The file ../data/converted/commonvoice-to-vctk/wav16_silence_trimmed/cv013/cv013_103_mic1.flac probably does not have speech please check it !!\n"
          ]
        },
        {
          "name": "stderr",
          "output_type": "stream",
          "text": [
            "Processing files:  99%|█████████▉| 92250/92956 [24:54<00:13, 52.81it/s]"
          ]
        },
        {
          "name": "stdout",
          "output_type": "stream",
          "text": [
            "> The file ../data/converted/commonvoice-to-vctk/wav16_silence_trimmed/cv046/cv046_030_mic1.flac probably does not have speech please check it !!\n"
          ]
        },
        {
          "name": "stderr",
          "output_type": "stream",
          "text": [
            "Processing files: 100%|██████████| 92956/92956 [25:08<00:00, 61.63it/s]"
          ]
        },
        {
          "name": "stdout",
          "output_type": "stream",
          "text": [
            "\n",
            "Processing complete\n",
            "\n",
            "Found 29 files with no speech. List saved to ../data/converted/commonvoice-to-vctk/no_speech_files.txt\n"
          ]
        },
        {
          "name": "stderr",
          "output_type": "stream",
          "text": [
            "\n"
          ]
        }
      ],
      "source": [
        "# Trim silence at the beginning and end of each audio file\n",
        "trim_silence_with_vad(\n",
        "  input_folder=\"../data/converted/commonvoice-to-vctk/wav16_silence_trimmed\",\n",
        "  file_extension=\"flac\",\n",
        ")"
      ]
    },
    {
      "cell_type": "code",
      "execution_count": 12,
      "metadata": {},
      "outputs": [
        {
          "name": "stdout",
          "output_type": "stream",
          "text": [
            "\u001b[33mWARNING: Adjusting will lead to clipping of 1.5261380000000009 dB\u001b[0m\n",
            "\u001b[33mWARNING: Adjusting will lead to clipping of 0.36193899999999957 dB\u001b[0m\n",
            "\u001b[33mWARNING: Adjusting will lead to clipping of 2.7718960000000017 dB\u001b[0m\n",
            "\u001b[33mWARNING: Adjusting will lead to clipping of 0.22028600000000154 dB\u001b[0m\n",
            "\u001b[33mWARNING: Adjusting will lead to clipping of 0.7580759999999991 dB\u001b[0m\n",
            "\u001b[33mWARNING: Adjusting will lead to clipping of 0.5259640000000019 dB\u001b[0m\n",
            "\u001b[33mWARNING: Adjusting will lead to clipping of 0.7675680000000003 dB\u001b[0m\n"
          ]
        }
      ],
      "source": [
        "# Normalize the volume of all audio files to -27dB\n",
        "!find \"../data/converted/commonvoice-to-vctk/wav16_silence_trimmed\" -type f -name \"*.flac\" -exec sh -c 'ffmpeg-normalize \"$1\" -nt rms -t=-27 -o \"$1\" -ar 16000 -f -ext flac -c:a flac' _ {} \\;"
      ]
    },
    {
      "cell_type": "markdown",
      "metadata": {},
      "source": [
        "# Create metadata"
      ]
    },
    {
      "cell_type": "code",
      "execution_count": null,
      "metadata": {},
      "outputs": [],
      "source": [
        "DEST_DIR = Path(DEST_DIR)\n",
        "\n",
        "json_files = {\n",
        "   'grouped_data.json': [\n",
        "       {\"client_id\": cid, \"data\": [{\"path\": d[1], \"sentence\": d[0]} for d in data]}\n",
        "       for cid, data in grouped_data.items()\n",
        "   ],\n",
        "   'language_ids.json': {'th': 1},\n",
        "   'speakers_ids.json': {cid: i for i, cid in enumerate(grouped_data)},\n",
        "   'id_mapper.json': id_mapper\n",
        "}\n",
        "\n",
        "# Write JSON files\n",
        "for filename, data in json_files.items():\n",
        "   with open(DEST_DIR / filename, 'w') as f:\n",
        "       json.dump(data, f, indent=2)\n",
        "\n",
        "# Write character files\n",
        "sorted_chars = sorted(all_chars)\n",
        "with open(DEST_DIR / 'all_chars_unicode.txt', 'w') as f:\n",
        "   f.write(''.join(c.encode('unicode_escape').decode('ascii') for c in sorted_chars))\n",
        "   \n",
        "with open(DEST_DIR / 'all_chars.txt', 'w') as f:\n",
        "   f.write(''.join(sorted_chars))"
      ]
    }
  ],
  "metadata": {
    "kernelspec": {
      "display_name": "capstone",
      "language": "python",
      "name": "python3"
    },
    "language_info": {
      "codemirror_mode": {
        "name": "ipython",
        "version": 3
      },
      "file_extension": ".py",
      "mimetype": "text/x-python",
      "name": "python",
      "nbconvert_exporter": "python",
      "pygments_lexer": "ipython3",
      "version": "3.9.19"
    }
  },
  "nbformat": 4,
  "nbformat_minor": 2
}
