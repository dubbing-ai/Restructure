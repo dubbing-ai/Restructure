{
 "cells": [
  {
   "cell_type": "markdown",
   "metadata": {},
   "source": [
    "# Import libraries"
   ]
  },
  {
   "cell_type": "code",
   "execution_count": 1,
   "metadata": {},
   "outputs": [],
   "source": [
    "import os\n",
    "from pathlib import Path\n",
    "import shutil\n",
    "from pydub import AudioSegment\n",
    "from tqdm import tqdm\n",
    "\n",
    "from TTS.bin.resample import resample_files\n",
    "from TTS.utils.vad import get_vad_model_and_utils, remove_silence"
   ]
  },
  {
   "cell_type": "markdown",
   "metadata": {},
   "source": [
    "# Moving files to the new directory"
   ]
  },
  {
   "cell_type": "code",
   "execution_count": null,
   "metadata": {},
   "outputs": [],
   "source": [
    "# Define paths\n",
    "DEST_DIR = \"../data/converted/TSync2-to-vctk\"\n",
    "DEST_TEXT_PATH = os.path.join(DEST_DIR, \"txt/Tsync2\")\n",
    "DEST_AUDIO_PATH = os.path.join(DEST_DIR, \"wav32/Tsync2\")\n",
    "SRC_AUDIO_PATH = \"../data/raw/TSync2/wav\"\n",
    "SRC_TEXT_PATH = \"../data/raw/TSync2/wrd_ph\"\n",
    "\n",
    "def convert_wav_to_flac(src_path: str, dst_path: str) -> bool:\n",
    "    \"\"\"Convert WAV file to FLAC format using pydub\"\"\"\n",
    "    try:\n",
    "        # Load WAV file\n",
    "        audio = AudioSegment.from_wav(src_path)\n",
    "        \n",
    "        # Export as FLAC\n",
    "        audio.export(\n",
    "            dst_path,\n",
    "            format=\"flac\",\n",
    "            parameters=[\n",
    "                \"-ac\", \"1\",  # mono audio\n",
    "                \"-ar\", \"32000\",  # 32kHz sample rate\n",
    "                \"-compression_level\", \"8\"  # highest compression\n",
    "            ]\n",
    "        )\n",
    "    except Exception as e:\n",
    "        print(f\"Error converting {src_path}: {str(e)}\")\n",
    "        return False\n",
    "    return True\n",
    "\n",
    "# Clean and create directories\n",
    "if os.path.exists(DEST_DIR):\n",
    "    print(\"Clearing destination folder\")\n",
    "    shutil.rmtree(DEST_DIR)\n",
    "os.makedirs(DEST_TEXT_PATH, exist_ok=True)\n",
    "os.makedirs(DEST_AUDIO_PATH, exist_ok=True)\n",
    "\n",
    "all_chars = set()\n",
    "skip_files = []\n",
    "\n",
    "# Get sorted lists of files\n",
    "audio_files = sorted(Path(SRC_AUDIO_PATH).glob(\"*.wav\"))\n",
    "text_files = sorted(Path(SRC_TEXT_PATH).glob(\"*.txt\"))\n",
    "\n",
    "# Process files with progress bar\n",
    "for i, (audio_file, text_file) in enumerate(tqdm(zip(audio_files, text_files), total=len(audio_files), desc=\"Processing files\"), 1):\n",
    "    try:\n",
    "        # Process audio\n",
    "        src_audio = str(audio_file)\n",
    "        dest_audio = os.path.join(DEST_AUDIO_PATH, f\"Tsync2_{i:03d}_mic1.flac\")\n",
    "        \n",
    "        if not convert_wav_to_flac(src_audio, dest_audio):\n",
    "            raise Exception(\"Failed to convert audio\")\n",
    "        \n",
    "        # Process text\n",
    "        with text_file.open('r', encoding='utf-8') as f:\n",
    "            clean_text = \"\".join(f.readline().strip().split(\"|\"))\n",
    "            all_chars.update(clean_text)\n",
    "        \n",
    "        dest_text = os.path.join(DEST_TEXT_PATH, f\"Tsync2_{i:03d}.txt\")\n",
    "        with open(dest_text, 'w', encoding='utf-8') as f:\n",
    "            f.write(clean_text)\n",
    "            \n",
    "    except Exception as e:\n",
    "        print(f\"Error processing pair {i}: {e}\")\n",
    "        skip_files.append(i)\n",
    "        continue\n",
    "\n",
    "print(f\"Processed {len(audio_files) - len(skip_files)} file pairs\")\n",
    "print(f\"Skipped {len(skip_files)} pairs\")\n",
    "print(f\"Unique characters found: {''.join(sorted(all_chars))}\")"
   ]
  },
  {
   "cell_type": "markdown",
   "metadata": {},
   "source": [
    "# Resample and trim audio"
   ]
  },
  {
   "cell_type": "code",
   "execution_count": null,
   "metadata": {},
   "outputs": [],
   "source": [
    "# Create destination directory if it doesn't exist\n",
    "os.makedirs(\"../data/converted/commonvoice-to-vctk/wav16_silence_trimmed\", exist_ok=True)\n",
    "\n",
    "# Copy all files from wav32 to wav16_silence_trimmed\n",
    "src_dir = \"../data/converted/commonvoice-to-vctk/wav32\"\n",
    "dst_dir = \"../data/converted/commonvoice-to-vctk/wav16_silence_trimmed\"\n",
    "\n",
    "# Walk through the source directory and copy files while preserving directory structure\n",
    "for root, dirs, files in os.walk(src_dir):\n",
    "  for dir_name in dirs:\n",
    "    src_path = os.path.join(root, dir_name)\n",
    "    dst_path = os.path.join(dst_dir, os.path.relpath(src_path, src_dir))\n",
    "    os.makedirs(dst_path, exist_ok=True)\n",
    "  \n",
    "  for file_name in files:\n",
    "    src_path = os.path.join(root, file_name)\n",
    "    dst_path = os.path.join(dst_dir, os.path.relpath(src_path, src_dir))\n",
    "    shutil.copy2(src_path, dst_path)"
   ]
  },
  {
   "cell_type": "code",
   "execution_count": null,
   "metadata": {},
   "outputs": [],
   "source": [
    "SAMPLE_RATE = 16000\n",
    "NUM_RESAMPLE_THREADS = 4\n",
    "\n",
    "resample_files(\"../data/converted/commonvoice-to-vctk/wav16_silence_trimmed\", SAMPLE_RATE, file_ext=\"flac\", n_jobs=NUM_RESAMPLE_THREADS)"
   ]
  },
  {
   "cell_type": "code",
   "execution_count": null,
   "metadata": {},
   "outputs": [],
   "source": [
    "input_folder = Path(\"../data/converted/commonvoice-to-vctk/wav16_silence_trimmed\")\n",
    "\n",
    "# Get VAD model once\n",
    "model_and_utils = get_vad_model_and_utils(use_cuda=torch.cuda.is_available(), use_onnx=False)\n",
    "\n",
    "# Get all .flac files\n",
    "flac_files = list(input_folder.glob('**/*.flac'))\n",
    "total_files = len(flac_files)\n",
    "print(f\"Found {total_files} .flac files to process\")\n",
    "\n",
    "# Track files with no speech detected\n",
    "no_speech_files = []\n",
    "\n",
    "for input_path in tqdm(flac_files, desc=\"Processing files\"):\n",
    "   # Preserve directory structure\n",
    "   relative_path = input_path.relative_to(input_folder)\n",
    "   output_path = input_folder / relative_path\n",
    "   \n",
    "   # Create subdirectories\n",
    "   output_path.parent.mkdir(parents=True, exist_ok=True)\n",
    "   \n",
    "   try:\n",
    "       output_path, is_speech = remove_silence(\n",
    "           model_and_utils,\n",
    "           str(input_path),\n",
    "           str(output_path),\n",
    "           trim_just_beginning_and_end=True,\n",
    "           use_cuda=torch.cuda.is_available()\n",
    "       )\n",
    "       # If no speech detected, add to list\n",
    "       if not is_speech:\n",
    "           no_speech_files.append(str(output_path))\n",
    "   except Exception as e:\n",
    "       print(f\"Error processing {relative_path}: {str(e)}\")\n",
    "\n",
    "print(\"\\nProcessing complete\")\n",
    "\n",
    "# Write list of files with no speech detected\n",
    "if no_speech_files:\n",
    "   log_path = input_folder.parent / \"no_speech_files.txt\"\n",
    "   with open(log_path, \"w\", encoding=\"utf-8\") as f:\n",
    "       for file in no_speech_files:\n",
    "           f.write(f\"{file}\\n\")\n",
    "   print(f\"\\nFound {len(no_speech_files)} files with no speech. List saved to {log_path}\")"
   ]
  }
 ],
 "metadata": {
  "kernelspec": {
   "display_name": "khongkhuntts-EJcUAAU7-py3.11",
   "language": "python",
   "name": "python3"
  },
  "language_info": {
   "codemirror_mode": {
    "name": "ipython",
    "version": 3
   },
   "file_extension": ".py",
   "mimetype": "text/x-python",
   "name": "python",
   "nbconvert_exporter": "python",
   "pygments_lexer": "ipython3",
   "version": "3.11.9"
  }
 },
 "nbformat": 4,
 "nbformat_minor": 2
}
