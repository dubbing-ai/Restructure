{
 "cells": [
  {
   "cell_type": "markdown",
   "metadata": {},
   "source": [
    "# Import libraries"
   ]
  },
  {
   "cell_type": "code",
   "execution_count": 20,
   "metadata": {},
   "outputs": [],
   "source": [
    "import pandas as pd\n",
    "import os\n",
    "from pathlib import Path\n",
    "import shutil\n",
    "from typing import List\n",
    "import json \n",
    "from tqdm import tqdm\n",
    "import random\n",
    "\n",
    "import concurrent.futures\n",
    "from typing import List, Tuple, Dict\n",
    "import multiprocessing\n",
    "\n",
    "import soundfile as sf\n",
    "import io\n",
    "from huggingface_hub import login\n",
    "from dotenv import load_dotenv\n",
    "\n",
    "from datasets import Dataset, DatasetDict, Audio, load_dataset\n",
    "\n",
    "import sys\n",
    "sys.path.append('..')\n",
    "from utils.audio_util import convert_mp3_to_wav, resample_audios, trim_silence_with_vad\n",
    "from utils.file_util import recursive_copy\n",
    "from utils.text_util import clean_text_cv"
   ]
  },
  {
   "cell_type": "code",
   "execution_count": null,
   "metadata": {},
   "outputs": [],
   "source": [
    "load_dotenv()\n",
    "HF_TOKEN = os.getenv(\"HUGGINGFACE_TOKEN\")\n",
    "\n",
    "login(token=HF_TOKEN)"
   ]
  },
  {
   "cell_type": "markdown",
   "metadata": {},
   "source": [
    "# Read the validated tsv"
   ]
  },
  {
   "cell_type": "code",
   "execution_count": 2,
   "metadata": {},
   "outputs": [
    {
     "name": "stderr",
     "output_type": "stream",
     "text": [
      "C:\\Users\\Ming\\AppData\\Local\\Temp\\ipykernel_13388\\1241631071.py:1: DtypeWarning: Columns (9,12) have mixed types. Specify dtype option on import or set low_memory=False.\n",
      "  validated_data = pd.read_csv('../data/raw/cv-corpus-20.0-2024-12-06/th/validated.tsv', sep='\\t')\n"
     ]
    }
   ],
   "source": [
    "validated_data = pd.read_csv('../data/raw/cv-corpus-20.0-2024-12-06/th/validated.tsv', sep='\\t')"
   ]
  },
  {
   "cell_type": "markdown",
   "metadata": {},
   "source": [
    "# Define word replacement function"
   ]
  },
  {
   "cell_type": "code",
   "execution_count": null,
   "metadata": {},
   "outputs": [],
   "source": [
    "def preprocess_words(dataframe: pd.DataFrame, column_name: str, replacing_pairs: List[List[str]]) -> pd.DataFrame:\n",
    "    for old_word, new_word in replacing_pairs:\n",
    "        dataframe[column_name] = dataframe[column_name].apply(lambda x: x.replace(old_word, new_word))\n",
    "    dataframe[column_name] = dataframe[column_name].apply(clean_text_cv)\n",
    "    return dataframe\n",
    "\n",
    "replacing_word = [\n",
    "    ['เพฃร', 'เพชร'],\n",
    "]"
   ]
  },
  {
   "cell_type": "markdown",
   "metadata": {},
   "source": [
    "# Filter and group client_id that have over 100 records"
   ]
  },
  {
   "cell_type": "code",
   "execution_count": 4,
   "metadata": {},
   "outputs": [
    {
     "name": "stderr",
     "output_type": "stream",
     "text": [
      "C:\\Users\\Ming\\AppData\\Local\\Temp\\ipykernel_13388\\2467225412.py:3: SettingWithCopyWarning: \n",
      "A value is trying to be set on a copy of a slice from a DataFrame.\n",
      "Try using .loc[row_indexer,col_indexer] = value instead\n",
      "\n",
      "See the caveats in the documentation: https://pandas.pydata.org/pandas-docs/stable/user_guide/indexing.html#returning-a-view-versus-a-copy\n",
      "  dataframe[column_name] = dataframe[column_name].apply(lambda x: x.replace(old_word, new_word))\n"
     ]
    }
   ],
   "source": [
    "filtered_data = validated_data[\n",
    "    validated_data['client_id'].map(\n",
    "        validated_data['client_id'].value_counts() >= 100\n",
    "    )\n",
    "]\n",
    "filtered_data = preprocess_words(filtered_data, 'sentence', replacing_word)\n",
    "grouped = filtered_data.groupby('client_id').agg(list)"
   ]
  },
  {
   "cell_type": "markdown",
   "metadata": {},
   "source": [
    "# Define new id instead of client_id"
   ]
  },
  {
   "cell_type": "code",
   "execution_count": 5,
   "metadata": {},
   "outputs": [],
   "source": [
    "id_mapper = {id_: f'cv{str(i+1).zfill(3)}' for i, id_ in enumerate(filtered_data['client_id'].unique())}\n",
    "\n",
    "grouped_data = {\n",
    "    id_mapper[client_id]: list(zip(sentences, paths))\n",
    "    for (client_id, (sentences, paths)) in grouped[['sentence', 'path']].iterrows()\n",
    "}"
   ]
  },
  {
   "cell_type": "markdown",
   "metadata": {},
   "source": [
    "# Moving files to the new folder"
   ]
  },
  {
   "cell_type": "code",
   "execution_count": 6,
   "metadata": {},
   "outputs": [
    {
     "name": "stdout",
     "output_type": "stream",
     "text": [
      "Clearing destination folder\n",
      "Starting parallel processing with 16 workers\n"
     ]
    },
    {
     "name": "stderr",
     "output_type": "stream",
     "text": [
      "Processing clients: 100%|██████████| 134/134 [37:46<00:00, 16.91s/it] "
     ]
    },
    {
     "name": "stdout",
     "output_type": "stream",
     "text": [
      "\n",
      "Conversion Summary:\n",
      "Total files processed successfully: 92956\n",
      "Total files failed: 0\n",
      "Total unique characters: 115\n",
      "Restructuring and conversion complete\n"
     ]
    },
    {
     "name": "stderr",
     "output_type": "stream",
     "text": [
      "\n"
     ]
    }
   ],
   "source": [
    "# Define paths\n",
    "DEST_DIR = \"../data/converted/commonvoice-to-gigaspeech\"\n",
    "DEST_TEXT_PATH = os.path.join(DEST_DIR, \"txt\")\n",
    "DEST_AUDIO_PATH = os.path.join(DEST_DIR, \"wav32\")\n",
    "SRC_AUDIO_PATH = \"../data/raw/cv-corpus-20.0-2024-12-06/th/clips\"\n",
    "\n",
    "# Number of worker threads (adjust based on your CPU)\n",
    "NUM_WORKERS = multiprocessing.cpu_count()\n",
    "\n",
    "def process_client_data(client_data: Tuple[str, List]) -> Dict:\n",
    "    \"\"\"\n",
    "    Process all data for a single client\n",
    "    \n",
    "    Args:\n",
    "        client_data: Tuple of (client_id, data)\n",
    "    \n",
    "    Returns:\n",
    "        Dict with processing results\n",
    "    \"\"\"\n",
    "    client_id, data = client_data\n",
    "    results = {\n",
    "        'client_id': client_id,\n",
    "        'processed': 0,\n",
    "        'failed': 0,\n",
    "        'chars': set()\n",
    "    }\n",
    "    \n",
    "    # Create client directories\n",
    "    client_text_dir = os.path.join(DEST_TEXT_PATH, client_id)\n",
    "    client_audio_dir = os.path.join(DEST_AUDIO_PATH, client_id)\n",
    "    os.makedirs(client_text_dir, exist_ok=True)\n",
    "    os.makedirs(client_audio_dir, exist_ok=True)\n",
    "    \n",
    "    for i, d in enumerate(data):\n",
    "        # Write text file\n",
    "        text_path = os.path.join(client_text_dir, f\"{client_id}_{(i + 1):03d}.txt\")\n",
    "        with open(text_path, 'w') as f:\n",
    "            f.write(d[0])\n",
    "            results['chars'].update(d[0])\n",
    "        \n",
    "        # Convert audio file\n",
    "        src_audio_path = os.path.join(SRC_AUDIO_PATH, d[1])\n",
    "        dst_audio_path = os.path.join(\n",
    "            client_audio_dir,\n",
    "            f\"{client_id}_{(i + 1):03d}_mic1.wav\"\n",
    "        )\n",
    "        \n",
    "        if convert_mp3_to_wav(src_audio_path, dst_audio_path):\n",
    "            results['processed'] += 1\n",
    "        else:\n",
    "            results['failed'] += 1\n",
    "    \n",
    "    return results\n",
    "\n",
    "# Clean and create directories\n",
    "if os.path.exists(DEST_DIR):\n",
    "    print(\"Clearing destination folder\")\n",
    "    shutil.rmtree(DEST_DIR)\n",
    "os.makedirs(DEST_TEXT_PATH, exist_ok=True)\n",
    "os.makedirs(DEST_AUDIO_PATH, exist_ok=True)\n",
    "\n",
    "print(f\"Starting parallel processing with {NUM_WORKERS} workers\")\n",
    "\n",
    "# Create progress bar for overall processing\n",
    "with tqdm(total=len(grouped_data), desc=\"Processing clients\") as pbar:\n",
    "    all_chars = set()\n",
    "    total_processed = 0\n",
    "    total_failed = 0\n",
    "    \n",
    "    # Process clients in parallel\n",
    "    with concurrent.futures.ThreadPoolExecutor(max_workers=NUM_WORKERS) as executor:\n",
    "        # Submit all client processing tasks\n",
    "        future_to_client = {\n",
    "            executor.submit(process_client_data, (client_id, data)): client_id \n",
    "            for client_id, data in grouped_data.items()\n",
    "        }\n",
    "        \n",
    "        # Process completed tasks\n",
    "        for future in concurrent.futures.as_completed(future_to_client):\n",
    "            client_id = future_to_client[future]\n",
    "            try:\n",
    "                result = future.result()\n",
    "                all_chars.update(result['chars'])\n",
    "                total_processed += result['processed']\n",
    "                total_failed += result['failed']\n",
    "            except Exception as e:\n",
    "                print(f\"Client {client_id} generated an exception: {str(e)}\")\n",
    "                total_failed += len(grouped_data[client_id])\n",
    "            pbar.update(1)\n",
    "\n",
    "print(\"\\nConversion Summary:\")\n",
    "print(f\"Total files processed successfully: {total_processed}\")\n",
    "print(f\"Total files failed: {total_failed}\")\n",
    "print(f\"Total unique characters: {len(all_chars)}\")\n",
    "print(\"Restructuring and conversion complete\")"
   ]
  },
  {
   "cell_type": "markdown",
   "metadata": {},
   "source": [
    "# Resample and trim audio"
   ]
  },
  {
   "cell_type": "code",
   "execution_count": 7,
   "metadata": {},
   "outputs": [],
   "source": [
    "# Create destination directory if it doesn't exist\n",
    "os.makedirs(\"../data/converted/commonvoice-to-gigaspeech/wav16_silence_trimmed\", exist_ok=True)\n",
    "\n",
    "# Copy all files from wav32 to wav16_silence_trimmed\n",
    "src_dir = \"../data/converted/commonvoice-to-gigaspeech/wav32\"\n",
    "dst_dir = \"../data/converted/commonvoice-to-gigaspeech/wav16_silence_trimmed\"\n",
    "\n",
    "recursive_copy(src_dir, dst_dir)"
   ]
  },
  {
   "cell_type": "code",
   "execution_count": 8,
   "metadata": {},
   "outputs": [
    {
     "name": "stdout",
     "output_type": "stream",
     "text": [
      "Resampling the audio files...\n",
      "Found 92956 files...\n"
     ]
    },
    {
     "name": "stderr",
     "output_type": "stream",
     "text": [
      "100%|██████████| 92956/92956 [04:34<00:00, 338.41it/s]"
     ]
    },
    {
     "name": "stdout",
     "output_type": "stream",
     "text": [
      "Done !\n"
     ]
    },
    {
     "name": "stderr",
     "output_type": "stream",
     "text": [
      "\n"
     ]
    }
   ],
   "source": [
    "# Resample all files in wav16_silence_trimmed to 16kHz\n",
    "SAMPLE_RATE = 16000\n",
    "NUM_RESAMPLE_THREADS = 4\n",
    "\n",
    "resample_audios(\n",
    "  input_folders=\"../data/converted/commonvoice-to-gigaspeech/wav16_silence_trimmed\",\n",
    "  file_ext=\"wav\",\n",
    "  sample_rate=SAMPLE_RATE,\n",
    "  n_jobs=NUM_RESAMPLE_THREADS\n",
    ")"
   ]
  },
  {
   "cell_type": "code",
   "execution_count": 2,
   "metadata": {},
   "outputs": [
    {
     "name": "stderr",
     "output_type": "stream",
     "text": [
      "Downloading: \"https://github.com/snakers4/silero-vad/zipball/master\" to C:\\Users\\Ming/.cache\\torch\\hub\\master.zip\n"
     ]
    },
    {
     "name": "stdout",
     "output_type": "stream",
     "text": [
      "Found 2208 .wav files to process\n"
     ]
    },
    {
     "name": "stderr",
     "output_type": "stream",
     "text": [
      "Processing files:  34%|███▍      | 753/2208 [01:06<02:02, 11.85it/s]"
     ]
    },
    {
     "name": "stdout",
     "output_type": "stream",
     "text": [
      "> The file ..\\data\\converted\\commonvoice-to-gigaspeech\\wav16_silence_trimmed\\cv129\\cv129_1593_mic1.wav probably does not have speech please check it !!\n"
     ]
    },
    {
     "name": "stderr",
     "output_type": "stream",
     "text": [
      "Processing files:  37%|███▋      | 813/2208 [01:12<02:26,  9.49it/s]"
     ]
    },
    {
     "name": "stdout",
     "output_type": "stream",
     "text": [
      "> The file ..\\data\\converted\\commonvoice-to-gigaspeech\\wav16_silence_trimmed\\cv129\\cv129_1648_mic1.wav probably does not have speech please check it !!\n"
     ]
    },
    {
     "name": "stderr",
     "output_type": "stream",
     "text": [
      "Processing files:  37%|███▋      | 820/2208 [01:13<01:53, 12.22it/s]"
     ]
    },
    {
     "name": "stdout",
     "output_type": "stream",
     "text": [
      "> The file ..\\data\\converted\\commonvoice-to-gigaspeech\\wav16_silence_trimmed\\cv129\\cv129_1652_mic1.wav probably does not have speech please check it !!\n"
     ]
    },
    {
     "name": "stderr",
     "output_type": "stream",
     "text": [
      "Processing files:  38%|███▊      | 847/2208 [01:15<02:44,  8.29it/s]"
     ]
    },
    {
     "name": "stdout",
     "output_type": "stream",
     "text": [
      "> The file ..\\data\\converted\\commonvoice-to-gigaspeech\\wav16_silence_trimmed\\cv129\\cv129_1679_mic1.wav probably does not have speech please check it !!\n"
     ]
    },
    {
     "name": "stderr",
     "output_type": "stream",
     "text": [
      "Processing files:  41%|████      | 902/2208 [01:20<01:41, 12.82it/s]"
     ]
    },
    {
     "name": "stdout",
     "output_type": "stream",
     "text": [
      "> The file ..\\data\\converted\\commonvoice-to-gigaspeech\\wav16_silence_trimmed\\cv129\\cv129_1729_mic1.wav probably does not have speech please check it !!\n"
     ]
    },
    {
     "name": "stderr",
     "output_type": "stream",
     "text": [
      "Processing files:  43%|████▎     | 954/2208 [01:24<01:57, 10.64it/s]"
     ]
    },
    {
     "name": "stdout",
     "output_type": "stream",
     "text": [
      "> The file ..\\data\\converted\\commonvoice-to-gigaspeech\\wav16_silence_trimmed\\cv129\\cv129_1775_mic1.wav probably does not have speech please check it !!\n"
     ]
    },
    {
     "name": "stderr",
     "output_type": "stream",
     "text": [
      "Processing files:  47%|████▋     | 1028/2208 [01:31<01:41, 11.64it/s]"
     ]
    },
    {
     "name": "stdout",
     "output_type": "stream",
     "text": [
      "> The file ..\\data\\converted\\commonvoice-to-gigaspeech\\wav16_silence_trimmed\\cv129\\cv129_1842_mic1.wav probably does not have speech please check it !!\n"
     ]
    },
    {
     "name": "stderr",
     "output_type": "stream",
     "text": [
      "Processing files:  47%|████▋     | 1046/2208 [01:33<01:31, 12.64it/s]"
     ]
    },
    {
     "name": "stdout",
     "output_type": "stream",
     "text": [
      "> The file ..\\data\\converted\\commonvoice-to-gigaspeech\\wav16_silence_trimmed\\cv129\\cv129_1860_mic1.wav probably does not have speech please check it !!\n"
     ]
    },
    {
     "name": "stderr",
     "output_type": "stream",
     "text": [
      "Processing files:  49%|████▉     | 1077/2208 [01:36<01:46, 10.57it/s]"
     ]
    },
    {
     "name": "stdout",
     "output_type": "stream",
     "text": [
      "> The file ..\\data\\converted\\commonvoice-to-gigaspeech\\wav16_silence_trimmed\\cv129\\cv129_1889_mic1.wav probably does not have speech please check it !!\n"
     ]
    },
    {
     "name": "stderr",
     "output_type": "stream",
     "text": [
      "Processing files:  49%|████▉     | 1090/2208 [01:37<01:23, 13.43it/s]"
     ]
    },
    {
     "name": "stdout",
     "output_type": "stream",
     "text": [
      "> The file ..\\data\\converted\\commonvoice-to-gigaspeech\\wav16_silence_trimmed\\cv129\\cv129_1899_mic1.wav probably does not have speech please check it !!\n"
     ]
    },
    {
     "name": "stderr",
     "output_type": "stream",
     "text": [
      "Processing files:  84%|████████▎ | 1847/2208 [02:54<00:28, 12.68it/s]"
     ]
    },
    {
     "name": "stdout",
     "output_type": "stream",
     "text": [
      "> The file ..\\data\\converted\\commonvoice-to-gigaspeech\\wav16_silence_trimmed\\cv129\\cv129_638_mic1.wav probably does not have speech please check it !!\n"
     ]
    },
    {
     "name": "stderr",
     "output_type": "stream",
     "text": [
      "Processing files: 100%|██████████| 2208/2208 [03:28<00:00, 10.58it/s]\n"
     ]
    },
    {
     "name": "stdout",
     "output_type": "stream",
     "text": [
      "\n",
      "Processing complete\n",
      "\n",
      "Found 11 files with no speech. List saved to ..\\data\\converted\\commonvoice-to-gigaspeech\\wav16_silence_trimmed\\no_speech_files.txt\n",
      "Finished trimming silence for cv129\n"
     ]
    },
    {
     "name": "stderr",
     "output_type": "stream",
     "text": [
      "Downloading: \"https://github.com/snakers4/silero-vad/zipball/master\" to C:\\Users\\Ming/.cache\\torch\\hub\\master.zip\n"
     ]
    },
    {
     "name": "stdout",
     "output_type": "stream",
     "text": [
      "Found 2741 .wav files to process\n"
     ]
    },
    {
     "name": "stderr",
     "output_type": "stream",
     "text": [
      "Processing files: 100%|██████████| 2741/2741 [06:37<00:00,  6.89it/s]\n"
     ]
    },
    {
     "name": "stdout",
     "output_type": "stream",
     "text": [
      "\n",
      "Processing complete\n",
      "Finished trimming silence for cv130\n"
     ]
    },
    {
     "name": "stderr",
     "output_type": "stream",
     "text": [
      "Downloading: \"https://github.com/snakers4/silero-vad/zipball/master\" to C:\\Users\\Ming/.cache\\torch\\hub\\master.zip\n"
     ]
    },
    {
     "name": "stdout",
     "output_type": "stream",
     "text": [
      "Found 3422 .wav files to process\n"
     ]
    },
    {
     "name": "stderr",
     "output_type": "stream",
     "text": [
      "Processing files:  41%|████▏     | 1416/3422 [03:02<03:59,  8.36it/s]"
     ]
    },
    {
     "name": "stdout",
     "output_type": "stream",
     "text": [
      "> The file ..\\data\\converted\\commonvoice-to-gigaspeech\\wav16_silence_trimmed\\cv131\\cv131_2196_mic1.wav probably does not have speech please check it !!\n"
     ]
    },
    {
     "name": "stderr",
     "output_type": "stream",
     "text": [
      "Processing files: 100%|██████████| 3422/3422 [07:47<00:00,  7.32it/s]\n"
     ]
    },
    {
     "name": "stdout",
     "output_type": "stream",
     "text": [
      "\n",
      "Processing complete\n",
      "\n",
      "Found 1 files with no speech. List saved to ..\\data\\converted\\commonvoice-to-gigaspeech\\wav16_silence_trimmed\\no_speech_files.txt\n",
      "Finished trimming silence for cv131\n"
     ]
    },
    {
     "name": "stderr",
     "output_type": "stream",
     "text": [
      "Downloading: \"https://github.com/snakers4/silero-vad/zipball/master\" to C:\\Users\\Ming/.cache\\torch\\hub\\master.zip\n"
     ]
    },
    {
     "name": "stdout",
     "output_type": "stream",
     "text": [
      "Found 6081 .wav files to process\n"
     ]
    },
    {
     "name": "stderr",
     "output_type": "stream",
     "text": [
      "Processing files:   5%|▍         | 285/6081 [00:36<11:50,  8.16it/s]"
     ]
    },
    {
     "name": "stdout",
     "output_type": "stream",
     "text": [
      "> The file ..\\data\\converted\\commonvoice-to-gigaspeech\\wav16_silence_trimmed\\cv132\\cv132_116_mic1.wav probably does not have speech please check it !!\n"
     ]
    },
    {
     "name": "stderr",
     "output_type": "stream",
     "text": [
      "Processing files:  56%|█████▋    | 3428/6081 [06:53<04:15, 10.38it/s]"
     ]
    },
    {
     "name": "stdout",
     "output_type": "stream",
     "text": [
      "> The file ..\\data\\converted\\commonvoice-to-gigaspeech\\wav16_silence_trimmed\\cv132\\cv132_4025_mic1.wav probably does not have speech please check it !!\n"
     ]
    },
    {
     "name": "stderr",
     "output_type": "stream",
     "text": [
      "Processing files:  70%|██████▉   | 4252/6081 [08:29<03:15,  9.37it/s]"
     ]
    },
    {
     "name": "stdout",
     "output_type": "stream",
     "text": [
      "> The file ..\\data\\converted\\commonvoice-to-gigaspeech\\wav16_silence_trimmed\\cv132\\cv132_4774_mic1.wav probably does not have speech please check it !!\n"
     ]
    },
    {
     "name": "stderr",
     "output_type": "stream",
     "text": [
      "Processing files:  90%|█████████ | 5477/6081 [10:48<00:58, 10.30it/s]"
     ]
    },
    {
     "name": "stdout",
     "output_type": "stream",
     "text": [
      "> The file ..\\data\\converted\\commonvoice-to-gigaspeech\\wav16_silence_trimmed\\cv132\\cv132_5889_mic1.wav probably does not have speech please check it !!\n"
     ]
    },
    {
     "name": "stderr",
     "output_type": "stream",
     "text": [
      "Processing files:  99%|█████████▉| 6007/6081 [11:53<00:07,  9.30it/s]"
     ]
    },
    {
     "name": "stdout",
     "output_type": "stream",
     "text": [
      "> The file ..\\data\\converted\\commonvoice-to-gigaspeech\\wav16_silence_trimmed\\cv132\\cv132_923_mic1.wav probably does not have speech please check it !!\n"
     ]
    },
    {
     "name": "stderr",
     "output_type": "stream",
     "text": [
      "Processing files: 100%|██████████| 6081/6081 [12:03<00:00,  8.41it/s]\n"
     ]
    },
    {
     "name": "stdout",
     "output_type": "stream",
     "text": [
      "\n",
      "Processing complete\n",
      "\n",
      "Found 5 files with no speech. List saved to ..\\data\\converted\\commonvoice-to-gigaspeech\\wav16_silence_trimmed\\no_speech_files.txt\n",
      "Finished trimming silence for cv132\n"
     ]
    },
    {
     "name": "stderr",
     "output_type": "stream",
     "text": [
      "Downloading: \"https://github.com/snakers4/silero-vad/zipball/master\" to C:\\Users\\Ming/.cache\\torch\\hub\\master.zip\n"
     ]
    },
    {
     "name": "stdout",
     "output_type": "stream",
     "text": [
      "Found 9669 .wav files to process\n"
     ]
    },
    {
     "name": "stderr",
     "output_type": "stream",
     "text": [
      "Processing files:  13%|█▎        | 1233/9669 [03:31<21:49,  6.44it/s]"
     ]
    },
    {
     "name": "stdout",
     "output_type": "stream",
     "text": [
      "> The file ..\\data\\converted\\commonvoice-to-gigaspeech\\wav16_silence_trimmed\\cv133\\cv133_202_mic1.wav probably does not have speech please check it !!\n"
     ]
    },
    {
     "name": "stderr",
     "output_type": "stream",
     "text": [
      "Processing files: 100%|██████████| 9669/9669 [25:07<00:00,  6.41it/s]\n"
     ]
    },
    {
     "name": "stdout",
     "output_type": "stream",
     "text": [
      "\n",
      "Processing complete\n",
      "\n",
      "Found 1 files with no speech. List saved to ..\\data\\converted\\commonvoice-to-gigaspeech\\wav16_silence_trimmed\\no_speech_files.txt\n",
      "Finished trimming silence for cv133\n"
     ]
    },
    {
     "name": "stderr",
     "output_type": "stream",
     "text": [
      "Downloading: \"https://github.com/snakers4/silero-vad/zipball/master\" to C:\\Users\\Ming/.cache\\torch\\hub\\master.zip\n"
     ]
    },
    {
     "name": "stdout",
     "output_type": "stream",
     "text": [
      "Found 26698 .wav files to process\n"
     ]
    },
    {
     "name": "stderr",
     "output_type": "stream",
     "text": [
      "Processing files:   4%|▍         | 1195/26698 [03:11<1:09:26,  6.12it/s]"
     ]
    },
    {
     "name": "stdout",
     "output_type": "stream",
     "text": [
      "> The file ..\\data\\converted\\commonvoice-to-gigaspeech\\wav16_silence_trimmed\\cv134\\cv134_10987_mic1.wav probably does not have speech please check it !!\n"
     ]
    },
    {
     "name": "stderr",
     "output_type": "stream",
     "text": [
      "Processing files:  15%|█▍        | 3911/26698 [11:15<1:06:06,  5.74it/s]"
     ]
    },
    {
     "name": "stdout",
     "output_type": "stream",
     "text": [
      "> The file ..\\data\\converted\\commonvoice-to-gigaspeech\\wav16_silence_trimmed\\cv134\\cv134_13435_mic1.wav probably does not have speech please check it !!\n"
     ]
    },
    {
     "name": "stderr",
     "output_type": "stream",
     "text": [
      "Processing files:  24%|██▎       | 6322/26698 [18:30<1:01:32,  5.52it/s]"
     ]
    },
    {
     "name": "stdout",
     "output_type": "stream",
     "text": [
      "> The file ..\\data\\converted\\commonvoice-to-gigaspeech\\wav16_silence_trimmed\\cv134\\cv134_15607_mic1.wav probably does not have speech please check it !!\n"
     ]
    },
    {
     "name": "stderr",
     "output_type": "stream",
     "text": [
      "Processing files:  36%|███▌      | 9481/26698 [28:19<55:57,  5.13it/s]  "
     ]
    },
    {
     "name": "stdout",
     "output_type": "stream",
     "text": [
      "> The file ..\\data\\converted\\commonvoice-to-gigaspeech\\wav16_silence_trimmed\\cv134\\cv134_18451_mic1.wav probably does not have speech please check it !!\n"
     ]
    },
    {
     "name": "stderr",
     "output_type": "stream",
     "text": [
      "Processing files:  37%|███▋      | 9917/26698 [29:43<44:42,  6.26it/s]  "
     ]
    },
    {
     "name": "stdout",
     "output_type": "stream",
     "text": [
      "> The file ..\\data\\converted\\commonvoice-to-gigaspeech\\wav16_silence_trimmed\\cv134\\cv134_18844_mic1.wav probably does not have speech please check it !!\n"
     ]
    },
    {
     "name": "stderr",
     "output_type": "stream",
     "text": [
      "Processing files:  94%|█████████▍| 25228/26698 [1:08:34<03:44,  6.54it/s]"
     ]
    },
    {
     "name": "stdout",
     "output_type": "stream",
     "text": [
      "> The file ..\\data\\converted\\commonvoice-to-gigaspeech\\wav16_silence_trimmed\\cv134\\cv134_8662_mic1.wav probably does not have speech please check it !!\n"
     ]
    },
    {
     "name": "stderr",
     "output_type": "stream",
     "text": [
      "Processing files: 100%|██████████| 26698/26698 [1:12:36<00:00,  6.13it/s]"
     ]
    },
    {
     "name": "stdout",
     "output_type": "stream",
     "text": [
      "\n",
      "Processing complete\n",
      "\n",
      "Found 6 files with no speech. List saved to ..\\data\\converted\\commonvoice-to-gigaspeech\\wav16_silence_trimmed\\no_speech_files.txt\n",
      "Finished trimming silence for cv134\n"
     ]
    },
    {
     "name": "stderr",
     "output_type": "stream",
     "text": [
      "\n"
     ]
    }
   ],
   "source": [
    "# Trim silence at the beginning and end of each audio file\n",
    "for folder in os.listdir(\"../data/converted/commonvoice-to-gigaspeech/wav16_silence_trimmed\"):\n",
    "    if folder in [f'cv{id}' for id in [129, 130, 131, 132, 133, 134]]:\n",
    "      trim_silence_with_vad(\n",
    "          input_folder=os.path.join(\"../data/converted/commonvoice-to-gigaspeech/wav16_silence_trimmed\", folder),\n",
    "          file_extension=\"wav\",\n",
    "      )\n",
    "      print(f\"Finished trimming silence for {folder}\")\n",
    "# trim_silence_with_vad(\n",
    "#   input_folder=\"../data/converted/commonvoice-to-gigaspeech/wav16_silence_trimmed\",\n",
    "#   file_extension=\"wav\",\n",
    "# )"
   ]
  },
  {
   "cell_type": "code",
   "execution_count": null,
   "metadata": {},
   "outputs": [],
   "source": [
    "\"\"\"TODO: Normalize wav files' volume to -27dB\"\"\"\n",
    "\n",
    "# # Normalize the volume of all audio files to -27dB\n",
    "# !find \"../data/converted/TSync2-to-vctk/wav16_silence_trimmed\" -type f -name \"*.flac\" -exec sh -c 'ffmpeg-normalize \"$1\" -nt rms -t=-27 -o \"$1\" -ar 16000 -f -ext flac -c:a flac' _ {} \\;"
   ]
  },
  {
   "cell_type": "markdown",
   "metadata": {},
   "source": [
    "# Create Dataset"
   ]
  },
  {
   "cell_type": "code",
   "execution_count": 23,
   "metadata": {},
   "outputs": [
    {
     "name": "stderr",
     "output_type": "stream",
     "text": [
      "100%|██████████| 134/134 [00:00<00:00, 247.31it/s]"
     ]
    },
    {
     "name": "stdout",
     "output_type": "stream",
     "text": [
      "Total file pairs: 92956\n",
      "[('../data/converted/commonvoice-to-gigaspeech/txt\\\\cv001\\\\cv001_001.txt', '../data/converted/commonvoice-to-gigaspeech/wav16_silence_trimmed\\\\cv001\\\\cv001_001_mic1.wav', 'cv001_001'), ('../data/converted/commonvoice-to-gigaspeech/txt\\\\cv001\\\\cv001_002.txt', '../data/converted/commonvoice-to-gigaspeech/wav16_silence_trimmed\\\\cv001\\\\cv001_002_mic1.wav', 'cv001_002'), ('../data/converted/commonvoice-to-gigaspeech/txt\\\\cv001\\\\cv001_003.txt', '../data/converted/commonvoice-to-gigaspeech/wav16_silence_trimmed\\\\cv001\\\\cv001_003_mic1.wav', 'cv001_003'), ('../data/converted/commonvoice-to-gigaspeech/txt\\\\cv001\\\\cv001_004.txt', '../data/converted/commonvoice-to-gigaspeech/wav16_silence_trimmed\\\\cv001\\\\cv001_004_mic1.wav', 'cv001_004'), ('../data/converted/commonvoice-to-gigaspeech/txt\\\\cv001\\\\cv001_005.txt', '../data/converted/commonvoice-to-gigaspeech/wav16_silence_trimmed\\\\cv001\\\\cv001_005_mic1.wav', 'cv001_005')]\n"
     ]
    },
    {
     "name": "stderr",
     "output_type": "stream",
     "text": [
      "\n"
     ]
    }
   ],
   "source": [
    "SENTENCE_PATH = \"../data/converted/commonvoice-to-gigaspeech/txt\"\n",
    "AUDIO_PATH = \"../data/converted/commonvoice-to-gigaspeech/wav16_silence_trimmed\"\n",
    "\n",
    "file_pairs = []\n",
    "for speaker in tqdm(os.listdir(SENTENCE_PATH)):\n",
    "    speaker_sentence_path = os.path.join(SENTENCE_PATH, speaker)\n",
    "    speaker_audio_path = os.path.join(AUDIO_PATH, speaker)\n",
    "    for file in os.listdir(speaker_sentence_path):\n",
    "        file_name = file.split('.')[0]\n",
    "        sentence_file = os.path.join(speaker_sentence_path, file)\n",
    "        audio_file = os.path.join(speaker_audio_path, file_name + '_mic1.wav')\n",
    "        file_pairs.append((sentence_file, audio_file, file.split('.')[0]))\n",
    "\n",
    "print(f\"Total file pairs: {len(file_pairs)}\")\n",
    "print(file_pairs[:5])"
   ]
  },
  {
   "cell_type": "markdown",
   "metadata": {},
   "source": [
    "# Train-Val-Test Split"
   ]
  },
  {
   "cell_type": "code",
   "execution_count": null,
   "metadata": {},
   "outputs": [
    {
     "name": "stdout",
     "output_type": "stream",
     "text": [
      "Train pairs: 74364\n",
      "Val pairs: 930\n",
      "Test pairs: 17662\n"
     ]
    }
   ],
   "source": [
    "random.seed(42)\n",
    "random.shuffle(file_pairs)\n",
    "\n",
    "train_ratio, val_ratio, test_ratio = 0.8, 0.1, 0.1\n",
    "train_pairs = file_pairs[:int(len(file_pairs) * train_ratio)]\n",
    "val_pairs = file_pairs[int(len(file_pairs) * train_ratio): int(len(file_pairs) * (train_ratio + val_ratio))]\n",
    "test_pairs = file_pairs[int(len(file_pairs) * (train_ratio + val_ratio)):]\n",
    "\n",
    "print(f\"Train pairs: {len(train_pairs)}\")\n",
    "print(f\"Val pairs: {len(val_pairs)}\")\n",
    "print(f\"Test pairs: {len(test_pairs)}\")"
   ]
  },
  {
   "cell_type": "code",
   "execution_count": 30,
   "metadata": {},
   "outputs": [],
   "source": [
    "def load_data(filepairs):\n",
    "    features = ['segment_id', 'speaker', 'text', 'audio', 'begin_time', 'end_time', 'audio_id', 'title', 'url', 'source', 'category', 'original_full_path']\n",
    "    data = {f: [] for f in features}\n",
    "\n",
    "    for txt_file, wav_file, file_name in tqdm(filepairs):\n",
    "        \n",
    "        segment_id = file_name\n",
    "        speaker = file_name.split('_')[0]\n",
    "\n",
    "        with open(txt_file, 'r') as f:\n",
    "            text = f.readline().strip()\n",
    "        with open(wav_file, 'rb') as f: \n",
    "            audio_bytes = f.read()\n",
    "            \n",
    "        file_like_object = io.BytesIO(audio_bytes)\n",
    "        audio_array, sr = sf.read(file_like_object)\n",
    "\n",
    "        begin_time = 0.0\n",
    "        end_time = audio_array.shape[0] / sr\n",
    "        audio_id = file_name\n",
    "        title = file_name\n",
    "        url = 'N/A'\n",
    "        source = 'cv-corpus-20.0-2024-12-06'\n",
    "        category = 10\n",
    "        original_full_path = ''\n",
    "\n",
    "        data['segment_id'].append(segment_id)\n",
    "        data['speaker'].append(speaker)\n",
    "        data['text'].append(text)\n",
    "        data['audio'].append(wav_file)\n",
    "        data['begin_time'].append(begin_time)\n",
    "        data['end_time'].append(end_time)\n",
    "        data['audio_id'].append(audio_id)\n",
    "        data['title'].append(title)\n",
    "        data['url'].append(url)\n",
    "        data['source'].append(source)\n",
    "        data['category'].append(category)\n",
    "        data['original_full_path'].append(original_full_path)\n",
    "\n",
    "    return Dataset.from_dict(data).cast_column(\"audio\", Audio(sampling_rate=16000))"
   ]
  },
  {
   "cell_type": "code",
   "execution_count": null,
   "metadata": {},
   "outputs": [],
   "source": [
    "train_data = load_data(train_pairs)\n",
    "val_data = load_data(val_pairs)\n",
    "test_data = load_data(test_pairs)"
   ]
  },
  {
   "cell_type": "code",
   "execution_count": 32,
   "metadata": {},
   "outputs": [
    {
     "name": "stdout",
     "output_type": "stream",
     "text": [
      "{'segment_id': 'cv129_2145', 'speaker': 'cv129', 'text': 'ผมก็มีในสต็อกนะ แต่เดี๋ยวต้องออกไปซื้ออีก', 'audio': {'path': '../data/converted/commonvoice-to-gigaspeech/wav16_silence_trimmed\\\\cv129\\\\cv129_2145_mic1.wav', 'array': array([0.00000000e+00, 0.00000000e+00, 0.00000000e+00, ...,\n",
      "       9.15527344e-05, 6.10351562e-05, 9.15527344e-05]), 'sampling_rate': 16000}, 'begin_time': 0.0, 'end_time': 3.29, 'audio_id': 'cv129_2145', 'title': 'cv129_2145', 'url': 'N/A', 'source': 'cv-corpus-20.0-2024-12-06', 'category': 10, 'original_full_path': ''}\n"
     ]
    }
   ],
   "source": [
    "print(val_data[0])"
   ]
  },
  {
   "cell_type": "code",
   "execution_count": null,
   "metadata": {},
   "outputs": [],
   "source": [
    "dataset_dict = DatasetDict({'train': train_data, 'validation': val_data, 'test': test_data})\n",
    "print(dataset_dict)"
   ]
  },
  {
   "cell_type": "markdown",
   "metadata": {},
   "source": [
    "# Push to Huggingface Hub"
   ]
  },
  {
   "cell_type": "code",
   "execution_count": null,
   "metadata": {},
   "outputs": [],
   "source": [
    "dataset_dict.push_to_hub('dubbing-ai/commonvoice-to-gigaspeech')"
   ]
  }
 ],
 "metadata": {
  "kernelspec": {
   "display_name": "voicecraft",
   "language": "python",
   "name": "python3"
  },
  "language_info": {
   "codemirror_mode": {
    "name": "ipython",
    "version": 3
   },
   "file_extension": ".py",
   "mimetype": "text/x-python",
   "name": "python",
   "nbconvert_exporter": "python",
   "pygments_lexer": "ipython3",
   "version": "3.9.20"
  }
 },
 "nbformat": 4,
 "nbformat_minor": 2
}
