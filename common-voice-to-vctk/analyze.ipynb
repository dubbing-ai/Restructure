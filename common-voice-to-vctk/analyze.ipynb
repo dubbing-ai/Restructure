{
 "cells": [
  {
   "cell_type": "code",
   "execution_count": 1,
   "metadata": {},
   "outputs": [],
   "source": [
    "import pandas as pd"
   ]
  },
  {
   "cell_type": "code",
   "execution_count": 2,
   "metadata": {},
   "outputs": [
    {
     "name": "stdout",
     "output_type": "stream",
     "text": [
      "<class 'pandas.core.frame.DataFrame'>\n",
      "RangeIndex: 148057 entries, 0 to 148056\n",
      "Data columns (total 13 columns):\n",
      " #   Column           Non-Null Count   Dtype  \n",
      "---  ------           --------------   -----  \n",
      " 0   client_id        148057 non-null  object \n",
      " 1   path             148057 non-null  object \n",
      " 2   sentence_id      148057 non-null  object \n",
      " 3   sentence         148057 non-null  object \n",
      " 4   sentence_domain  0 non-null       float64\n",
      " 5   up_votes         148057 non-null  int64  \n",
      " 6   down_votes       148057 non-null  int64  \n",
      " 7   age              91972 non-null   object \n",
      " 8   gender           90123 non-null   object \n",
      " 9   accents          3272 non-null    object \n",
      " 10  variant          0 non-null       float64\n",
      " 11  locale           148057 non-null  object \n",
      " 12  segment          30 non-null      object \n",
      "dtypes: float64(2), int64(2), object(9)\n",
      "memory usage: 14.7+ MB\n"
     ]
    },
    {
     "name": "stderr",
     "output_type": "stream",
     "text": [
      "/var/folders/m1/7w22yfgd6sb1ncmg34nvzblc0000gn/T/ipykernel_45790/1014217682.py:1: DtypeWarning: Columns (9,12) have mixed types. Specify dtype option on import or set low_memory=False.\n",
      "  df = pd.read_csv('./cv-corpus-20.0-2024-12-06/th/validated.tsv', sep='\\t')\n"
     ]
    }
   ],
   "source": [
    "df = pd.read_csv('./cv-corpus-20.0-2024-12-06/th/validated.tsv', sep='\\t')\n",
    "df.info()"
   ]
  },
  {
   "cell_type": "code",
   "execution_count": 3,
   "metadata": {},
   "outputs": [
    {
     "data": {
      "text/plain": [
       "131"
      ]
     },
     "execution_count": 3,
     "metadata": {},
     "output_type": "execute_result"
    }
   ],
   "source": [
    "client_id_counts = df['client_id'].value_counts()\n",
    "filtered_counts = client_id_counts[client_id_counts > 100].to_list()\n",
    "len(filtered_counts)"
   ]
  },
  {
   "cell_type": "code",
   "execution_count": 4,
   "metadata": {},
   "outputs": [
    {
     "name": "stdout",
     "output_type": "stream",
     "text": [
      "Minimum data: 13100\n"
     ]
    }
   ],
   "source": [
    "print('Minimum data:',100*131)"
   ]
  }
 ],
 "metadata": {
  "kernelspec": {
   "display_name": "capstone",
   "language": "python",
   "name": "python3"
  },
  "language_info": {
   "codemirror_mode": {
    "name": "ipython",
    "version": 3
   },
   "file_extension": ".py",
   "mimetype": "text/x-python",
   "name": "python",
   "nbconvert_exporter": "python",
   "pygments_lexer": "ipython3",
   "version": "3.9.19"
  }
 },
 "nbformat": 4,
 "nbformat_minor": 2
}
